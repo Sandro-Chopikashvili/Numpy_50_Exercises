{
 "cells": [
  {
   "cell_type": "markdown",
   "id": "6293cc50",
   "metadata": {},
   "source": [
    "# 100 numpy exercises\n",
    "\n",
    "This is a collection of exercises that have been collected in the numpy mailing list, on stack overflow\n",
    "and in the numpy documentation. The goal of this collection is to offer a quick reference for both old\n",
    "and new users but also to provide a set of exercises for those who teach.\n",
    "\n",
    "\n",
    "If you find an error or think you've a better way to solve some of them, feel\n",
    "free to open an issue at <https://github.com/rougier/numpy-100>."
   ]
  },
  {
   "cell_type": "markdown",
   "id": "a167c052",
   "metadata": {},
   "source": [
    "File automatically generated. See the documentation to update questions/answers/hints programmatically."
   ]
  },
  {
   "cell_type": "markdown",
   "id": "57fc0ee5",
   "metadata": {},
   "source": [
    "Run the `initialize.py` module, then for each question you can query the\n",
    "answer or an hint with `hint(n)` or `answer(n)` for `n` question number."
   ]
  },
  {
   "cell_type": "markdown",
   "id": "3c1222ff",
   "metadata": {},
   "source": [
    "#### 1. Import the numpy package under the name `np` (★☆☆)"
   ]
  },
  {
   "cell_type": "code",
   "execution_count": 14,
   "id": "f52e6a0b",
   "metadata": {},
   "outputs": [],
   "source": [
    "import numpy as np"
   ]
  },
  {
   "cell_type": "markdown",
   "id": "9d9f4753",
   "metadata": {},
   "source": [
    "#### 2. Print the numpy version and the configuration (★☆☆)"
   ]
  },
  {
   "cell_type": "code",
   "execution_count": 15,
   "id": "b7fa5fa1",
   "metadata": {},
   "outputs": [
    {
     "name": "stdout",
     "output_type": "stream",
     "text": [
      "{\n",
      "  \"Compilers\": {\n",
      "    \"c\": {\n",
      "      \"name\": \"msvc\",\n",
      "      \"linker\": \"link\",\n",
      "      \"version\": \"19.29.30159\",\n",
      "      \"commands\": \"cl\"\n",
      "    },\n",
      "    \"cython\": {\n",
      "      \"name\": \"cython\",\n",
      "      \"linker\": \"cython\",\n",
      "      \"version\": \"3.0.12\",\n",
      "      \"commands\": \"cython\"\n",
      "    },\n",
      "    \"c++\": {\n",
      "      \"name\": \"msvc\",\n",
      "      \"linker\": \"link\",\n",
      "      \"version\": \"19.29.30159\",\n",
      "      \"commands\": \"cl\"\n",
      "    }\n",
      "  },\n",
      "  \"Machine Information\": {\n",
      "    \"host\": {\n",
      "      \"cpu\": \"x86_64\",\n",
      "      \"family\": \"x86_64\",\n",
      "      \"endian\": \"little\",\n",
      "      \"system\": \"windows\"\n",
      "    },\n",
      "    \"build\": {\n",
      "      \"cpu\": \"x86_64\",\n",
      "      \"family\": \"x86_64\",\n",
      "      \"endian\": \"little\",\n",
      "      \"system\": \"windows\"\n",
      "    }\n",
      "  },\n",
      "  \"Build Dependencies\": {\n",
      "    \"blas\": {\n",
      "      \"name\": \"scipy-openblas\",\n",
      "      \"found\": true,\n",
      "      \"version\": \"0.3.28\",\n",
      "      \"detection method\": \"pkgconfig\",\n",
      "      \"include directory\": \"C:/Users/runneradmin/AppData/Local/Temp/cibw-run-uz4hj350/cp311-win_amd64/build/venv/Lib/site-packages/scipy_openblas64/include\",\n",
      "      \"lib directory\": \"C:/Users/runneradmin/AppData/Local/Temp/cibw-run-uz4hj350/cp311-win_amd64/build/venv/Lib/site-packages/scipy_openblas64/lib\",\n",
      "      \"openblas configuration\": \"OpenBLAS 0.3.28  USE64BITINT DYNAMIC_ARCH NO_AFFINITY Haswell MAX_THREADS=24\",\n",
      "      \"pc file directory\": \"D:/a/numpy/numpy/.openblas\"\n",
      "    },\n",
      "    \"lapack\": {\n",
      "      \"name\": \"scipy-openblas\",\n",
      "      \"found\": true,\n",
      "      \"version\": \"0.3.28\",\n",
      "      \"detection method\": \"pkgconfig\",\n",
      "      \"include directory\": \"C:/Users/runneradmin/AppData/Local/Temp/cibw-run-uz4hj350/cp311-win_amd64/build/venv/Lib/site-packages/scipy_openblas64/include\",\n",
      "      \"lib directory\": \"C:/Users/runneradmin/AppData/Local/Temp/cibw-run-uz4hj350/cp311-win_amd64/build/venv/Lib/site-packages/scipy_openblas64/lib\",\n",
      "      \"openblas configuration\": \"OpenBLAS 0.3.28  USE64BITINT DYNAMIC_ARCH NO_AFFINITY Haswell MAX_THREADS=24\",\n",
      "      \"pc file directory\": \"D:/a/numpy/numpy/.openblas\"\n",
      "    }\n",
      "  },\n",
      "  \"Python Information\": {\n",
      "    \"path\": \"C:\\\\Users\\\\runneradmin\\\\AppData\\\\Local\\\\Temp\\\\build-env-b9ophu4h\\\\Scripts\\\\python.exe\",\n",
      "    \"version\": \"3.11\"\n",
      "  },\n",
      "  \"SIMD Extensions\": {\n",
      "    \"baseline\": [\n",
      "      \"SSE\",\n",
      "      \"SSE2\",\n",
      "      \"SSE3\"\n",
      "    ],\n",
      "    \"found\": [\n",
      "      \"SSSE3\",\n",
      "      \"SSE41\",\n",
      "      \"POPCNT\",\n",
      "      \"SSE42\",\n",
      "      \"AVX\",\n",
      "      \"F16C\",\n",
      "      \"FMA3\",\n",
      "      \"AVX2\"\n",
      "    ],\n",
      "    \"not found\": [\n",
      "      \"AVX512F\",\n",
      "      \"AVX512CD\",\n",
      "      \"AVX512_SKX\",\n",
      "      \"AVX512_CLX\",\n",
      "      \"AVX512_CNL\",\n",
      "      \"AVX512_ICL\"\n",
      "    ]\n",
      "  }\n",
      "}\n"
     ]
    },
    {
     "name": "stderr",
     "output_type": "stream",
     "text": [
      "C:\\Users\\Sandriko\\AppData\\Local\\Packages\\PythonSoftwareFoundation.Python.3.11_qbz5n2kfra8p0\\LocalCache\\local-packages\\Python311\\site-packages\\numpy\\__config__.py:155: UserWarning: Install `pyyaml` for better output\n",
      "  warnings.warn(\"Install `pyyaml` for better output\", stacklevel=1)\n"
     ]
    }
   ],
   "source": [
    "np.__version__\n",
    "\n",
    "np.show_config()"
   ]
  },
  {
   "cell_type": "markdown",
   "id": "3e4c23c6",
   "metadata": {},
   "source": [
    "#### 3. Create a null vector of size 10 (★☆☆)"
   ]
  },
  {
   "cell_type": "code",
   "execution_count": 16,
   "id": "083c5c46",
   "metadata": {},
   "outputs": [],
   "source": [
    "null_vector = np.zeros(10)\n",
    "\n",
    "a = np.array([1],dtype='int8')"
   ]
  },
  {
   "cell_type": "markdown",
   "id": "c38bbe82",
   "metadata": {},
   "source": [
    "#### 4. How to find the memory size of any array (★☆☆)"
   ]
  },
  {
   "cell_type": "code",
   "execution_count": 17,
   "id": "02b04021",
   "metadata": {},
   "outputs": [
    {
     "data": {
      "text/plain": [
       "192"
      ]
     },
     "execution_count": 17,
     "metadata": {},
     "output_type": "execute_result"
    }
   ],
   "source": [
    "# Memory size of just the array \n",
    "null_vector.size * null_vector.itemsize\n",
    "\n",
    "# Total Memory (array setup + array)\n",
    "null_vector.__sizeof__()"
   ]
  },
  {
   "cell_type": "markdown",
   "id": "67f893d4",
   "metadata": {},
   "source": [
    "#### 5. How to get the documentation of the numpy add function from the command line? (★☆☆)"
   ]
  },
  {
   "cell_type": "code",
   "execution_count": 18,
   "id": "40e6b70d",
   "metadata": {},
   "outputs": [
    {
     "name": "stdout",
     "output_type": "stream",
     "text": [
      "add(x1, x2, /, out=None, *, where=True, casting='same_kind', order='K', dtype=None, subok=True[, signature])\n",
      "\n",
      "Add arguments element-wise.\n",
      "\n",
      "Parameters\n",
      "----------\n",
      "x1, x2 : array_like\n",
      "    The arrays to be added.\n",
      "    If ``x1.shape != x2.shape``, they must be broadcastable to a common\n",
      "    shape (which becomes the shape of the output).\n",
      "out : ndarray, None, or tuple of ndarray and None, optional\n",
      "    A location into which the result is stored. If provided, it must have\n",
      "    a shape that the inputs broadcast to. If not provided or None,\n",
      "    a freshly-allocated array is returned. A tuple (possible only as a\n",
      "    keyword argument) must have length equal to the number of outputs.\n",
      "where : array_like, optional\n",
      "    This condition is broadcast over the input. At locations where the\n",
      "    condition is True, the `out` array will be set to the ufunc result.\n",
      "    Elsewhere, the `out` array will retain its original value.\n",
      "    Note that if an uninitialized `out` array is created via the default\n",
      "    ``out=None``, locations within it where the condition is False will\n",
      "    remain uninitialized.\n",
      "**kwargs\n",
      "    For other keyword-only arguments, see the\n",
      "    :ref:`ufunc docs <ufuncs.kwargs>`.\n",
      "\n",
      "Returns\n",
      "-------\n",
      "add : ndarray or scalar\n",
      "    The sum of `x1` and `x2`, element-wise.\n",
      "    This is a scalar if both `x1` and `x2` are scalars.\n",
      "\n",
      "Notes\n",
      "-----\n",
      "Equivalent to `x1` + `x2` in terms of array broadcasting.\n",
      "\n",
      "Examples\n",
      "--------\n",
      ">>> import numpy as np\n",
      ">>> np.add(1.0, 4.0)\n",
      "5.0\n",
      ">>> x1 = np.arange(9.0).reshape((3, 3))\n",
      ">>> x2 = np.arange(3.0)\n",
      ">>> np.add(x1, x2)\n",
      "array([[  0.,   2.,   4.],\n",
      "       [  3.,   5.,   7.],\n",
      "       [  6.,   8.,  10.]])\n",
      "\n",
      "The ``+`` operator can be used as a shorthand for ``np.add`` on ndarrays.\n",
      "\n",
      ">>> x1 = np.arange(9.0).reshape((3, 3))\n",
      ">>> x2 = np.arange(3.0)\n",
      ">>> x1 + x2\n",
      "array([[ 0.,  2.,  4.],\n",
      "       [ 3.,  5.,  7.],\n",
      "       [ 6.,  8., 10.]])\n"
     ]
    }
   ],
   "source": [
    "#print(np.add.__doc__)\n",
    "\n",
    "!python -c \"import numpy as np; np.info(np.add)\""
   ]
  },
  {
   "cell_type": "markdown",
   "id": "e0c739c6",
   "metadata": {},
   "source": [
    "#### 6. Create a null vector of size 10 but the fifth value which is 1 (★☆☆)"
   ]
  },
  {
   "cell_type": "code",
   "execution_count": 19,
   "id": "bcceacf7",
   "metadata": {},
   "outputs": [],
   "source": [
    "nulls = np.zeros(10)\n",
    "nulls[4] = 1"
   ]
  },
  {
   "cell_type": "markdown",
   "id": "fbebedab",
   "metadata": {},
   "source": [
    "#### 7. Create a vector with values ranging from 10 to 49 (★☆☆)"
   ]
  },
  {
   "cell_type": "code",
   "execution_count": 20,
   "id": "3d117d54",
   "metadata": {},
   "outputs": [
    {
     "name": "stdout",
     "output_type": "stream",
     "text": [
      "[10 11 12 13 14 15 16 17 18 19 20 21 22 23 24 25 26 27 28 29 30 31 32 33\n",
      " 34 35 36 37 38 39 40 41 42 43 44 45 46 47 48 49]\n"
     ]
    }
   ],
   "source": [
    "nums = np.arange(10,50)\n",
    "\n",
    "print(nums)"
   ]
  },
  {
   "cell_type": "markdown",
   "id": "ad0bff02",
   "metadata": {},
   "source": [
    "#### 8. Reverse a vector (first element becomes last) (★☆☆)"
   ]
  },
  {
   "cell_type": "code",
   "execution_count": 21,
   "id": "22d23470",
   "metadata": {},
   "outputs": [
    {
     "name": "stdout",
     "output_type": "stream",
     "text": [
      "[49 48 47 46 45 44 43 42 41 40 39 38 37 36 35 34 33 32 31 30 29 28 27 26\n",
      " 25 24 23 22 21 20 19 18 17 16 15 14 13 12 11 10]\n"
     ]
    }
   ],
   "source": [
    "reversed_nums = nums[::-1]\n",
    "\n",
    "print(reversed_nums)"
   ]
  },
  {
   "cell_type": "markdown",
   "id": "9f59d7e1",
   "metadata": {},
   "source": [
    "#### 9. Create a 3x3 matrix with values ranging from 0 to 8 (★☆☆)"
   ]
  },
  {
   "cell_type": "code",
   "execution_count": 22,
   "id": "7449e82d",
   "metadata": {},
   "outputs": [
    {
     "name": "stdout",
     "output_type": "stream",
     "text": [
      "[[0 1 2]\n",
      " [3 4 5]\n",
      " [6 7 8]]\n"
     ]
    }
   ],
   "source": [
    "matrix = np.arange(0,9).reshape((3,3))\n",
    "print(matrix)"
   ]
  },
  {
   "cell_type": "markdown",
   "id": "f374c4cf",
   "metadata": {},
   "source": [
    "#### 10. Find indices of non-zero elements from [1,2,0,0,4,0] (★☆☆)"
   ]
  },
  {
   "cell_type": "code",
   "execution_count": 23,
   "id": "1a84bed8",
   "metadata": {},
   "outputs": [
    {
     "name": "stdout",
     "output_type": "stream",
     "text": [
      "(array([0, 1, 4]),)\n"
     ]
    }
   ],
   "source": [
    "arr = np.array([1,2,0,0,4,0])\n",
    "\n",
    "# 0,1,4\n",
    "indices = np.where(arr != 0)\n",
    "print(indices)\n"
   ]
  },
  {
   "cell_type": "markdown",
   "id": "9c4707f5",
   "metadata": {},
   "source": [
    "#### 11. Create a 3x3 identity matrix (★☆☆)"
   ]
  },
  {
   "cell_type": "code",
   "execution_count": 24,
   "id": "29dc1fd3",
   "metadata": {},
   "outputs": [
    {
     "name": "stdout",
     "output_type": "stream",
     "text": [
      "[[1. 0. 0.]\n",
      " [0. 1. 0.]\n",
      " [0. 0. 1.]]\n"
     ]
    }
   ],
   "source": [
    "'''\n",
    "[1 0 0\n",
    " 0 1 0\n",
    " 0 0 1]\n",
    "'''\n",
    "identity_matrix = np.identity(3)\n",
    "\n",
    "print(identity_matrix)\n"
   ]
  },
  {
   "cell_type": "markdown",
   "id": "3bac294a",
   "metadata": {},
   "source": [
    "#### 12. Create a 3x3x3 array with random values (★☆☆)"
   ]
  },
  {
   "cell_type": "code",
   "execution_count": 25,
   "id": "eadfae67",
   "metadata": {},
   "outputs": [
    {
     "name": "stdout",
     "output_type": "stream",
     "text": [
      "[[[0.2890813  0.99608402 0.55395528]\n",
      "  [0.31659489 0.34902162 0.93857816]\n",
      "  [0.69856043 0.59999985 0.24078648]]\n",
      "\n",
      " [[0.30463411 0.55338645 0.53048978]\n",
      "  [0.24148034 0.84854119 0.62505727]\n",
      "  [0.02900265 0.59091296 0.42380445]]\n",
      "\n",
      " [[0.37270065 0.35633244 0.69187153]\n",
      "  [0.79826641 0.1356719  0.04500312]\n",
      "  [0.6623539  0.31157814 0.24431485]]]\n"
     ]
    }
   ],
   "source": [
    "randos = np.random.random((3,3,3))\n",
    "\n",
    "print(randos)"
   ]
  },
  {
   "cell_type": "markdown",
   "id": "466c2989",
   "metadata": {},
   "source": [
    "#### 13. Create a 10x10 array with random values and find the minimum and maximum values (★☆☆)"
   ]
  },
  {
   "cell_type": "code",
   "execution_count": 26,
   "id": "9a74dbfc",
   "metadata": {},
   "outputs": [
    {
     "data": {
      "text/plain": [
       "np.int32(0)"
      ]
     },
     "execution_count": 26,
     "metadata": {},
     "output_type": "execute_result"
    }
   ],
   "source": [
    "randints = np.random.randint(0,50, (10,10), )\n",
    "\n",
    "randints.max()\n",
    "randints.min()"
   ]
  },
  {
   "cell_type": "markdown",
   "id": "53a8edb2",
   "metadata": {},
   "source": [
    "#### 14. Create a random vector of size 30 and find the mean value (★☆☆)"
   ]
  },
  {
   "cell_type": "code",
   "execution_count": 27,
   "id": "6691530b",
   "metadata": {},
   "outputs": [
    {
     "data": {
      "text/plain": [
       "np.float64(0.5524424635613737)"
      ]
     },
     "execution_count": 27,
     "metadata": {},
     "output_type": "execute_result"
    }
   ],
   "source": [
    "arr30 = np.random.random(30)\n",
    "\n",
    "arr30.mean()"
   ]
  },
  {
   "cell_type": "markdown",
   "id": "cbaad31c",
   "metadata": {},
   "source": [
    "#### 15. Create a 2d array with 1 on the border and 0 inside (★☆☆)"
   ]
  },
  {
   "cell_type": "code",
   "execution_count": 28,
   "id": "ad8308e3",
   "metadata": {},
   "outputs": [
    {
     "data": {
      "text/plain": [
       "array([[1., 1., 1., 1., 1.],\n",
       "       [1., 0., 0., 0., 1.],\n",
       "       [1., 0., 0., 0., 1.],\n",
       "       [1., 0., 0., 0., 1.],\n",
       "       [1., 1., 1., 1., 1.]])"
      ]
     },
     "execution_count": 28,
     "metadata": {},
     "output_type": "execute_result"
    }
   ],
   "source": [
    "'''\n",
    "[1 1 1\n",
    " 1 0 1\n",
    " 1 1 1]\n",
    "'''\n",
    "size = 5\n",
    "ones = np.ones((size,size))\n",
    "zeros = np.zeros((size-2, size-2))\n",
    "\n",
    "ones[1:len(ones)-1, 1:len(ones)-1] = zeros\n",
    "\n",
    "ones"
   ]
  },
  {
   "cell_type": "markdown",
   "id": "c5ecc267",
   "metadata": {},
   "source": [
    "#### 16. How to add a border (filled with 0's) around an existing array? (★☆☆)"
   ]
  },
  {
   "cell_type": "code",
   "execution_count": 29,
   "id": "9d5c78c4",
   "metadata": {},
   "outputs": [],
   "source": [
    "arr = np.array([1,2,3])\n",
    "zeros = np.zeros((3,len(arr)+2))\n",
    "zeros[1,1:-1] = arr\n"
   ]
  },
  {
   "cell_type": "markdown",
   "id": "ef909b72",
   "metadata": {},
   "source": [
    "#### 17. What is the result of the following expression? (★☆☆)\n",
    "```python\n",
    "0 * np.nan\n",
    "np.nan == np.nan\n",
    "np.inf > np.nan\n",
    "np.nan - np.nan\n",
    "np.nan in set([np.nan])\n",
    "0.3 == 3 * 0.1\n",
    "```"
   ]
  },
  {
   "cell_type": "code",
   "execution_count": 30,
   "id": "3b4985f2",
   "metadata": {},
   "outputs": [],
   "source": [
    "# \n",
    "# nan\n",
    "# False\n",
    "# False\n",
    "# nan\n",
    "# True\n",
    "# False\n",
    "# "
   ]
  },
  {
   "cell_type": "markdown",
   "id": "502738ac",
   "metadata": {},
   "source": [
    "#### 18. Create a 5x5 matrix with values 1,2,3,4 just below the diagonal (★☆☆)"
   ]
  },
  {
   "cell_type": "code",
   "execution_count": 31,
   "id": "faed6e2b",
   "metadata": {},
   "outputs": [
    {
     "data": {
      "text/plain": [
       "array([[0, 0, 0, 0, 0],\n",
       "       [1, 0, 0, 0, 0],\n",
       "       [0, 2, 0, 0, 0],\n",
       "       [0, 0, 3, 0, 0],\n",
       "       [0, 0, 0, 4, 0]])"
      ]
     },
     "execution_count": 31,
     "metadata": {},
     "output_type": "execute_result"
    }
   ],
   "source": [
    "matrix = np.zeros((5,5))\n",
    "arr = np.arange(1,5)\n",
    "\n",
    "matrix[arr,arr-1] = arr\n",
    "\n",
    "matrix\n",
    "\n",
    "Z = np.diag(np.arange(1,5),k=-1)\n",
    "\n",
    "Z\n",
    "\n"
   ]
  },
  {
   "cell_type": "markdown",
   "id": "a65da660",
   "metadata": {},
   "source": [
    "#### 19. Create a 8x8 matrix and fill it with a checkerboard pattern (★☆☆)"
   ]
  },
  {
   "cell_type": "code",
   "execution_count": 32,
   "id": "ed150400",
   "metadata": {},
   "outputs": [
    {
     "data": {
      "text/plain": [
       "array([[0., 1., 0., 1., 0., 1., 0., 1.],\n",
       "       [1., 0., 1., 0., 1., 0., 1., 0.],\n",
       "       [0., 1., 0., 1., 0., 1., 0., 1.],\n",
       "       [1., 0., 1., 0., 1., 0., 1., 0.],\n",
       "       [0., 1., 0., 1., 0., 1., 0., 1.],\n",
       "       [1., 0., 1., 0., 1., 0., 1., 0.],\n",
       "       [0., 1., 0., 1., 0., 1., 0., 1.],\n",
       "       [1., 0., 1., 0., 1., 0., 1., 0.]])"
      ]
     },
     "execution_count": 32,
     "metadata": {},
     "output_type": "execute_result"
    }
   ],
   "source": [
    "checkerboard = np.zeros((8,8))\n",
    "\n",
    "checkerboard[::2, 1::2] = 1\n",
    "checkerboard[1::2, ::2] = 1 \n",
    "\n",
    "checkerboard"
   ]
  },
  {
   "cell_type": "markdown",
   "id": "9f7f9c49",
   "metadata": {},
   "source": [
    "#### 20. Consider a (6,7,8) shape array, what is the index (x,y,z) of the 100th element? (★☆☆)"
   ]
  },
  {
   "cell_type": "code",
   "execution_count": 33,
   "id": "3782b5a9",
   "metadata": {},
   "outputs": [
    {
     "name": "stdout",
     "output_type": "stream",
     "text": [
      "(np.int64(1), np.int64(5), np.int64(3))\n"
     ]
    }
   ],
   "source": [
    "arr = np.arange(0,6*7*8).reshape((6,7,8))\n",
    "\n",
    "arr[1,5,3] \n",
    "\n",
    "print(np.unravel_index(99,(6,7,8)))"
   ]
  },
  {
   "cell_type": "markdown",
   "id": "66bfda35",
   "metadata": {},
   "source": [
    "#### 21. Create a checkerboard 8x8 matrix using the tile function (★☆☆)"
   ]
  },
  {
   "cell_type": "code",
   "execution_count": 34,
   "id": "4c07477c",
   "metadata": {},
   "outputs": [
    {
     "name": "stdout",
     "output_type": "stream",
     "text": [
      "[0 1 0 1 0 1 0 1 1 0 1 0 1 0 1 0]\n"
     ]
    },
    {
     "data": {
      "text/plain": [
       "array([[0, 1, 0, 1, 0, 1, 0, 1],\n",
       "       [1, 0, 1, 0, 1, 0, 1, 0],\n",
       "       [0, 1, 0, 1, 0, 1, 0, 1],\n",
       "       [1, 0, 1, 0, 1, 0, 1, 0],\n",
       "       [0, 1, 0, 1, 0, 1, 0, 1],\n",
       "       [1, 0, 1, 0, 1, 0, 1, 0],\n",
       "       [0, 1, 0, 1, 0, 1, 0, 1],\n",
       "       [1, 0, 1, 0, 1, 0, 1, 0]])"
      ]
     },
     "execution_count": 34,
     "metadata": {},
     "output_type": "execute_result"
    }
   ],
   "source": [
    "arr = np.array([0,1])\n",
    "\n",
    "odd_row = np.tile(arr, 4)\n",
    "even_row = np.tile(arr[::-1], 4)\n",
    "\n",
    "print(np.hstack((odd_row,even_row)))\n",
    "\n",
    "np.tile(np.hstack((odd_row,even_row)),4).reshape((8,8))\n"
   ]
  },
  {
   "cell_type": "markdown",
   "id": "d5bcfc08",
   "metadata": {},
   "source": [
    "#### 22. Normalize a 5x5 random matrix (★☆☆)"
   ]
  },
  {
   "cell_type": "code",
   "execution_count": 35,
   "id": "cea6c993",
   "metadata": {},
   "outputs": [
    {
     "name": "stdout",
     "output_type": "stream",
     "text": [
      "[[0.00338983 0.00169492 0.0039548  0.00225989 0.00338983]\n",
      " [0.00508475 0.00112994 0.00338983 0.0039548  0.00225989]\n",
      " [0.00169492 0.0039548  0.0039548  0.00112994 0.00282486]\n",
      " [0.00225989 0.00056497 0.0039548  0.00282486 0.00056497]\n",
      " [0.00225989 0.         0.00508475 0.00282486 0.00451977]]\n"
     ]
    },
    {
     "data": {
      "text/plain": [
       "array([[ 0.45626575, -0.76587466,  0.86364589, -0.35849452,  0.45626575],\n",
       "       [ 1.67840617, -1.1732548 ,  0.45626575,  0.86364589, -0.35849452],\n",
       "       [-0.76587466,  0.86364589,  0.86364589, -1.1732548 ,  0.04888562],\n",
       "       [-0.35849452, -1.58063493,  0.86364589,  0.04888562, -1.58063493],\n",
       "       [-0.35849452, -1.98801507,  1.67840617,  0.04888562,  1.27102603]])"
      ]
     },
     "execution_count": 35,
     "metadata": {},
     "output_type": "execute_result"
    }
   ],
   "source": [
    "np.random.seed(42)\n",
    "\n",
    "mat = np.random.randint(0,10,(5,5))\n",
    "\n",
    "print(mat / np.linalg.det(mat))\n",
    "\n",
    "(mat - mat.mean()) / mat.std()\n"
   ]
  },
  {
   "cell_type": "markdown",
   "id": "f9a0911e",
   "metadata": {},
   "source": [
    "#### 23. Create a custom dtype that describes a color as four unsigned bytes (RGBA) (★☆☆)"
   ]
  },
  {
   "cell_type": "code",
   "execution_count": 36,
   "id": "d165044b",
   "metadata": {},
   "outputs": [],
   "source": [
    "RGBA = np.dtype('u4')\n",
    "\n"
   ]
  },
  {
   "cell_type": "markdown",
   "id": "654805b1",
   "metadata": {},
   "source": [
    "#### 24. Multiply a 5x3 matrix by a 3x2 matrix (real matrix product) (★☆☆)"
   ]
  },
  {
   "cell_type": "code",
   "execution_count": 37,
   "id": "6a42619f",
   "metadata": {},
   "outputs": [],
   "source": [
    "a = np.ones((5,3))\n",
    "b = np.ones((3,2))\n",
    "\n",
    "c = np.matmul(a,b)\n"
   ]
  },
  {
   "cell_type": "markdown",
   "id": "994c25df",
   "metadata": {},
   "source": [
    "#### 25. Given a 1D array, negate all elements which are between 3 and 8, in place. (★☆☆)"
   ]
  },
  {
   "cell_type": "code",
   "execution_count": 38,
   "id": "e4b39c03",
   "metadata": {},
   "outputs": [],
   "source": [
    "np.random.seed(42)\n",
    "\n",
    "arr = np.random.randint(0,15,10)\n",
    "\n",
    "arr\n",
    "\n",
    "neg_arr = np.where((arr>=3)&(arr<=8),arr.__neg__(),arr)\n"
   ]
  },
  {
   "cell_type": "markdown",
   "id": "b7d15d1a",
   "metadata": {},
   "source": [
    "#### 26. What is the output of the following script? (★☆☆)\n",
    "```python\n",
    "# Author: Jake VanderPlas\n",
    "\n",
    "print(sum(range(5),-1))\n",
    "from numpy import *\n",
    "print(sum(range(5),-1))\n",
    "```"
   ]
  },
  {
   "cell_type": "markdown",
   "id": "a34f0d08",
   "metadata": {},
   "source": [
    "#### 27. Consider an integer vector Z, which of these expressions are legal? (★☆☆)\n",
    "```python\n",
    "Z**Z\n",
    "2 << Z >> 2\n",
    "Z <- Z\n",
    "1j*Z\n",
    "Z/1/1\n",
    "Z<Z>Z\n",
    "```"
   ]
  },
  {
   "cell_type": "code",
   "execution_count": 39,
   "id": "4c95bc3f",
   "metadata": {},
   "outputs": [],
   "source": [
    "# 9\n",
    "# 10\n",
    "\n"
   ]
  },
  {
   "cell_type": "code",
   "execution_count": 40,
   "id": "564658fc",
   "metadata": {},
   "outputs": [
    {
     "name": "stdout",
     "output_type": "stream",
     "text": [
      "[6 3 7 4 6]\n"
     ]
    }
   ],
   "source": [
    "np.random.seed(42)\n",
    "Z = np.random.randint(0,10,5)\n",
    "\n",
    "print(Z)\n",
    "\n",
    "# 2 << Z >> 2 (bitwise shift operator)\n",
    "# 00000010 --> 100000000\n",
    "\n",
    "# Z<Z>Z\n",
    "\n",
    "\n",
    "\n"
   ]
  },
  {
   "cell_type": "markdown",
   "id": "c34e94bf",
   "metadata": {},
   "source": [
    "#### 28. What are the result of the following expressions? (★☆☆)\n",
    "```python\n",
    "np.array(0) / np.array(0)\n",
    "np.array(0) // np.array(0)\n",
    "np.array([np.nan]).astype(int).astype(float)\n",
    "```"
   ]
  },
  {
   "cell_type": "code",
   "execution_count": 41,
   "id": "56663562",
   "metadata": {},
   "outputs": [
    {
     "name": "stdout",
     "output_type": "stream",
     "text": [
      "nan\n",
      "0\n",
      "[-9.22337204e+18]\n"
     ]
    },
    {
     "name": "stderr",
     "output_type": "stream",
     "text": [
      "C:\\Users\\Sandriko\\AppData\\Local\\Temp\\ipykernel_14544\\7856763.py:6: RuntimeWarning: invalid value encountered in divide\n",
      "  print(np.array(0) / np.array(0))\n",
      "C:\\Users\\Sandriko\\AppData\\Local\\Temp\\ipykernel_14544\\7856763.py:7: RuntimeWarning: divide by zero encountered in floor_divide\n",
      "  print(np.array(0) // np.array(0))\n",
      "C:\\Users\\Sandriko\\AppData\\Local\\Temp\\ipykernel_14544\\7856763.py:8: RuntimeWarning: invalid value encountered in cast\n",
      "  print(np.array([np.nan]).astype(int).astype(float))\n"
     ]
    }
   ],
   "source": [
    "'''\n",
    "nan\n",
    "0\n",
    "[0.0]\n",
    "'''\n",
    "print(np.array(0) / np.array(0))\n",
    "print(np.array(0) // np.array(0))\n",
    "print(np.array([np.nan]).astype(int).astype(float))"
   ]
  },
  {
   "cell_type": "markdown",
   "id": "546f5e7b",
   "metadata": {},
   "source": [
    "#### 29. How to round away from zero a float array ? (★☆☆)"
   ]
  },
  {
   "cell_type": "code",
   "execution_count": 42,
   "id": "f725a6d2",
   "metadata": {},
   "outputs": [
    {
     "data": {
      "text/plain": [
       "array([1., 1., 1., 1., 1.])"
      ]
     },
     "execution_count": 42,
     "metadata": {},
     "output_type": "execute_result"
    }
   ],
   "source": [
    "arr = np.random.random(5)\n",
    "\n",
    "np.ceil(arr)\n",
    "\n"
   ]
  },
  {
   "cell_type": "markdown",
   "id": "eadca856",
   "metadata": {},
   "source": [
    "#### 30. How to find common values between two arrays? (★☆☆)"
   ]
  },
  {
   "cell_type": "code",
   "execution_count": 43,
   "id": "e0270b5b",
   "metadata": {},
   "outputs": [
    {
     "data": {
      "text/plain": [
       "array([5, 6, 7, 8, 9])"
      ]
     },
     "execution_count": 43,
     "metadata": {},
     "output_type": "execute_result"
    }
   ],
   "source": [
    "a = np.arange(0,10)\n",
    "b = np.arange(5,10)\n",
    "\n",
    "np.intersect1d(a,b)\n"
   ]
  },
  {
   "cell_type": "markdown",
   "id": "ca16ca22",
   "metadata": {},
   "source": [
    "#### 31. How to ignore all numpy warnings (not recommended)? (★☆☆)"
   ]
  },
  {
   "cell_type": "code",
   "execution_count": 44,
   "id": "dffebec6",
   "metadata": {},
   "outputs": [],
   "source": [
    "# np.seterr(all='ignore')"
   ]
  },
  {
   "cell_type": "markdown",
   "id": "c7871d0d",
   "metadata": {},
   "source": [
    "#### 32. Is the following expressions true? (★☆☆)\n",
    "```python\n",
    "np.sqrt(-1) == np.emath.sqrt(-1)\n",
    "```"
   ]
  },
  {
   "cell_type": "code",
   "execution_count": 45,
   "id": "acc3701a",
   "metadata": {},
   "outputs": [
    {
     "name": "stderr",
     "output_type": "stream",
     "text": [
      "C:\\Users\\Sandriko\\AppData\\Local\\Temp\\ipykernel_14544\\632064022.py:1: RuntimeWarning: invalid value encountered in sqrt\n",
      "  np.sqrt(-1) == np.emath.sqrt(-1)\n"
     ]
    },
    {
     "data": {
      "text/plain": [
       "numpy.complex128"
      ]
     },
     "execution_count": 45,
     "metadata": {},
     "output_type": "execute_result"
    }
   ],
   "source": [
    "np.sqrt(-1) == np.emath.sqrt(-1)\n",
    "\n",
    "val = np.emath.sqrt(-1)\n",
    "\n",
    "type(val)"
   ]
  },
  {
   "cell_type": "markdown",
   "id": "e0433e30",
   "metadata": {},
   "source": [
    "#### 33. How to get the dates of yesterday, today and tomorrow? (★☆☆)"
   ]
  },
  {
   "cell_type": "code",
   "execution_count": 46,
   "id": "9c4d2152",
   "metadata": {},
   "outputs": [
    {
     "name": "stdout",
     "output_type": "stream",
     "text": [
      "2025-05-14\n",
      "2025-05-16\n"
     ]
    }
   ],
   "source": [
    "# from datetime import datetime,timedelta\n",
    "\n",
    "# today = datetime.now()\n",
    "# print(today)\n",
    "\n",
    "# yesterday = today - timedelta(days=1)\n",
    "# print(yesterday)\n",
    "\n",
    "# tomorrow = today + timedelta(days=1)\n",
    "# print(tomorrow)\n",
    "\n",
    "today = np.datetime64('today')\n",
    "yesterday = today - np.timedelta64(1, 'D')\n",
    "tomorrow = today + np.timedelta64(1,'D')\n",
    "\n",
    "print(yesterday)\n",
    "print(tomorrow)\n",
    "\n",
    "\n"
   ]
  },
  {
   "cell_type": "code",
   "execution_count": null,
   "id": "cb0bb845",
   "metadata": {},
   "outputs": [],
   "source": []
  },
  {
   "cell_type": "markdown",
   "id": "9f52a2ef",
   "metadata": {},
   "source": [
    "#### 34. How to get all the dates corresponding to the month of July 2016? (★★☆)"
   ]
  },
  {
   "cell_type": "code",
   "execution_count": 47,
   "id": "d6c34dec",
   "metadata": {},
   "outputs": [
    {
     "data": {
      "text/plain": [
       "array(['2016-07-01', '2016-07-02', '2016-07-03', '2016-07-04',\n",
       "       '2016-07-05', '2016-07-06', '2016-07-07', '2016-07-08',\n",
       "       '2016-07-09', '2016-07-10', '2016-07-11', '2016-07-12',\n",
       "       '2016-07-13', '2016-07-14', '2016-07-15', '2016-07-16',\n",
       "       '2016-07-17', '2016-07-18', '2016-07-19', '2016-07-20',\n",
       "       '2016-07-21', '2016-07-22', '2016-07-23', '2016-07-24',\n",
       "       '2016-07-25', '2016-07-26', '2016-07-27', '2016-07-28',\n",
       "       '2016-07-29', '2016-07-30', '2016-07-31'], dtype='datetime64[D]')"
      ]
     },
     "execution_count": 47,
     "metadata": {},
     "output_type": "execute_result"
    }
   ],
   "source": [
    "july2016 = np.datetime64('2016-07')\n",
    "\n",
    "np.arange(np.datetime64('2016-07-01'), np.datetime64('2016-08-01'))\n",
    "\n"
   ]
  },
  {
   "cell_type": "markdown",
   "id": "4a64e059",
   "metadata": {},
   "source": [
    "#### 35. How to compute ((A+B)*(-A/2)) in place (without copy)? (★★☆)"
   ]
  },
  {
   "cell_type": "code",
   "execution_count": 48,
   "id": "49267f60",
   "metadata": {},
   "outputs": [
    {
     "data": {
      "text/plain": [
       "array([ -1.,  -3.,  -6., -10.])"
      ]
     },
     "execution_count": 48,
     "metadata": {},
     "output_type": "execute_result"
    }
   ],
   "source": [
    "A = np.array([1,2,3,4], dtype='float64')\n",
    "B = np.array([1,1,1,1], dtype='float64')\n",
    "\n",
    "np.multiply(np.add(A,B,out=B), np.divide(np.negative(A,out=A),2,out=A),out=A)\n",
    "\n",
    "\n",
    "\n"
   ]
  },
  {
   "cell_type": "markdown",
   "id": "8a98c2a8",
   "metadata": {},
   "source": [
    "#### 36. Extract the integer part of a random array of positive numbers using 4 different methods (★★☆)"
   ]
  },
  {
   "cell_type": "code",
   "execution_count": 49,
   "id": "368130b3",
   "metadata": {},
   "outputs": [
    {
     "name": "stdout",
     "output_type": "stream",
     "text": [
      "[4.8351492  2.73616125 4.8634218  3.57407997 3.48864412 1.08044748\n",
      " 4.88137227 0.03115128 1.26491181 2.17395766]\n",
      "[4. 2. 4. 3. 3. 1. 4. 0. 1. 2.]\n",
      "[4. 2. 4. 3. 3. 1. 4. 0. 1. 2.]\n",
      "[4. 2. 4. 3. 3. 1. 4. 0. 1. 2.]\n"
     ]
    },
    {
     "data": {
      "text/plain": [
       "array([4, 2, 4, 3, 3, 1, 4, 0, 1, 2], dtype=int8)"
      ]
     },
     "execution_count": 49,
     "metadata": {},
     "output_type": "execute_result"
    }
   ],
   "source": [
    "np.random.seed(4)\n",
    "\n",
    "arr = np.random.random(10)*5\n",
    "\n",
    "print(arr)\n",
    "\n",
    "# Method 1\n",
    "print(arr // 1)\n",
    "\n",
    "# Method 2\n",
    "print(np.floor(arr))\n",
    "\n",
    "# Method 3\n",
    "print(np.ceil(arr)-1)\n",
    "\n",
    "# Method 4\n",
    "arr.astype('int8')\n",
    "\n"
   ]
  },
  {
   "cell_type": "code",
   "execution_count": null,
   "id": "f3ac6e5f",
   "metadata": {},
   "outputs": [],
   "source": []
  },
  {
   "cell_type": "markdown",
   "id": "5a2e3d85",
   "metadata": {},
   "source": [
    "#### 37. Create a 5x5 matrix with row values ranging from 0 to 4 (★★☆)"
   ]
  },
  {
   "cell_type": "code",
   "execution_count": 50,
   "id": "1d974e8f",
   "metadata": {},
   "outputs": [
    {
     "data": {
      "text/plain": [
       "array([[0, 1, 2, 3, 4],\n",
       "       [0, 1, 2, 3, 4],\n",
       "       [0, 1, 2, 3, 4],\n",
       "       [0, 1, 2, 3, 4],\n",
       "       [0, 1, 2, 3, 4]])"
      ]
     },
     "execution_count": 50,
     "metadata": {},
     "output_type": "execute_result"
    }
   ],
   "source": [
    "matrix = np.tile(np.arange(5),5).reshape((5,5))\n",
    "\n",
    "matrix"
   ]
  },
  {
   "cell_type": "markdown",
   "id": "9720e2d5",
   "metadata": {},
   "source": [
    "#### 38. Consider a generator function that generates 10 integers and use it to build an array (★☆☆)"
   ]
  },
  {
   "cell_type": "code",
   "execution_count": 51,
   "id": "e5dd8fc9",
   "metadata": {},
   "outputs": [
    {
     "data": {
      "text/plain": [
       "array([50, 44, 38, 52,  3,  0, 55, 21, 21, 73], dtype=int32)"
      ]
     },
     "execution_count": 51,
     "metadata": {},
     "output_type": "execute_result"
    }
   ],
   "source": [
    "np.random.randint(0,100,10)"
   ]
  },
  {
   "cell_type": "markdown",
   "id": "c6f2c912",
   "metadata": {},
   "source": [
    "#### 39. Create a vector of size 10 with values ranging from 0 to 1, both excluded (★★☆)"
   ]
  },
  {
   "cell_type": "code",
   "execution_count": 52,
   "id": "6aaa27d3",
   "metadata": {},
   "outputs": [
    {
     "data": {
      "text/plain": [
       "array([0.09090909, 0.18181818, 0.27272727, 0.36363636, 0.45454545,\n",
       "       0.54545455, 0.63636364, 0.72727273, 0.81818182, 0.90909091])"
      ]
     },
     "execution_count": 52,
     "metadata": {},
     "output_type": "execute_result"
    }
   ],
   "source": [
    "np.linspace(0,1,11,endpoint=False)[1:]\n"
   ]
  },
  {
   "cell_type": "markdown",
   "id": "a36d6ee4",
   "metadata": {},
   "source": [
    "#### 40. Create a random vector of size 10 and sort it (★★☆)"
   ]
  },
  {
   "cell_type": "code",
   "execution_count": 53,
   "id": "e589d216",
   "metadata": {},
   "outputs": [
    {
     "name": "stdout",
     "output_type": "stream",
     "text": [
      "[0.0089861  0.38657128 0.04416006 0.95665297 0.43614665 0.94897731\n",
      " 0.78630599 0.8662893  0.17316542 0.07494859]\n",
      "[0.0089861  0.04416006 0.07494859 0.17316542 0.38657128 0.43614665\n",
      " 0.78630599 0.8662893  0.94897731 0.95665297]\n",
      "[0.0089861  0.38657128 0.04416006 0.95665297 0.43614665 0.94897731\n",
      " 0.78630599 0.8662893  0.17316542 0.07494859]\n"
     ]
    }
   ],
   "source": [
    "a = np.random.random(10)\n",
    "\n",
    "print(a)\n",
    "\n",
    "print(np.sort(a))\n",
    "print(a)"
   ]
  },
  {
   "cell_type": "markdown",
   "id": "0fb4ad68",
   "metadata": {},
   "source": [
    "#### 41. How to sum a small array faster than np.sum? (★★☆)"
   ]
  },
  {
   "cell_type": "code",
   "execution_count": 54,
   "id": "fc00169e",
   "metadata": {},
   "outputs": [
    {
     "data": {
      "text/plain": [
       "np.int64(10)"
      ]
     },
     "execution_count": 54,
     "metadata": {},
     "output_type": "execute_result"
    }
   ],
   "source": [
    "a = np.array([1,2,3,4])\n",
    "\n",
    "np.add.reduce(a)"
   ]
  },
  {
   "cell_type": "markdown",
   "id": "024ac365",
   "metadata": {},
   "source": [
    "#### 42. Consider two random array A and B, check if they are equal (★★☆)"
   ]
  },
  {
   "cell_type": "code",
   "execution_count": 55,
   "id": "7db3846d",
   "metadata": {},
   "outputs": [
    {
     "data": {
      "text/plain": [
       "False"
      ]
     },
     "execution_count": 55,
     "metadata": {},
     "output_type": "execute_result"
    }
   ],
   "source": [
    "A = np.array([1,2,3,8])\n",
    "B = np.array([1,2,3,3.0])\n",
    "\n",
    "bool(np.all(A==B))\n",
    "\n",
    "# Given solution\n",
    "np.allclose(A,B,atol=0)"
   ]
  },
  {
   "cell_type": "markdown",
   "id": "c68d2401",
   "metadata": {},
   "source": [
    "#### 43. Make an array immutable (read-only) (★★☆)"
   ]
  },
  {
   "cell_type": "code",
   "execution_count": 56,
   "id": "7828539d",
   "metadata": {},
   "outputs": [],
   "source": [
    "immutable_array = np.array([1, 2, 3, 4])\n",
    "immutable_array.flags.writeable = False\n"
   ]
  },
  {
   "cell_type": "markdown",
   "id": "55df6280",
   "metadata": {},
   "source": [
    "#### 44. Consider a random 10x2 matrix representing cartesian coordinates, convert them to polar coordinates (★★☆)"
   ]
  },
  {
   "cell_type": "code",
   "execution_count": 57,
   "id": "f1c86ea0",
   "metadata": {},
   "outputs": [
    {
     "name": "stdout",
     "output_type": "stream",
     "text": [
      "[[6 3]\n",
      " [7 4]\n",
      " [6 9]\n",
      " [2 6]\n",
      " [7 4]\n",
      " [3 7]\n",
      " [7 2]\n",
      " [5 4]\n",
      " [1 7]\n",
      " [5 1]]\n"
     ]
    },
    {
     "data": {
      "text/plain": [
       "array([[ 6.70820393,  0.46364761],\n",
       "       [ 8.06225775,  0.51914611],\n",
       "       [10.81665383,  0.98279372],\n",
       "       [ 6.32455532,  1.24904577],\n",
       "       [ 8.06225775,  0.51914611],\n",
       "       [ 7.61577311,  1.16590454],\n",
       "       [ 7.28010989,  0.27829966],\n",
       "       [ 6.40312424,  0.67474094],\n",
       "       [ 7.07106781,  1.42889927],\n",
       "       [ 5.09901951,  0.19739556]])"
      ]
     },
     "execution_count": 57,
     "metadata": {},
     "output_type": "execute_result"
    }
   ],
   "source": [
    "np.random.seed(42)\n",
    "\n",
    "arr = np.random.randint(0,10,(10,2))\n",
    "\n",
    "print(arr)\n",
    "'''\n",
    "(x**2 + y**2)**(1/2) = r\n",
    "arctan(y/x) = theta\n",
    "'''\n",
    "r = np.sqrt(np.sum(np.power(arr, 2),axis=1))\n",
    "theta = np.arctan(arr[:,1]/arr[:,0])\n",
    "\n",
    "polar_coords = np.column_stack((r, theta))\n",
    "polar_coords"
   ]
  },
  {
   "cell_type": "markdown",
   "id": "2f60f1ec",
   "metadata": {},
   "source": [
    "#### 45. Create random vector of size 10 and replace the maximum value by 0 (★★☆)"
   ]
  },
  {
   "cell_type": "code",
   "execution_count": 58,
   "id": "d9f48f1c",
   "metadata": {},
   "outputs": [
    {
     "data": {
      "text/plain": [
       "array([1., 1., 0., 1., 1., 0., 1., 1., 1., 1.])"
      ]
     },
     "execution_count": 58,
     "metadata": {},
     "output_type": "execute_result"
    }
   ],
   "source": [
    "arr = np.ones(10)\n",
    "arr[5] = 100\n",
    "arr[2] = 100\n",
    "\n",
    "# If only one instance\n",
    "# arr[arr.argmax()] = 0\n",
    "\n",
    "# If multiple equal max values\n",
    "arr = np.where(arr==arr.max(),0,arr)\n",
    "\n",
    "arr"
   ]
  },
  {
   "cell_type": "markdown",
   "id": "084e8ad4",
   "metadata": {},
   "source": [
    "#### 46. Create a structured array with `x` and `y` coordinates covering the [0,1]x[0,1] area (★★☆)"
   ]
  },
  {
   "cell_type": "code",
   "execution_count": 59,
   "id": "58b47c13",
   "metadata": {},
   "outputs": [],
   "source": [
    "np.random.random((100,2))\n",
    "\n",
    "Z = np.zeros((5,5), [('x',float),('y',float)])\n",
    "Z['x'], Z['y'] = np.meshgrid(np.linspace(0,1,5),\n",
    "                             np.linspace(0,1,5))\n",
    "\n"
   ]
  },
  {
   "cell_type": "markdown",
   "id": "d7b9bc42",
   "metadata": {},
   "source": [
    "#### 47. Given two arrays, X and Y, construct the Cauchy matrix C (Cij =1/(xi - yj)) (★★☆)"
   ]
  },
  {
   "cell_type": "code",
   "execution_count": 60,
   "id": "a24824fb",
   "metadata": {},
   "outputs": [],
   "source": [
    "X = np.array([1,2,3,4])\n",
    "Y = np.array([8,9])\n",
    "\n",
    "C = np.zeros((len(Y),len(X)))\n",
    "\n",
    "for i in range(len(X)):\n",
    "    for j in range(len(Y)):\n",
    "        C[j,i] = 1 / (X[i]-Y[j])\n",
    "\n"
   ]
  },
  {
   "cell_type": "markdown",
   "id": "65ebc11b",
   "metadata": {},
   "source": [
    "#### 48. Print the minimum and maximum representable value for each numpy scalar type (★★☆)"
   ]
  },
  {
   "cell_type": "code",
   "execution_count": 61,
   "id": "e45d38fb",
   "metadata": {},
   "outputs": [
    {
     "name": "stdout",
     "output_type": "stream",
     "text": [
      "<class 'numpy.int8'>: min=-128, max=127\n",
      "<class 'numpy.int16'>: min=-32768, max=32767\n",
      "<class 'numpy.int32'>: min=-2147483648, max=2147483647\n",
      "<class 'numpy.int64'>: min=-9223372036854775808, max=9223372036854775807\n",
      "<class 'numpy.uint8'>: min=0, max=255\n",
      "<class 'numpy.uint16'>: min=0, max=65535\n",
      "<class 'numpy.uint32'>: min=0, max=4294967295\n",
      "<class 'numpy.uint64'>: min=0, max=18446744073709551615\n",
      "<class 'numpy.float16'>: min=-65504.0, max=65504.0\n",
      "<class 'numpy.float32'>: min=-3.4028234663852886e+38, max=3.4028234663852886e+38\n",
      "<class 'numpy.float64'>: min=-1.7976931348623157e+308, max=1.7976931348623157e+308\n"
     ]
    }
   ],
   "source": [
    "# Integer types\n",
    "for dtype in [np.int8, np.int16, np.int32, np.int64, np.uint8, np.uint16, np.uint32, np.uint64]:\n",
    "    print(f\"{dtype}: min={np.iinfo(dtype).min}, max={np.iinfo(dtype).max}\")\n",
    "\n",
    "# Floating-point types\n",
    "for dtype in [np.float16, np.float32, np.float64]:\n",
    "    print(f\"{dtype}: min={np.finfo(dtype).min}, max={np.finfo(dtype).max}\")"
   ]
  },
  {
   "cell_type": "markdown",
   "id": "9b317a98",
   "metadata": {},
   "source": [
    "#### 49. How to print all the values of an array? (★★☆)"
   ]
  },
  {
   "cell_type": "code",
   "execution_count": 62,
   "id": "309cdeb9",
   "metadata": {},
   "outputs": [
    {
     "name": "stdout",
     "output_type": "stream",
     "text": [
      "[np.int64(0), np.int64(1), np.int64(2), np.int64(3), np.int64(4), np.int64(5), np.int64(6), np.int64(7), np.int64(8), np.int64(9), np.int64(10), np.int64(11), np.int64(12), np.int64(13), np.int64(14), np.int64(15), np.int64(16), np.int64(17), np.int64(18), np.int64(19), np.int64(20), np.int64(21), np.int64(22), np.int64(23), np.int64(24), np.int64(25), np.int64(26), np.int64(27), np.int64(28), np.int64(29), np.int64(30), np.int64(31), np.int64(32), np.int64(33), np.int64(34), np.int64(35), np.int64(36), np.int64(37), np.int64(38), np.int64(39), np.int64(40), np.int64(41), np.int64(42), np.int64(43), np.int64(44), np.int64(45), np.int64(46), np.int64(47), np.int64(48), np.int64(49), np.int64(50), np.int64(51), np.int64(52), np.int64(53), np.int64(54), np.int64(55), np.int64(56), np.int64(57), np.int64(58), np.int64(59), np.int64(60), np.int64(61), np.int64(62), np.int64(63), np.int64(64), np.int64(65), np.int64(66), np.int64(67), np.int64(68), np.int64(69), np.int64(70), np.int64(71), np.int64(72), np.int64(73), np.int64(74), np.int64(75), np.int64(76), np.int64(77), np.int64(78), np.int64(79), np.int64(80), np.int64(81), np.int64(82), np.int64(83), np.int64(84), np.int64(85), np.int64(86), np.int64(87), np.int64(88), np.int64(89), np.int64(90), np.int64(91), np.int64(92), np.int64(93), np.int64(94), np.int64(95), np.int64(96), np.int64(97), np.int64(98), np.int64(99), np.int64(100), np.int64(101), np.int64(102), np.int64(103), np.int64(104), np.int64(105), np.int64(106), np.int64(107), np.int64(108), np.int64(109), np.int64(110), np.int64(111), np.int64(112), np.int64(113), np.int64(114), np.int64(115), np.int64(116), np.int64(117), np.int64(118), np.int64(119), np.int64(120), np.int64(121), np.int64(122), np.int64(123), np.int64(124), np.int64(125), np.int64(126), np.int64(127), np.int64(128), np.int64(129), np.int64(130), np.int64(131), np.int64(132), np.int64(133), np.int64(134), np.int64(135), np.int64(136), np.int64(137), np.int64(138), np.int64(139), np.int64(140), np.int64(141), np.int64(142), np.int64(143), np.int64(144), np.int64(145), np.int64(146), np.int64(147), np.int64(148), np.int64(149), np.int64(150), np.int64(151), np.int64(152), np.int64(153), np.int64(154), np.int64(155), np.int64(156), np.int64(157), np.int64(158), np.int64(159), np.int64(160), np.int64(161), np.int64(162), np.int64(163), np.int64(164), np.int64(165), np.int64(166), np.int64(167), np.int64(168), np.int64(169), np.int64(170), np.int64(171), np.int64(172), np.int64(173), np.int64(174), np.int64(175), np.int64(176), np.int64(177), np.int64(178), np.int64(179), np.int64(180), np.int64(181), np.int64(182), np.int64(183), np.int64(184), np.int64(185), np.int64(186), np.int64(187), np.int64(188), np.int64(189), np.int64(190), np.int64(191), np.int64(192), np.int64(193), np.int64(194), np.int64(195), np.int64(196), np.int64(197), np.int64(198), np.int64(199), np.int64(200), np.int64(201), np.int64(202), np.int64(203), np.int64(204), np.int64(205), np.int64(206), np.int64(207), np.int64(208), np.int64(209), np.int64(210), np.int64(211), np.int64(212), np.int64(213), np.int64(214), np.int64(215), np.int64(216), np.int64(217), np.int64(218), np.int64(219), np.int64(220), np.int64(221), np.int64(222), np.int64(223), np.int64(224), np.int64(225), np.int64(226), np.int64(227), np.int64(228), np.int64(229), np.int64(230), np.int64(231), np.int64(232), np.int64(233), np.int64(234), np.int64(235), np.int64(236), np.int64(237), np.int64(238), np.int64(239), np.int64(240), np.int64(241), np.int64(242), np.int64(243), np.int64(244), np.int64(245), np.int64(246), np.int64(247), np.int64(248), np.int64(249), np.int64(250), np.int64(251), np.int64(252), np.int64(253), np.int64(254), np.int64(255), np.int64(256), np.int64(257), np.int64(258), np.int64(259), np.int64(260), np.int64(261), np.int64(262), np.int64(263), np.int64(264), np.int64(265), np.int64(266), np.int64(267), np.int64(268), np.int64(269), np.int64(270), np.int64(271), np.int64(272), np.int64(273), np.int64(274), np.int64(275), np.int64(276), np.int64(277), np.int64(278), np.int64(279), np.int64(280), np.int64(281), np.int64(282), np.int64(283), np.int64(284), np.int64(285), np.int64(286), np.int64(287), np.int64(288), np.int64(289), np.int64(290), np.int64(291), np.int64(292), np.int64(293), np.int64(294), np.int64(295), np.int64(296), np.int64(297), np.int64(298), np.int64(299), np.int64(300), np.int64(301), np.int64(302), np.int64(303), np.int64(304), np.int64(305), np.int64(306), np.int64(307), np.int64(308), np.int64(309), np.int64(310), np.int64(311), np.int64(312), np.int64(313), np.int64(314), np.int64(315), np.int64(316), np.int64(317), np.int64(318), np.int64(319), np.int64(320), np.int64(321), np.int64(322), np.int64(323), np.int64(324), np.int64(325), np.int64(326), np.int64(327), np.int64(328), np.int64(329), np.int64(330), np.int64(331), np.int64(332), np.int64(333), np.int64(334), np.int64(335), np.int64(336), np.int64(337), np.int64(338), np.int64(339), np.int64(340), np.int64(341), np.int64(342), np.int64(343), np.int64(344), np.int64(345), np.int64(346), np.int64(347), np.int64(348), np.int64(349), np.int64(350), np.int64(351), np.int64(352), np.int64(353), np.int64(354), np.int64(355), np.int64(356), np.int64(357), np.int64(358), np.int64(359), np.int64(360), np.int64(361), np.int64(362), np.int64(363), np.int64(364), np.int64(365), np.int64(366), np.int64(367), np.int64(368), np.int64(369), np.int64(370), np.int64(371), np.int64(372), np.int64(373), np.int64(374), np.int64(375), np.int64(376), np.int64(377), np.int64(378), np.int64(379), np.int64(380), np.int64(381), np.int64(382), np.int64(383), np.int64(384), np.int64(385), np.int64(386), np.int64(387), np.int64(388), np.int64(389), np.int64(390), np.int64(391), np.int64(392), np.int64(393), np.int64(394), np.int64(395), np.int64(396), np.int64(397), np.int64(398), np.int64(399), np.int64(400), np.int64(401), np.int64(402), np.int64(403), np.int64(404), np.int64(405), np.int64(406), np.int64(407), np.int64(408), np.int64(409), np.int64(410), np.int64(411), np.int64(412), np.int64(413), np.int64(414), np.int64(415), np.int64(416), np.int64(417), np.int64(418), np.int64(419), np.int64(420), np.int64(421), np.int64(422), np.int64(423), np.int64(424), np.int64(425), np.int64(426), np.int64(427), np.int64(428), np.int64(429), np.int64(430), np.int64(431), np.int64(432), np.int64(433), np.int64(434), np.int64(435), np.int64(436), np.int64(437), np.int64(438), np.int64(439), np.int64(440), np.int64(441), np.int64(442), np.int64(443), np.int64(444), np.int64(445), np.int64(446), np.int64(447), np.int64(448), np.int64(449), np.int64(450), np.int64(451), np.int64(452), np.int64(453), np.int64(454), np.int64(455), np.int64(456), np.int64(457), np.int64(458), np.int64(459), np.int64(460), np.int64(461), np.int64(462), np.int64(463), np.int64(464), np.int64(465), np.int64(466), np.int64(467), np.int64(468), np.int64(469), np.int64(470), np.int64(471), np.int64(472), np.int64(473), np.int64(474), np.int64(475), np.int64(476), np.int64(477), np.int64(478), np.int64(479), np.int64(480), np.int64(481), np.int64(482), np.int64(483), np.int64(484), np.int64(485), np.int64(486), np.int64(487), np.int64(488), np.int64(489), np.int64(490), np.int64(491), np.int64(492), np.int64(493), np.int64(494), np.int64(495), np.int64(496), np.int64(497), np.int64(498), np.int64(499), np.int64(500), np.int64(501), np.int64(502), np.int64(503), np.int64(504), np.int64(505), np.int64(506), np.int64(507), np.int64(508), np.int64(509), np.int64(510), np.int64(511), np.int64(512), np.int64(513), np.int64(514), np.int64(515), np.int64(516), np.int64(517), np.int64(518), np.int64(519), np.int64(520), np.int64(521), np.int64(522), np.int64(523), np.int64(524), np.int64(525), np.int64(526), np.int64(527), np.int64(528), np.int64(529), np.int64(530), np.int64(531), np.int64(532), np.int64(533), np.int64(534), np.int64(535), np.int64(536), np.int64(537), np.int64(538), np.int64(539), np.int64(540), np.int64(541), np.int64(542), np.int64(543), np.int64(544), np.int64(545), np.int64(546), np.int64(547), np.int64(548), np.int64(549), np.int64(550), np.int64(551), np.int64(552), np.int64(553), np.int64(554), np.int64(555), np.int64(556), np.int64(557), np.int64(558), np.int64(559), np.int64(560), np.int64(561), np.int64(562), np.int64(563), np.int64(564), np.int64(565), np.int64(566), np.int64(567), np.int64(568), np.int64(569), np.int64(570), np.int64(571), np.int64(572), np.int64(573), np.int64(574), np.int64(575), np.int64(576), np.int64(577), np.int64(578), np.int64(579), np.int64(580), np.int64(581), np.int64(582), np.int64(583), np.int64(584), np.int64(585), np.int64(586), np.int64(587), np.int64(588), np.int64(589), np.int64(590), np.int64(591), np.int64(592), np.int64(593), np.int64(594), np.int64(595), np.int64(596), np.int64(597), np.int64(598), np.int64(599), np.int64(600), np.int64(601), np.int64(602), np.int64(603), np.int64(604), np.int64(605), np.int64(606), np.int64(607), np.int64(608), np.int64(609), np.int64(610), np.int64(611), np.int64(612), np.int64(613), np.int64(614), np.int64(615), np.int64(616), np.int64(617), np.int64(618), np.int64(619), np.int64(620), np.int64(621), np.int64(622), np.int64(623), np.int64(624), np.int64(625), np.int64(626), np.int64(627), np.int64(628), np.int64(629), np.int64(630), np.int64(631), np.int64(632), np.int64(633), np.int64(634), np.int64(635), np.int64(636), np.int64(637), np.int64(638), np.int64(639), np.int64(640), np.int64(641), np.int64(642), np.int64(643), np.int64(644), np.int64(645), np.int64(646), np.int64(647), np.int64(648), np.int64(649), np.int64(650), np.int64(651), np.int64(652), np.int64(653), np.int64(654), np.int64(655), np.int64(656), np.int64(657), np.int64(658), np.int64(659), np.int64(660), np.int64(661), np.int64(662), np.int64(663), np.int64(664), np.int64(665), np.int64(666), np.int64(667), np.int64(668), np.int64(669), np.int64(670), np.int64(671), np.int64(672), np.int64(673), np.int64(674), np.int64(675), np.int64(676), np.int64(677), np.int64(678), np.int64(679), np.int64(680), np.int64(681), np.int64(682), np.int64(683), np.int64(684), np.int64(685), np.int64(686), np.int64(687), np.int64(688), np.int64(689), np.int64(690), np.int64(691), np.int64(692), np.int64(693), np.int64(694), np.int64(695), np.int64(696), np.int64(697), np.int64(698), np.int64(699), np.int64(700), np.int64(701), np.int64(702), np.int64(703), np.int64(704), np.int64(705), np.int64(706), np.int64(707), np.int64(708), np.int64(709), np.int64(710), np.int64(711), np.int64(712), np.int64(713), np.int64(714), np.int64(715), np.int64(716), np.int64(717), np.int64(718), np.int64(719), np.int64(720), np.int64(721), np.int64(722), np.int64(723), np.int64(724), np.int64(725), np.int64(726), np.int64(727), np.int64(728), np.int64(729), np.int64(730), np.int64(731), np.int64(732), np.int64(733), np.int64(734), np.int64(735), np.int64(736), np.int64(737), np.int64(738), np.int64(739), np.int64(740), np.int64(741), np.int64(742), np.int64(743), np.int64(744), np.int64(745), np.int64(746), np.int64(747), np.int64(748), np.int64(749), np.int64(750), np.int64(751), np.int64(752), np.int64(753), np.int64(754), np.int64(755), np.int64(756), np.int64(757), np.int64(758), np.int64(759), np.int64(760), np.int64(761), np.int64(762), np.int64(763), np.int64(764), np.int64(765), np.int64(766), np.int64(767), np.int64(768), np.int64(769), np.int64(770), np.int64(771), np.int64(772), np.int64(773), np.int64(774), np.int64(775), np.int64(776), np.int64(777), np.int64(778), np.int64(779), np.int64(780), np.int64(781), np.int64(782), np.int64(783), np.int64(784), np.int64(785), np.int64(786), np.int64(787), np.int64(788), np.int64(789), np.int64(790), np.int64(791), np.int64(792), np.int64(793), np.int64(794), np.int64(795), np.int64(796), np.int64(797), np.int64(798), np.int64(799), np.int64(800), np.int64(801), np.int64(802), np.int64(803), np.int64(804), np.int64(805), np.int64(806), np.int64(807), np.int64(808), np.int64(809), np.int64(810), np.int64(811), np.int64(812), np.int64(813), np.int64(814), np.int64(815), np.int64(816), np.int64(817), np.int64(818), np.int64(819), np.int64(820), np.int64(821), np.int64(822), np.int64(823), np.int64(824), np.int64(825), np.int64(826), np.int64(827), np.int64(828), np.int64(829), np.int64(830), np.int64(831), np.int64(832), np.int64(833), np.int64(834), np.int64(835), np.int64(836), np.int64(837), np.int64(838), np.int64(839), np.int64(840), np.int64(841), np.int64(842), np.int64(843), np.int64(844), np.int64(845), np.int64(846), np.int64(847), np.int64(848), np.int64(849), np.int64(850), np.int64(851), np.int64(852), np.int64(853), np.int64(854), np.int64(855), np.int64(856), np.int64(857), np.int64(858), np.int64(859), np.int64(860), np.int64(861), np.int64(862), np.int64(863), np.int64(864), np.int64(865), np.int64(866), np.int64(867), np.int64(868), np.int64(869), np.int64(870), np.int64(871), np.int64(872), np.int64(873), np.int64(874), np.int64(875), np.int64(876), np.int64(877), np.int64(878), np.int64(879), np.int64(880), np.int64(881), np.int64(882), np.int64(883), np.int64(884), np.int64(885), np.int64(886), np.int64(887), np.int64(888), np.int64(889), np.int64(890), np.int64(891), np.int64(892), np.int64(893), np.int64(894), np.int64(895), np.int64(896), np.int64(897), np.int64(898), np.int64(899), np.int64(900), np.int64(901), np.int64(902), np.int64(903), np.int64(904), np.int64(905), np.int64(906), np.int64(907), np.int64(908), np.int64(909), np.int64(910), np.int64(911), np.int64(912), np.int64(913), np.int64(914), np.int64(915), np.int64(916), np.int64(917), np.int64(918), np.int64(919), np.int64(920), np.int64(921), np.int64(922), np.int64(923), np.int64(924), np.int64(925), np.int64(926), np.int64(927), np.int64(928), np.int64(929), np.int64(930), np.int64(931), np.int64(932), np.int64(933), np.int64(934), np.int64(935), np.int64(936), np.int64(937), np.int64(938), np.int64(939), np.int64(940), np.int64(941), np.int64(942), np.int64(943), np.int64(944), np.int64(945), np.int64(946), np.int64(947), np.int64(948), np.int64(949), np.int64(950), np.int64(951), np.int64(952), np.int64(953), np.int64(954), np.int64(955), np.int64(956), np.int64(957), np.int64(958), np.int64(959), np.int64(960), np.int64(961), np.int64(962), np.int64(963), np.int64(964), np.int64(965), np.int64(966), np.int64(967), np.int64(968), np.int64(969), np.int64(970), np.int64(971), np.int64(972), np.int64(973), np.int64(974), np.int64(975), np.int64(976), np.int64(977), np.int64(978), np.int64(979), np.int64(980), np.int64(981), np.int64(982), np.int64(983), np.int64(984), np.int64(985), np.int64(986), np.int64(987), np.int64(988), np.int64(989), np.int64(990), np.int64(991), np.int64(992), np.int64(993), np.int64(994), np.int64(995), np.int64(996), np.int64(997), np.int64(998), np.int64(999), np.int64(1000), np.int64(1001), np.int64(1002), np.int64(1003), np.int64(1004), np.int64(1005), np.int64(1006), np.int64(1007), np.int64(1008), np.int64(1009), np.int64(1010), np.int64(1011), np.int64(1012), np.int64(1013), np.int64(1014), np.int64(1015), np.int64(1016), np.int64(1017), np.int64(1018), np.int64(1019), np.int64(1020), np.int64(1021), np.int64(1022), np.int64(1023), np.int64(1024), np.int64(1025), np.int64(1026), np.int64(1027), np.int64(1028), np.int64(1029), np.int64(1030), np.int64(1031), np.int64(1032), np.int64(1033), np.int64(1034), np.int64(1035), np.int64(1036), np.int64(1037), np.int64(1038), np.int64(1039), np.int64(1040), np.int64(1041), np.int64(1042), np.int64(1043), np.int64(1044), np.int64(1045), np.int64(1046), np.int64(1047), np.int64(1048), np.int64(1049), np.int64(1050), np.int64(1051), np.int64(1052), np.int64(1053), np.int64(1054), np.int64(1055), np.int64(1056), np.int64(1057), np.int64(1058), np.int64(1059), np.int64(1060), np.int64(1061), np.int64(1062), np.int64(1063), np.int64(1064), np.int64(1065), np.int64(1066), np.int64(1067), np.int64(1068), np.int64(1069), np.int64(1070), np.int64(1071), np.int64(1072), np.int64(1073), np.int64(1074), np.int64(1075), np.int64(1076), np.int64(1077), np.int64(1078), np.int64(1079), np.int64(1080), np.int64(1081), np.int64(1082), np.int64(1083), np.int64(1084), np.int64(1085), np.int64(1086), np.int64(1087), np.int64(1088), np.int64(1089), np.int64(1090), np.int64(1091), np.int64(1092), np.int64(1093), np.int64(1094), np.int64(1095), np.int64(1096), np.int64(1097), np.int64(1098), np.int64(1099), np.int64(1100), np.int64(1101), np.int64(1102), np.int64(1103), np.int64(1104), np.int64(1105), np.int64(1106), np.int64(1107), np.int64(1108), np.int64(1109), np.int64(1110), np.int64(1111), np.int64(1112), np.int64(1113), np.int64(1114), np.int64(1115), np.int64(1116), np.int64(1117), np.int64(1118), np.int64(1119), np.int64(1120), np.int64(1121), np.int64(1122), np.int64(1123), np.int64(1124), np.int64(1125), np.int64(1126), np.int64(1127), np.int64(1128), np.int64(1129), np.int64(1130), np.int64(1131), np.int64(1132), np.int64(1133), np.int64(1134), np.int64(1135), np.int64(1136), np.int64(1137), np.int64(1138), np.int64(1139), np.int64(1140), np.int64(1141), np.int64(1142), np.int64(1143), np.int64(1144), np.int64(1145), np.int64(1146), np.int64(1147), np.int64(1148), np.int64(1149), np.int64(1150), np.int64(1151), np.int64(1152), np.int64(1153), np.int64(1154), np.int64(1155), np.int64(1156), np.int64(1157), np.int64(1158), np.int64(1159), np.int64(1160), np.int64(1161), np.int64(1162), np.int64(1163), np.int64(1164), np.int64(1165), np.int64(1166), np.int64(1167), np.int64(1168), np.int64(1169), np.int64(1170), np.int64(1171), np.int64(1172), np.int64(1173), np.int64(1174), np.int64(1175), np.int64(1176), np.int64(1177), np.int64(1178), np.int64(1179), np.int64(1180), np.int64(1181), np.int64(1182), np.int64(1183), np.int64(1184), np.int64(1185), np.int64(1186), np.int64(1187), np.int64(1188), np.int64(1189), np.int64(1190), np.int64(1191), np.int64(1192), np.int64(1193), np.int64(1194), np.int64(1195), np.int64(1196), np.int64(1197), np.int64(1198), np.int64(1199), np.int64(1200), np.int64(1201), np.int64(1202), np.int64(1203), np.int64(1204), np.int64(1205), np.int64(1206), np.int64(1207), np.int64(1208), np.int64(1209), np.int64(1210), np.int64(1211), np.int64(1212), np.int64(1213), np.int64(1214), np.int64(1215), np.int64(1216), np.int64(1217), np.int64(1218), np.int64(1219), np.int64(1220), np.int64(1221), np.int64(1222), np.int64(1223), np.int64(1224), np.int64(1225), np.int64(1226), np.int64(1227), np.int64(1228), np.int64(1229), np.int64(1230), np.int64(1231), np.int64(1232), np.int64(1233), np.int64(1234), np.int64(1235), np.int64(1236), np.int64(1237), np.int64(1238), np.int64(1239), np.int64(1240), np.int64(1241), np.int64(1242), np.int64(1243), np.int64(1244), np.int64(1245), np.int64(1246), np.int64(1247), np.int64(1248), np.int64(1249), np.int64(1250), np.int64(1251), np.int64(1252), np.int64(1253), np.int64(1254), np.int64(1255), np.int64(1256), np.int64(1257), np.int64(1258), np.int64(1259), np.int64(1260), np.int64(1261), np.int64(1262), np.int64(1263), np.int64(1264), np.int64(1265), np.int64(1266), np.int64(1267), np.int64(1268), np.int64(1269), np.int64(1270), np.int64(1271), np.int64(1272), np.int64(1273), np.int64(1274), np.int64(1275), np.int64(1276), np.int64(1277), np.int64(1278), np.int64(1279), np.int64(1280), np.int64(1281), np.int64(1282), np.int64(1283), np.int64(1284), np.int64(1285), np.int64(1286), np.int64(1287), np.int64(1288), np.int64(1289), np.int64(1290), np.int64(1291), np.int64(1292), np.int64(1293), np.int64(1294), np.int64(1295), np.int64(1296), np.int64(1297), np.int64(1298), np.int64(1299), np.int64(1300), np.int64(1301), np.int64(1302), np.int64(1303), np.int64(1304), np.int64(1305), np.int64(1306), np.int64(1307), np.int64(1308), np.int64(1309), np.int64(1310), np.int64(1311), np.int64(1312), np.int64(1313), np.int64(1314), np.int64(1315), np.int64(1316), np.int64(1317), np.int64(1318), np.int64(1319), np.int64(1320), np.int64(1321), np.int64(1322), np.int64(1323), np.int64(1324), np.int64(1325), np.int64(1326), np.int64(1327), np.int64(1328), np.int64(1329), np.int64(1330), np.int64(1331), np.int64(1332), np.int64(1333), np.int64(1334), np.int64(1335), np.int64(1336), np.int64(1337), np.int64(1338), np.int64(1339), np.int64(1340), np.int64(1341), np.int64(1342), np.int64(1343), np.int64(1344), np.int64(1345), np.int64(1346), np.int64(1347), np.int64(1348), np.int64(1349), np.int64(1350), np.int64(1351), np.int64(1352), np.int64(1353), np.int64(1354), np.int64(1355), np.int64(1356), np.int64(1357), np.int64(1358), np.int64(1359), np.int64(1360), np.int64(1361), np.int64(1362), np.int64(1363), np.int64(1364), np.int64(1365), np.int64(1366), np.int64(1367), np.int64(1368), np.int64(1369), np.int64(1370), np.int64(1371), np.int64(1372), np.int64(1373), np.int64(1374), np.int64(1375), np.int64(1376), np.int64(1377), np.int64(1378), np.int64(1379), np.int64(1380), np.int64(1381), np.int64(1382), np.int64(1383), np.int64(1384), np.int64(1385), np.int64(1386), np.int64(1387), np.int64(1388), np.int64(1389), np.int64(1390), np.int64(1391), np.int64(1392), np.int64(1393), np.int64(1394), np.int64(1395), np.int64(1396), np.int64(1397), np.int64(1398), np.int64(1399), np.int64(1400), np.int64(1401), np.int64(1402), np.int64(1403), np.int64(1404), np.int64(1405), np.int64(1406), np.int64(1407), np.int64(1408), np.int64(1409), np.int64(1410), np.int64(1411), np.int64(1412), np.int64(1413), np.int64(1414), np.int64(1415), np.int64(1416), np.int64(1417), np.int64(1418), np.int64(1419), np.int64(1420), np.int64(1421), np.int64(1422), np.int64(1423), np.int64(1424), np.int64(1425), np.int64(1426), np.int64(1427), np.int64(1428), np.int64(1429), np.int64(1430), np.int64(1431), np.int64(1432), np.int64(1433), np.int64(1434), np.int64(1435), np.int64(1436), np.int64(1437), np.int64(1438), np.int64(1439), np.int64(1440), np.int64(1441), np.int64(1442), np.int64(1443), np.int64(1444), np.int64(1445), np.int64(1446), np.int64(1447), np.int64(1448), np.int64(1449), np.int64(1450), np.int64(1451), np.int64(1452), np.int64(1453), np.int64(1454), np.int64(1455), np.int64(1456), np.int64(1457), np.int64(1458), np.int64(1459), np.int64(1460), np.int64(1461), np.int64(1462), np.int64(1463), np.int64(1464), np.int64(1465), np.int64(1466), np.int64(1467), np.int64(1468), np.int64(1469), np.int64(1470), np.int64(1471), np.int64(1472), np.int64(1473), np.int64(1474), np.int64(1475), np.int64(1476), np.int64(1477), np.int64(1478), np.int64(1479), np.int64(1480), np.int64(1481), np.int64(1482), np.int64(1483), np.int64(1484), np.int64(1485), np.int64(1486), np.int64(1487), np.int64(1488), np.int64(1489), np.int64(1490), np.int64(1491), np.int64(1492), np.int64(1493), np.int64(1494), np.int64(1495), np.int64(1496), np.int64(1497), np.int64(1498), np.int64(1499), np.int64(1500), np.int64(1501), np.int64(1502), np.int64(1503), np.int64(1504), np.int64(1505), np.int64(1506), np.int64(1507), np.int64(1508), np.int64(1509), np.int64(1510), np.int64(1511), np.int64(1512), np.int64(1513), np.int64(1514), np.int64(1515), np.int64(1516), np.int64(1517), np.int64(1518), np.int64(1519), np.int64(1520), np.int64(1521), np.int64(1522), np.int64(1523), np.int64(1524), np.int64(1525), np.int64(1526), np.int64(1527), np.int64(1528), np.int64(1529), np.int64(1530), np.int64(1531), np.int64(1532), np.int64(1533), np.int64(1534), np.int64(1535), np.int64(1536), np.int64(1537), np.int64(1538), np.int64(1539), np.int64(1540), np.int64(1541), np.int64(1542), np.int64(1543), np.int64(1544), np.int64(1545), np.int64(1546), np.int64(1547), np.int64(1548), np.int64(1549), np.int64(1550), np.int64(1551), np.int64(1552), np.int64(1553), np.int64(1554), np.int64(1555), np.int64(1556), np.int64(1557), np.int64(1558), np.int64(1559), np.int64(1560), np.int64(1561), np.int64(1562), np.int64(1563), np.int64(1564), np.int64(1565), np.int64(1566), np.int64(1567), np.int64(1568), np.int64(1569), np.int64(1570), np.int64(1571), np.int64(1572), np.int64(1573), np.int64(1574), np.int64(1575), np.int64(1576), np.int64(1577), np.int64(1578), np.int64(1579), np.int64(1580), np.int64(1581), np.int64(1582), np.int64(1583), np.int64(1584), np.int64(1585), np.int64(1586), np.int64(1587), np.int64(1588), np.int64(1589), np.int64(1590), np.int64(1591), np.int64(1592), np.int64(1593), np.int64(1594), np.int64(1595), np.int64(1596), np.int64(1597), np.int64(1598), np.int64(1599), np.int64(1600), np.int64(1601), np.int64(1602), np.int64(1603), np.int64(1604), np.int64(1605), np.int64(1606), np.int64(1607), np.int64(1608), np.int64(1609), np.int64(1610), np.int64(1611), np.int64(1612), np.int64(1613), np.int64(1614), np.int64(1615), np.int64(1616), np.int64(1617), np.int64(1618), np.int64(1619), np.int64(1620), np.int64(1621), np.int64(1622), np.int64(1623), np.int64(1624), np.int64(1625), np.int64(1626), np.int64(1627), np.int64(1628), np.int64(1629), np.int64(1630), np.int64(1631), np.int64(1632), np.int64(1633), np.int64(1634), np.int64(1635), np.int64(1636), np.int64(1637), np.int64(1638), np.int64(1639), np.int64(1640), np.int64(1641), np.int64(1642), np.int64(1643), np.int64(1644), np.int64(1645), np.int64(1646), np.int64(1647), np.int64(1648), np.int64(1649), np.int64(1650), np.int64(1651), np.int64(1652), np.int64(1653), np.int64(1654), np.int64(1655), np.int64(1656), np.int64(1657), np.int64(1658), np.int64(1659), np.int64(1660), np.int64(1661), np.int64(1662), np.int64(1663), np.int64(1664), np.int64(1665), np.int64(1666), np.int64(1667), np.int64(1668), np.int64(1669), np.int64(1670), np.int64(1671), np.int64(1672), np.int64(1673), np.int64(1674), np.int64(1675), np.int64(1676), np.int64(1677), np.int64(1678), np.int64(1679), np.int64(1680), np.int64(1681), np.int64(1682), np.int64(1683), np.int64(1684), np.int64(1685), np.int64(1686), np.int64(1687), np.int64(1688), np.int64(1689), np.int64(1690), np.int64(1691), np.int64(1692), np.int64(1693), np.int64(1694), np.int64(1695), np.int64(1696), np.int64(1697), np.int64(1698), np.int64(1699), np.int64(1700), np.int64(1701), np.int64(1702), np.int64(1703), np.int64(1704), np.int64(1705), np.int64(1706), np.int64(1707), np.int64(1708), np.int64(1709), np.int64(1710), np.int64(1711), np.int64(1712), np.int64(1713), np.int64(1714), np.int64(1715), np.int64(1716), np.int64(1717), np.int64(1718), np.int64(1719), np.int64(1720), np.int64(1721), np.int64(1722), np.int64(1723), np.int64(1724), np.int64(1725), np.int64(1726), np.int64(1727), np.int64(1728), np.int64(1729), np.int64(1730), np.int64(1731), np.int64(1732), np.int64(1733), np.int64(1734), np.int64(1735), np.int64(1736), np.int64(1737), np.int64(1738), np.int64(1739), np.int64(1740), np.int64(1741), np.int64(1742), np.int64(1743), np.int64(1744), np.int64(1745), np.int64(1746), np.int64(1747), np.int64(1748), np.int64(1749), np.int64(1750), np.int64(1751), np.int64(1752), np.int64(1753), np.int64(1754), np.int64(1755), np.int64(1756), np.int64(1757), np.int64(1758), np.int64(1759), np.int64(1760), np.int64(1761), np.int64(1762), np.int64(1763), np.int64(1764), np.int64(1765), np.int64(1766), np.int64(1767), np.int64(1768), np.int64(1769), np.int64(1770), np.int64(1771), np.int64(1772), np.int64(1773), np.int64(1774), np.int64(1775), np.int64(1776), np.int64(1777), np.int64(1778), np.int64(1779), np.int64(1780), np.int64(1781), np.int64(1782), np.int64(1783), np.int64(1784), np.int64(1785), np.int64(1786), np.int64(1787), np.int64(1788), np.int64(1789), np.int64(1790), np.int64(1791), np.int64(1792), np.int64(1793), np.int64(1794), np.int64(1795), np.int64(1796), np.int64(1797), np.int64(1798), np.int64(1799), np.int64(1800), np.int64(1801), np.int64(1802), np.int64(1803), np.int64(1804), np.int64(1805), np.int64(1806), np.int64(1807), np.int64(1808), np.int64(1809), np.int64(1810), np.int64(1811), np.int64(1812), np.int64(1813), np.int64(1814), np.int64(1815), np.int64(1816), np.int64(1817), np.int64(1818), np.int64(1819), np.int64(1820), np.int64(1821), np.int64(1822), np.int64(1823), np.int64(1824), np.int64(1825), np.int64(1826), np.int64(1827), np.int64(1828), np.int64(1829), np.int64(1830), np.int64(1831), np.int64(1832), np.int64(1833), np.int64(1834), np.int64(1835), np.int64(1836), np.int64(1837), np.int64(1838), np.int64(1839), np.int64(1840), np.int64(1841), np.int64(1842), np.int64(1843), np.int64(1844), np.int64(1845), np.int64(1846), np.int64(1847), np.int64(1848), np.int64(1849), np.int64(1850), np.int64(1851), np.int64(1852), np.int64(1853), np.int64(1854), np.int64(1855), np.int64(1856), np.int64(1857), np.int64(1858), np.int64(1859), np.int64(1860), np.int64(1861), np.int64(1862), np.int64(1863), np.int64(1864), np.int64(1865), np.int64(1866), np.int64(1867), np.int64(1868), np.int64(1869), np.int64(1870), np.int64(1871), np.int64(1872), np.int64(1873), np.int64(1874), np.int64(1875), np.int64(1876), np.int64(1877), np.int64(1878), np.int64(1879), np.int64(1880), np.int64(1881), np.int64(1882), np.int64(1883), np.int64(1884), np.int64(1885), np.int64(1886), np.int64(1887), np.int64(1888), np.int64(1889), np.int64(1890), np.int64(1891), np.int64(1892), np.int64(1893), np.int64(1894), np.int64(1895), np.int64(1896), np.int64(1897), np.int64(1898), np.int64(1899), np.int64(1900), np.int64(1901), np.int64(1902), np.int64(1903), np.int64(1904), np.int64(1905), np.int64(1906), np.int64(1907), np.int64(1908), np.int64(1909), np.int64(1910), np.int64(1911), np.int64(1912), np.int64(1913), np.int64(1914), np.int64(1915), np.int64(1916), np.int64(1917), np.int64(1918), np.int64(1919), np.int64(1920), np.int64(1921), np.int64(1922), np.int64(1923), np.int64(1924), np.int64(1925), np.int64(1926), np.int64(1927), np.int64(1928), np.int64(1929), np.int64(1930), np.int64(1931), np.int64(1932), np.int64(1933), np.int64(1934), np.int64(1935), np.int64(1936), np.int64(1937), np.int64(1938), np.int64(1939), np.int64(1940), np.int64(1941), np.int64(1942), np.int64(1943), np.int64(1944), np.int64(1945), np.int64(1946), np.int64(1947), np.int64(1948), np.int64(1949), np.int64(1950), np.int64(1951), np.int64(1952), np.int64(1953), np.int64(1954), np.int64(1955), np.int64(1956), np.int64(1957), np.int64(1958), np.int64(1959), np.int64(1960), np.int64(1961), np.int64(1962), np.int64(1963), np.int64(1964), np.int64(1965), np.int64(1966), np.int64(1967), np.int64(1968), np.int64(1969), np.int64(1970), np.int64(1971), np.int64(1972), np.int64(1973), np.int64(1974), np.int64(1975), np.int64(1976), np.int64(1977), np.int64(1978), np.int64(1979), np.int64(1980), np.int64(1981), np.int64(1982), np.int64(1983), np.int64(1984), np.int64(1985), np.int64(1986), np.int64(1987), np.int64(1988), np.int64(1989), np.int64(1990), np.int64(1991), np.int64(1992), np.int64(1993), np.int64(1994), np.int64(1995), np.int64(1996), np.int64(1997), np.int64(1998), np.int64(1999), np.int64(2000), np.int64(2001), np.int64(2002), np.int64(2003), np.int64(2004), np.int64(2005), np.int64(2006), np.int64(2007), np.int64(2008), np.int64(2009), np.int64(2010), np.int64(2011), np.int64(2012), np.int64(2013), np.int64(2014), np.int64(2015), np.int64(2016), np.int64(2017), np.int64(2018), np.int64(2019), np.int64(2020), np.int64(2021), np.int64(2022), np.int64(2023), np.int64(2024), np.int64(2025), np.int64(2026), np.int64(2027), np.int64(2028), np.int64(2029), np.int64(2030), np.int64(2031), np.int64(2032), np.int64(2033), np.int64(2034), np.int64(2035), np.int64(2036), np.int64(2037), np.int64(2038), np.int64(2039), np.int64(2040), np.int64(2041), np.int64(2042), np.int64(2043), np.int64(2044), np.int64(2045), np.int64(2046), np.int64(2047), np.int64(2048), np.int64(2049), np.int64(2050), np.int64(2051), np.int64(2052), np.int64(2053), np.int64(2054), np.int64(2055), np.int64(2056), np.int64(2057), np.int64(2058), np.int64(2059), np.int64(2060), np.int64(2061), np.int64(2062), np.int64(2063), np.int64(2064), np.int64(2065), np.int64(2066), np.int64(2067), np.int64(2068), np.int64(2069), np.int64(2070), np.int64(2071), np.int64(2072), np.int64(2073), np.int64(2074), np.int64(2075), np.int64(2076), np.int64(2077), np.int64(2078), np.int64(2079), np.int64(2080), np.int64(2081), np.int64(2082), np.int64(2083), np.int64(2084), np.int64(2085), np.int64(2086), np.int64(2087), np.int64(2088), np.int64(2089), np.int64(2090), np.int64(2091), np.int64(2092), np.int64(2093), np.int64(2094), np.int64(2095), np.int64(2096), np.int64(2097), np.int64(2098), np.int64(2099), np.int64(2100), np.int64(2101), np.int64(2102), np.int64(2103), np.int64(2104), np.int64(2105), np.int64(2106), np.int64(2107), np.int64(2108), np.int64(2109), np.int64(2110), np.int64(2111), np.int64(2112), np.int64(2113), np.int64(2114), np.int64(2115), np.int64(2116), np.int64(2117), np.int64(2118), np.int64(2119), np.int64(2120), np.int64(2121), np.int64(2122), np.int64(2123), np.int64(2124), np.int64(2125), np.int64(2126), np.int64(2127), np.int64(2128), np.int64(2129), np.int64(2130), np.int64(2131), np.int64(2132), np.int64(2133), np.int64(2134), np.int64(2135), np.int64(2136), np.int64(2137), np.int64(2138), np.int64(2139), np.int64(2140), np.int64(2141), np.int64(2142), np.int64(2143), np.int64(2144), np.int64(2145), np.int64(2146), np.int64(2147), np.int64(2148), np.int64(2149), np.int64(2150), np.int64(2151), np.int64(2152), np.int64(2153), np.int64(2154), np.int64(2155), np.int64(2156), np.int64(2157), np.int64(2158), np.int64(2159), np.int64(2160), np.int64(2161), np.int64(2162), np.int64(2163), np.int64(2164), np.int64(2165), np.int64(2166), np.int64(2167), np.int64(2168), np.int64(2169), np.int64(2170), np.int64(2171), np.int64(2172), np.int64(2173), np.int64(2174), np.int64(2175), np.int64(2176), np.int64(2177), np.int64(2178), np.int64(2179), np.int64(2180), np.int64(2181), np.int64(2182), np.int64(2183), np.int64(2184), np.int64(2185), np.int64(2186), np.int64(2187), np.int64(2188), np.int64(2189), np.int64(2190), np.int64(2191), np.int64(2192), np.int64(2193), np.int64(2194), np.int64(2195), np.int64(2196), np.int64(2197), np.int64(2198), np.int64(2199), np.int64(2200), np.int64(2201), np.int64(2202), np.int64(2203), np.int64(2204), np.int64(2205), np.int64(2206), np.int64(2207), np.int64(2208), np.int64(2209), np.int64(2210), np.int64(2211), np.int64(2212), np.int64(2213), np.int64(2214), np.int64(2215), np.int64(2216), np.int64(2217), np.int64(2218), np.int64(2219), np.int64(2220), np.int64(2221), np.int64(2222), np.int64(2223), np.int64(2224), np.int64(2225), np.int64(2226), np.int64(2227), np.int64(2228), np.int64(2229), np.int64(2230), np.int64(2231), np.int64(2232), np.int64(2233), np.int64(2234), np.int64(2235), np.int64(2236), np.int64(2237), np.int64(2238), np.int64(2239), np.int64(2240), np.int64(2241), np.int64(2242), np.int64(2243), np.int64(2244), np.int64(2245), np.int64(2246), np.int64(2247), np.int64(2248), np.int64(2249), np.int64(2250), np.int64(2251), np.int64(2252), np.int64(2253), np.int64(2254), np.int64(2255), np.int64(2256), np.int64(2257), np.int64(2258), np.int64(2259), np.int64(2260), np.int64(2261), np.int64(2262), np.int64(2263), np.int64(2264), np.int64(2265), np.int64(2266), np.int64(2267), np.int64(2268), np.int64(2269), np.int64(2270), np.int64(2271), np.int64(2272), np.int64(2273), np.int64(2274), np.int64(2275), np.int64(2276), np.int64(2277), np.int64(2278), np.int64(2279), np.int64(2280), np.int64(2281), np.int64(2282), np.int64(2283), np.int64(2284), np.int64(2285), np.int64(2286), np.int64(2287), np.int64(2288), np.int64(2289), np.int64(2290), np.int64(2291), np.int64(2292), np.int64(2293), np.int64(2294), np.int64(2295), np.int64(2296), np.int64(2297), np.int64(2298), np.int64(2299), np.int64(2300), np.int64(2301), np.int64(2302), np.int64(2303), np.int64(2304), np.int64(2305), np.int64(2306), np.int64(2307), np.int64(2308), np.int64(2309), np.int64(2310), np.int64(2311), np.int64(2312), np.int64(2313), np.int64(2314), np.int64(2315), np.int64(2316), np.int64(2317), np.int64(2318), np.int64(2319), np.int64(2320), np.int64(2321), np.int64(2322), np.int64(2323), np.int64(2324), np.int64(2325), np.int64(2326), np.int64(2327), np.int64(2328), np.int64(2329), np.int64(2330), np.int64(2331), np.int64(2332), np.int64(2333), np.int64(2334), np.int64(2335), np.int64(2336), np.int64(2337), np.int64(2338), np.int64(2339), np.int64(2340), np.int64(2341), np.int64(2342), np.int64(2343), np.int64(2344), np.int64(2345), np.int64(2346), np.int64(2347), np.int64(2348), np.int64(2349), np.int64(2350), np.int64(2351), np.int64(2352), np.int64(2353), np.int64(2354), np.int64(2355), np.int64(2356), np.int64(2357), np.int64(2358), np.int64(2359), np.int64(2360), np.int64(2361), np.int64(2362), np.int64(2363), np.int64(2364), np.int64(2365), np.int64(2366), np.int64(2367), np.int64(2368), np.int64(2369), np.int64(2370), np.int64(2371), np.int64(2372), np.int64(2373), np.int64(2374), np.int64(2375), np.int64(2376), np.int64(2377), np.int64(2378), np.int64(2379), np.int64(2380), np.int64(2381), np.int64(2382), np.int64(2383), np.int64(2384), np.int64(2385), np.int64(2386), np.int64(2387), np.int64(2388), np.int64(2389), np.int64(2390), np.int64(2391), np.int64(2392), np.int64(2393), np.int64(2394), np.int64(2395), np.int64(2396), np.int64(2397), np.int64(2398), np.int64(2399), np.int64(2400), np.int64(2401), np.int64(2402), np.int64(2403), np.int64(2404), np.int64(2405), np.int64(2406), np.int64(2407), np.int64(2408), np.int64(2409), np.int64(2410), np.int64(2411), np.int64(2412), np.int64(2413), np.int64(2414), np.int64(2415), np.int64(2416), np.int64(2417), np.int64(2418), np.int64(2419), np.int64(2420), np.int64(2421), np.int64(2422), np.int64(2423), np.int64(2424), np.int64(2425), np.int64(2426), np.int64(2427), np.int64(2428), np.int64(2429), np.int64(2430), np.int64(2431), np.int64(2432), np.int64(2433), np.int64(2434), np.int64(2435), np.int64(2436), np.int64(2437), np.int64(2438), np.int64(2439), np.int64(2440), np.int64(2441), np.int64(2442), np.int64(2443), np.int64(2444), np.int64(2445), np.int64(2446), np.int64(2447), np.int64(2448), np.int64(2449), np.int64(2450), np.int64(2451), np.int64(2452), np.int64(2453), np.int64(2454), np.int64(2455), np.int64(2456), np.int64(2457), np.int64(2458), np.int64(2459), np.int64(2460), np.int64(2461), np.int64(2462), np.int64(2463), np.int64(2464), np.int64(2465), np.int64(2466), np.int64(2467), np.int64(2468), np.int64(2469), np.int64(2470), np.int64(2471), np.int64(2472), np.int64(2473), np.int64(2474), np.int64(2475), np.int64(2476), np.int64(2477), np.int64(2478), np.int64(2479), np.int64(2480), np.int64(2481), np.int64(2482), np.int64(2483), np.int64(2484), np.int64(2485), np.int64(2486), np.int64(2487), np.int64(2488), np.int64(2489), np.int64(2490), np.int64(2491), np.int64(2492), np.int64(2493), np.int64(2494), np.int64(2495), np.int64(2496), np.int64(2497), np.int64(2498), np.int64(2499), np.int64(2500), np.int64(2501), np.int64(2502), np.int64(2503), np.int64(2504), np.int64(2505), np.int64(2506), np.int64(2507), np.int64(2508), np.int64(2509), np.int64(2510), np.int64(2511), np.int64(2512), np.int64(2513), np.int64(2514), np.int64(2515), np.int64(2516), np.int64(2517), np.int64(2518), np.int64(2519), np.int64(2520), np.int64(2521), np.int64(2522), np.int64(2523), np.int64(2524), np.int64(2525), np.int64(2526), np.int64(2527), np.int64(2528), np.int64(2529), np.int64(2530), np.int64(2531), np.int64(2532), np.int64(2533), np.int64(2534), np.int64(2535), np.int64(2536), np.int64(2537), np.int64(2538), np.int64(2539), np.int64(2540), np.int64(2541), np.int64(2542), np.int64(2543), np.int64(2544), np.int64(2545), np.int64(2546), np.int64(2547), np.int64(2548), np.int64(2549), np.int64(2550), np.int64(2551), np.int64(2552), np.int64(2553), np.int64(2554), np.int64(2555), np.int64(2556), np.int64(2557), np.int64(2558), np.int64(2559), np.int64(2560), np.int64(2561), np.int64(2562), np.int64(2563), np.int64(2564), np.int64(2565), np.int64(2566), np.int64(2567), np.int64(2568), np.int64(2569), np.int64(2570), np.int64(2571), np.int64(2572), np.int64(2573), np.int64(2574), np.int64(2575), np.int64(2576), np.int64(2577), np.int64(2578), np.int64(2579), np.int64(2580), np.int64(2581), np.int64(2582), np.int64(2583), np.int64(2584), np.int64(2585), np.int64(2586), np.int64(2587), np.int64(2588), np.int64(2589), np.int64(2590), np.int64(2591), np.int64(2592), np.int64(2593), np.int64(2594), np.int64(2595), np.int64(2596), np.int64(2597), np.int64(2598), np.int64(2599), np.int64(2600), np.int64(2601), np.int64(2602), np.int64(2603), np.int64(2604), np.int64(2605), np.int64(2606), np.int64(2607), np.int64(2608), np.int64(2609), np.int64(2610), np.int64(2611), np.int64(2612), np.int64(2613), np.int64(2614), np.int64(2615), np.int64(2616), np.int64(2617), np.int64(2618), np.int64(2619), np.int64(2620), np.int64(2621), np.int64(2622), np.int64(2623), np.int64(2624), np.int64(2625), np.int64(2626), np.int64(2627), np.int64(2628), np.int64(2629), np.int64(2630), np.int64(2631), np.int64(2632), np.int64(2633), np.int64(2634), np.int64(2635), np.int64(2636), np.int64(2637), np.int64(2638), np.int64(2639), np.int64(2640), np.int64(2641), np.int64(2642), np.int64(2643), np.int64(2644), np.int64(2645), np.int64(2646), np.int64(2647), np.int64(2648), np.int64(2649), np.int64(2650), np.int64(2651), np.int64(2652), np.int64(2653), np.int64(2654), np.int64(2655), np.int64(2656), np.int64(2657), np.int64(2658), np.int64(2659), np.int64(2660), np.int64(2661), np.int64(2662), np.int64(2663), np.int64(2664), np.int64(2665), np.int64(2666), np.int64(2667), np.int64(2668), np.int64(2669), np.int64(2670), np.int64(2671), np.int64(2672), np.int64(2673), np.int64(2674), np.int64(2675), np.int64(2676), np.int64(2677), np.int64(2678), np.int64(2679), np.int64(2680), np.int64(2681), np.int64(2682), np.int64(2683), np.int64(2684), np.int64(2685), np.int64(2686), np.int64(2687), np.int64(2688), np.int64(2689), np.int64(2690), np.int64(2691), np.int64(2692), np.int64(2693), np.int64(2694), np.int64(2695), np.int64(2696), np.int64(2697), np.int64(2698), np.int64(2699), np.int64(2700), np.int64(2701), np.int64(2702), np.int64(2703), np.int64(2704), np.int64(2705), np.int64(2706), np.int64(2707), np.int64(2708), np.int64(2709), np.int64(2710), np.int64(2711), np.int64(2712), np.int64(2713), np.int64(2714), np.int64(2715), np.int64(2716), np.int64(2717), np.int64(2718), np.int64(2719), np.int64(2720), np.int64(2721), np.int64(2722), np.int64(2723), np.int64(2724), np.int64(2725), np.int64(2726), np.int64(2727), np.int64(2728), np.int64(2729), np.int64(2730), np.int64(2731), np.int64(2732), np.int64(2733), np.int64(2734), np.int64(2735), np.int64(2736), np.int64(2737), np.int64(2738), np.int64(2739), np.int64(2740), np.int64(2741), np.int64(2742), np.int64(2743), np.int64(2744), np.int64(2745), np.int64(2746), np.int64(2747), np.int64(2748), np.int64(2749), np.int64(2750), np.int64(2751), np.int64(2752), np.int64(2753), np.int64(2754), np.int64(2755), np.int64(2756), np.int64(2757), np.int64(2758), np.int64(2759), np.int64(2760), np.int64(2761), np.int64(2762), np.int64(2763), np.int64(2764), np.int64(2765), np.int64(2766), np.int64(2767), np.int64(2768), np.int64(2769), np.int64(2770), np.int64(2771), np.int64(2772), np.int64(2773), np.int64(2774), np.int64(2775), np.int64(2776), np.int64(2777), np.int64(2778), np.int64(2779), np.int64(2780), np.int64(2781), np.int64(2782), np.int64(2783), np.int64(2784), np.int64(2785), np.int64(2786), np.int64(2787), np.int64(2788), np.int64(2789), np.int64(2790), np.int64(2791), np.int64(2792), np.int64(2793), np.int64(2794), np.int64(2795), np.int64(2796), np.int64(2797), np.int64(2798), np.int64(2799), np.int64(2800), np.int64(2801), np.int64(2802), np.int64(2803), np.int64(2804), np.int64(2805), np.int64(2806), np.int64(2807), np.int64(2808), np.int64(2809), np.int64(2810), np.int64(2811), np.int64(2812), np.int64(2813), np.int64(2814), np.int64(2815), np.int64(2816), np.int64(2817), np.int64(2818), np.int64(2819), np.int64(2820), np.int64(2821), np.int64(2822), np.int64(2823), np.int64(2824), np.int64(2825), np.int64(2826), np.int64(2827), np.int64(2828), np.int64(2829), np.int64(2830), np.int64(2831), np.int64(2832), np.int64(2833), np.int64(2834), np.int64(2835), np.int64(2836), np.int64(2837), np.int64(2838), np.int64(2839), np.int64(2840), np.int64(2841), np.int64(2842), np.int64(2843), np.int64(2844), np.int64(2845), np.int64(2846), np.int64(2847), np.int64(2848), np.int64(2849), np.int64(2850), np.int64(2851), np.int64(2852), np.int64(2853), np.int64(2854), np.int64(2855), np.int64(2856), np.int64(2857), np.int64(2858), np.int64(2859), np.int64(2860), np.int64(2861), np.int64(2862), np.int64(2863), np.int64(2864), np.int64(2865), np.int64(2866), np.int64(2867), np.int64(2868), np.int64(2869), np.int64(2870), np.int64(2871), np.int64(2872), np.int64(2873), np.int64(2874), np.int64(2875), np.int64(2876), np.int64(2877), np.int64(2878), np.int64(2879), np.int64(2880), np.int64(2881), np.int64(2882), np.int64(2883), np.int64(2884), np.int64(2885), np.int64(2886), np.int64(2887), np.int64(2888), np.int64(2889), np.int64(2890), np.int64(2891), np.int64(2892), np.int64(2893), np.int64(2894), np.int64(2895), np.int64(2896), np.int64(2897), np.int64(2898), np.int64(2899), np.int64(2900), np.int64(2901), np.int64(2902), np.int64(2903), np.int64(2904), np.int64(2905), np.int64(2906), np.int64(2907), np.int64(2908), np.int64(2909), np.int64(2910), np.int64(2911), np.int64(2912), np.int64(2913), np.int64(2914), np.int64(2915), np.int64(2916), np.int64(2917), np.int64(2918), np.int64(2919), np.int64(2920), np.int64(2921), np.int64(2922), np.int64(2923), np.int64(2924), np.int64(2925), np.int64(2926), np.int64(2927), np.int64(2928), np.int64(2929), np.int64(2930), np.int64(2931), np.int64(2932), np.int64(2933), np.int64(2934), np.int64(2935), np.int64(2936), np.int64(2937), np.int64(2938), np.int64(2939), np.int64(2940), np.int64(2941), np.int64(2942), np.int64(2943), np.int64(2944), np.int64(2945), np.int64(2946), np.int64(2947), np.int64(2948), np.int64(2949), np.int64(2950), np.int64(2951), np.int64(2952), np.int64(2953), np.int64(2954), np.int64(2955), np.int64(2956), np.int64(2957), np.int64(2958), np.int64(2959), np.int64(2960), np.int64(2961), np.int64(2962), np.int64(2963), np.int64(2964), np.int64(2965), np.int64(2966), np.int64(2967), np.int64(2968), np.int64(2969), np.int64(2970), np.int64(2971), np.int64(2972), np.int64(2973), np.int64(2974), np.int64(2975), np.int64(2976), np.int64(2977), np.int64(2978), np.int64(2979), np.int64(2980), np.int64(2981), np.int64(2982), np.int64(2983), np.int64(2984), np.int64(2985), np.int64(2986), np.int64(2987), np.int64(2988), np.int64(2989), np.int64(2990), np.int64(2991), np.int64(2992), np.int64(2993), np.int64(2994), np.int64(2995), np.int64(2996), np.int64(2997), np.int64(2998), np.int64(2999), np.int64(3000), np.int64(3001), np.int64(3002), np.int64(3003), np.int64(3004), np.int64(3005), np.int64(3006), np.int64(3007), np.int64(3008), np.int64(3009), np.int64(3010), np.int64(3011), np.int64(3012), np.int64(3013), np.int64(3014), np.int64(3015), np.int64(3016), np.int64(3017), np.int64(3018), np.int64(3019), np.int64(3020), np.int64(3021), np.int64(3022), np.int64(3023), np.int64(3024), np.int64(3025), np.int64(3026), np.int64(3027), np.int64(3028), np.int64(3029), np.int64(3030), np.int64(3031), np.int64(3032), np.int64(3033), np.int64(3034), np.int64(3035), np.int64(3036), np.int64(3037), np.int64(3038), np.int64(3039), np.int64(3040), np.int64(3041), np.int64(3042), np.int64(3043), np.int64(3044), np.int64(3045), np.int64(3046), np.int64(3047), np.int64(3048), np.int64(3049), np.int64(3050), np.int64(3051), np.int64(3052), np.int64(3053), np.int64(3054), np.int64(3055), np.int64(3056), np.int64(3057), np.int64(3058), np.int64(3059), np.int64(3060), np.int64(3061), np.int64(3062), np.int64(3063), np.int64(3064), np.int64(3065), np.int64(3066), np.int64(3067), np.int64(3068), np.int64(3069), np.int64(3070), np.int64(3071), np.int64(3072), np.int64(3073), np.int64(3074), np.int64(3075), np.int64(3076), np.int64(3077), np.int64(3078), np.int64(3079), np.int64(3080), np.int64(3081), np.int64(3082), np.int64(3083), np.int64(3084), np.int64(3085), np.int64(3086), np.int64(3087), np.int64(3088), np.int64(3089), np.int64(3090), np.int64(3091), np.int64(3092), np.int64(3093), np.int64(3094), np.int64(3095), np.int64(3096), np.int64(3097), np.int64(3098), np.int64(3099), np.int64(3100), np.int64(3101), np.int64(3102), np.int64(3103), np.int64(3104), np.int64(3105), np.int64(3106), np.int64(3107), np.int64(3108), np.int64(3109), np.int64(3110), np.int64(3111), np.int64(3112), np.int64(3113), np.int64(3114), np.int64(3115), np.int64(3116), np.int64(3117), np.int64(3118), np.int64(3119), np.int64(3120), np.int64(3121), np.int64(3122), np.int64(3123), np.int64(3124), np.int64(3125), np.int64(3126), np.int64(3127), np.int64(3128), np.int64(3129), np.int64(3130), np.int64(3131), np.int64(3132), np.int64(3133), np.int64(3134), np.int64(3135), np.int64(3136), np.int64(3137), np.int64(3138), np.int64(3139), np.int64(3140), np.int64(3141), np.int64(3142), np.int64(3143), np.int64(3144), np.int64(3145), np.int64(3146), np.int64(3147), np.int64(3148), np.int64(3149), np.int64(3150), np.int64(3151), np.int64(3152), np.int64(3153), np.int64(3154), np.int64(3155), np.int64(3156), np.int64(3157), np.int64(3158), np.int64(3159), np.int64(3160), np.int64(3161), np.int64(3162), np.int64(3163), np.int64(3164), np.int64(3165), np.int64(3166), np.int64(3167), np.int64(3168), np.int64(3169), np.int64(3170), np.int64(3171), np.int64(3172), np.int64(3173), np.int64(3174), np.int64(3175), np.int64(3176), np.int64(3177), np.int64(3178), np.int64(3179), np.int64(3180), np.int64(3181), np.int64(3182), np.int64(3183), np.int64(3184), np.int64(3185), np.int64(3186), np.int64(3187), np.int64(3188), np.int64(3189), np.int64(3190), np.int64(3191), np.int64(3192), np.int64(3193), np.int64(3194), np.int64(3195), np.int64(3196), np.int64(3197), np.int64(3198), np.int64(3199), np.int64(3200), np.int64(3201), np.int64(3202), np.int64(3203), np.int64(3204), np.int64(3205), np.int64(3206), np.int64(3207), np.int64(3208), np.int64(3209), np.int64(3210), np.int64(3211), np.int64(3212), np.int64(3213), np.int64(3214), np.int64(3215), np.int64(3216), np.int64(3217), np.int64(3218), np.int64(3219), np.int64(3220), np.int64(3221), np.int64(3222), np.int64(3223), np.int64(3224), np.int64(3225), np.int64(3226), np.int64(3227), np.int64(3228), np.int64(3229), np.int64(3230), np.int64(3231), np.int64(3232), np.int64(3233), np.int64(3234), np.int64(3235), np.int64(3236), np.int64(3237), np.int64(3238), np.int64(3239), np.int64(3240), np.int64(3241), np.int64(3242), np.int64(3243), np.int64(3244), np.int64(3245), np.int64(3246), np.int64(3247), np.int64(3248), np.int64(3249), np.int64(3250), np.int64(3251), np.int64(3252), np.int64(3253), np.int64(3254), np.int64(3255), np.int64(3256), np.int64(3257), np.int64(3258), np.int64(3259), np.int64(3260), np.int64(3261), np.int64(3262), np.int64(3263), np.int64(3264), np.int64(3265), np.int64(3266), np.int64(3267), np.int64(3268), np.int64(3269), np.int64(3270), np.int64(3271), np.int64(3272), np.int64(3273), np.int64(3274), np.int64(3275), np.int64(3276), np.int64(3277), np.int64(3278), np.int64(3279), np.int64(3280), np.int64(3281), np.int64(3282), np.int64(3283), np.int64(3284), np.int64(3285), np.int64(3286), np.int64(3287), np.int64(3288), np.int64(3289), np.int64(3290), np.int64(3291), np.int64(3292), np.int64(3293), np.int64(3294), np.int64(3295), np.int64(3296), np.int64(3297), np.int64(3298), np.int64(3299), np.int64(3300), np.int64(3301), np.int64(3302), np.int64(3303), np.int64(3304), np.int64(3305), np.int64(3306), np.int64(3307), np.int64(3308), np.int64(3309), np.int64(3310), np.int64(3311), np.int64(3312), np.int64(3313), np.int64(3314), np.int64(3315), np.int64(3316), np.int64(3317), np.int64(3318), np.int64(3319), np.int64(3320), np.int64(3321), np.int64(3322), np.int64(3323), np.int64(3324), np.int64(3325), np.int64(3326), np.int64(3327), np.int64(3328), np.int64(3329), np.int64(3330), np.int64(3331), np.int64(3332), np.int64(3333), np.int64(3334), np.int64(3335), np.int64(3336), np.int64(3337), np.int64(3338), np.int64(3339), np.int64(3340), np.int64(3341), np.int64(3342), np.int64(3343), np.int64(3344), np.int64(3345), np.int64(3346), np.int64(3347), np.int64(3348), np.int64(3349), np.int64(3350), np.int64(3351), np.int64(3352), np.int64(3353), np.int64(3354), np.int64(3355), np.int64(3356), np.int64(3357), np.int64(3358), np.int64(3359), np.int64(3360), np.int64(3361), np.int64(3362), np.int64(3363), np.int64(3364), np.int64(3365), np.int64(3366), np.int64(3367), np.int64(3368), np.int64(3369), np.int64(3370), np.int64(3371), np.int64(3372), np.int64(3373), np.int64(3374), np.int64(3375), np.int64(3376), np.int64(3377), np.int64(3378), np.int64(3379), np.int64(3380), np.int64(3381), np.int64(3382), np.int64(3383), np.int64(3384), np.int64(3385), np.int64(3386), np.int64(3387), np.int64(3388), np.int64(3389), np.int64(3390), np.int64(3391), np.int64(3392), np.int64(3393), np.int64(3394), np.int64(3395), np.int64(3396), np.int64(3397), np.int64(3398), np.int64(3399), np.int64(3400), np.int64(3401), np.int64(3402), np.int64(3403), np.int64(3404), np.int64(3405), np.int64(3406), np.int64(3407), np.int64(3408), np.int64(3409), np.int64(3410), np.int64(3411), np.int64(3412), np.int64(3413), np.int64(3414), np.int64(3415), np.int64(3416), np.int64(3417), np.int64(3418), np.int64(3419), np.int64(3420), np.int64(3421), np.int64(3422), np.int64(3423), np.int64(3424), np.int64(3425), np.int64(3426), np.int64(3427), np.int64(3428), np.int64(3429), np.int64(3430), np.int64(3431), np.int64(3432), np.int64(3433), np.int64(3434), np.int64(3435), np.int64(3436), np.int64(3437), np.int64(3438), np.int64(3439), np.int64(3440), np.int64(3441), np.int64(3442), np.int64(3443), np.int64(3444), np.int64(3445), np.int64(3446), np.int64(3447), np.int64(3448), np.int64(3449), np.int64(3450), np.int64(3451), np.int64(3452), np.int64(3453), np.int64(3454), np.int64(3455), np.int64(3456), np.int64(3457), np.int64(3458), np.int64(3459), np.int64(3460), np.int64(3461), np.int64(3462), np.int64(3463), np.int64(3464), np.int64(3465), np.int64(3466), np.int64(3467), np.int64(3468), np.int64(3469), np.int64(3470), np.int64(3471), np.int64(3472), np.int64(3473), np.int64(3474), np.int64(3475), np.int64(3476), np.int64(3477), np.int64(3478), np.int64(3479), np.int64(3480), np.int64(3481), np.int64(3482), np.int64(3483), np.int64(3484), np.int64(3485), np.int64(3486), np.int64(3487), np.int64(3488), np.int64(3489), np.int64(3490), np.int64(3491), np.int64(3492), np.int64(3493), np.int64(3494), np.int64(3495), np.int64(3496), np.int64(3497), np.int64(3498), np.int64(3499), np.int64(3500), np.int64(3501), np.int64(3502), np.int64(3503), np.int64(3504), np.int64(3505), np.int64(3506), np.int64(3507), np.int64(3508), np.int64(3509), np.int64(3510), np.int64(3511), np.int64(3512), np.int64(3513), np.int64(3514), np.int64(3515), np.int64(3516), np.int64(3517), np.int64(3518), np.int64(3519), np.int64(3520), np.int64(3521), np.int64(3522), np.int64(3523), np.int64(3524), np.int64(3525), np.int64(3526), np.int64(3527), np.int64(3528), np.int64(3529), np.int64(3530), np.int64(3531), np.int64(3532), np.int64(3533), np.int64(3534), np.int64(3535), np.int64(3536), np.int64(3537), np.int64(3538), np.int64(3539), np.int64(3540), np.int64(3541), np.int64(3542), np.int64(3543), np.int64(3544), np.int64(3545), np.int64(3546), np.int64(3547), np.int64(3548), np.int64(3549), np.int64(3550), np.int64(3551), np.int64(3552), np.int64(3553), np.int64(3554), np.int64(3555), np.int64(3556), np.int64(3557), np.int64(3558), np.int64(3559), np.int64(3560), np.int64(3561), np.int64(3562), np.int64(3563), np.int64(3564), np.int64(3565), np.int64(3566), np.int64(3567), np.int64(3568), np.int64(3569), np.int64(3570), np.int64(3571), np.int64(3572), np.int64(3573), np.int64(3574), np.int64(3575), np.int64(3576), np.int64(3577), np.int64(3578), np.int64(3579), np.int64(3580), np.int64(3581), np.int64(3582), np.int64(3583), np.int64(3584), np.int64(3585), np.int64(3586), np.int64(3587), np.int64(3588), np.int64(3589), np.int64(3590), np.int64(3591), np.int64(3592), np.int64(3593), np.int64(3594), np.int64(3595), np.int64(3596), np.int64(3597), np.int64(3598), np.int64(3599), np.int64(3600), np.int64(3601), np.int64(3602), np.int64(3603), np.int64(3604), np.int64(3605), np.int64(3606), np.int64(3607), np.int64(3608), np.int64(3609), np.int64(3610), np.int64(3611), np.int64(3612), np.int64(3613), np.int64(3614), np.int64(3615), np.int64(3616), np.int64(3617), np.int64(3618), np.int64(3619), np.int64(3620), np.int64(3621), np.int64(3622), np.int64(3623), np.int64(3624), np.int64(3625), np.int64(3626), np.int64(3627), np.int64(3628), np.int64(3629), np.int64(3630), np.int64(3631), np.int64(3632), np.int64(3633), np.int64(3634), np.int64(3635), np.int64(3636), np.int64(3637), np.int64(3638), np.int64(3639), np.int64(3640), np.int64(3641), np.int64(3642), np.int64(3643), np.int64(3644), np.int64(3645), np.int64(3646), np.int64(3647), np.int64(3648), np.int64(3649), np.int64(3650), np.int64(3651), np.int64(3652), np.int64(3653), np.int64(3654), np.int64(3655), np.int64(3656), np.int64(3657), np.int64(3658), np.int64(3659), np.int64(3660), np.int64(3661), np.int64(3662), np.int64(3663), np.int64(3664), np.int64(3665), np.int64(3666), np.int64(3667), np.int64(3668), np.int64(3669), np.int64(3670), np.int64(3671), np.int64(3672), np.int64(3673), np.int64(3674), np.int64(3675), np.int64(3676), np.int64(3677), np.int64(3678), np.int64(3679), np.int64(3680), np.int64(3681), np.int64(3682), np.int64(3683), np.int64(3684), np.int64(3685), np.int64(3686), np.int64(3687), np.int64(3688), np.int64(3689), np.int64(3690), np.int64(3691), np.int64(3692), np.int64(3693), np.int64(3694), np.int64(3695), np.int64(3696), np.int64(3697), np.int64(3698), np.int64(3699), np.int64(3700), np.int64(3701), np.int64(3702), np.int64(3703), np.int64(3704), np.int64(3705), np.int64(3706), np.int64(3707), np.int64(3708), np.int64(3709), np.int64(3710), np.int64(3711), np.int64(3712), np.int64(3713), np.int64(3714), np.int64(3715), np.int64(3716), np.int64(3717), np.int64(3718), np.int64(3719), np.int64(3720), np.int64(3721), np.int64(3722), np.int64(3723), np.int64(3724), np.int64(3725), np.int64(3726), np.int64(3727), np.int64(3728), np.int64(3729), np.int64(3730), np.int64(3731), np.int64(3732), np.int64(3733), np.int64(3734), np.int64(3735), np.int64(3736), np.int64(3737), np.int64(3738), np.int64(3739), np.int64(3740), np.int64(3741), np.int64(3742), np.int64(3743), np.int64(3744), np.int64(3745), np.int64(3746), np.int64(3747), np.int64(3748), np.int64(3749), np.int64(3750), np.int64(3751), np.int64(3752), np.int64(3753), np.int64(3754), np.int64(3755), np.int64(3756), np.int64(3757), np.int64(3758), np.int64(3759), np.int64(3760), np.int64(3761), np.int64(3762), np.int64(3763), np.int64(3764), np.int64(3765), np.int64(3766), np.int64(3767), np.int64(3768), np.int64(3769), np.int64(3770), np.int64(3771), np.int64(3772), np.int64(3773), np.int64(3774), np.int64(3775), np.int64(3776), np.int64(3777), np.int64(3778), np.int64(3779), np.int64(3780), np.int64(3781), np.int64(3782), np.int64(3783), np.int64(3784), np.int64(3785), np.int64(3786), np.int64(3787), np.int64(3788), np.int64(3789), np.int64(3790), np.int64(3791), np.int64(3792), np.int64(3793), np.int64(3794), np.int64(3795), np.int64(3796), np.int64(3797), np.int64(3798), np.int64(3799), np.int64(3800), np.int64(3801), np.int64(3802), np.int64(3803), np.int64(3804), np.int64(3805), np.int64(3806), np.int64(3807), np.int64(3808), np.int64(3809), np.int64(3810), np.int64(3811), np.int64(3812), np.int64(3813), np.int64(3814), np.int64(3815), np.int64(3816), np.int64(3817), np.int64(3818), np.int64(3819), np.int64(3820), np.int64(3821), np.int64(3822), np.int64(3823), np.int64(3824), np.int64(3825), np.int64(3826), np.int64(3827), np.int64(3828), np.int64(3829), np.int64(3830), np.int64(3831), np.int64(3832), np.int64(3833), np.int64(3834), np.int64(3835), np.int64(3836), np.int64(3837), np.int64(3838), np.int64(3839), np.int64(3840), np.int64(3841), np.int64(3842), np.int64(3843), np.int64(3844), np.int64(3845), np.int64(3846), np.int64(3847), np.int64(3848), np.int64(3849), np.int64(3850), np.int64(3851), np.int64(3852), np.int64(3853), np.int64(3854), np.int64(3855), np.int64(3856), np.int64(3857), np.int64(3858), np.int64(3859), np.int64(3860), np.int64(3861), np.int64(3862), np.int64(3863), np.int64(3864), np.int64(3865), np.int64(3866), np.int64(3867), np.int64(3868), np.int64(3869), np.int64(3870), np.int64(3871), np.int64(3872), np.int64(3873), np.int64(3874), np.int64(3875), np.int64(3876), np.int64(3877), np.int64(3878), np.int64(3879), np.int64(3880), np.int64(3881), np.int64(3882), np.int64(3883), np.int64(3884), np.int64(3885), np.int64(3886), np.int64(3887), np.int64(3888), np.int64(3889), np.int64(3890), np.int64(3891), np.int64(3892), np.int64(3893), np.int64(3894), np.int64(3895), np.int64(3896), np.int64(3897), np.int64(3898), np.int64(3899), np.int64(3900), np.int64(3901), np.int64(3902), np.int64(3903), np.int64(3904), np.int64(3905), np.int64(3906), np.int64(3907), np.int64(3908), np.int64(3909), np.int64(3910), np.int64(3911), np.int64(3912), np.int64(3913), np.int64(3914), np.int64(3915), np.int64(3916), np.int64(3917), np.int64(3918), np.int64(3919), np.int64(3920), np.int64(3921), np.int64(3922), np.int64(3923), np.int64(3924), np.int64(3925), np.int64(3926), np.int64(3927), np.int64(3928), np.int64(3929), np.int64(3930), np.int64(3931), np.int64(3932), np.int64(3933), np.int64(3934), np.int64(3935), np.int64(3936), np.int64(3937), np.int64(3938), np.int64(3939), np.int64(3940), np.int64(3941), np.int64(3942), np.int64(3943), np.int64(3944), np.int64(3945), np.int64(3946), np.int64(3947), np.int64(3948), np.int64(3949), np.int64(3950), np.int64(3951), np.int64(3952), np.int64(3953), np.int64(3954), np.int64(3955), np.int64(3956), np.int64(3957), np.int64(3958), np.int64(3959), np.int64(3960), np.int64(3961), np.int64(3962), np.int64(3963), np.int64(3964), np.int64(3965), np.int64(3966), np.int64(3967), np.int64(3968), np.int64(3969), np.int64(3970), np.int64(3971), np.int64(3972), np.int64(3973), np.int64(3974), np.int64(3975), np.int64(3976), np.int64(3977), np.int64(3978), np.int64(3979), np.int64(3980), np.int64(3981), np.int64(3982), np.int64(3983), np.int64(3984), np.int64(3985), np.int64(3986), np.int64(3987), np.int64(3988), np.int64(3989), np.int64(3990), np.int64(3991), np.int64(3992), np.int64(3993), np.int64(3994), np.int64(3995), np.int64(3996), np.int64(3997), np.int64(3998), np.int64(3999), np.int64(4000), np.int64(4001), np.int64(4002), np.int64(4003), np.int64(4004), np.int64(4005), np.int64(4006), np.int64(4007), np.int64(4008), np.int64(4009), np.int64(4010), np.int64(4011), np.int64(4012), np.int64(4013), np.int64(4014), np.int64(4015), np.int64(4016), np.int64(4017), np.int64(4018), np.int64(4019), np.int64(4020), np.int64(4021), np.int64(4022), np.int64(4023), np.int64(4024), np.int64(4025), np.int64(4026), np.int64(4027), np.int64(4028), np.int64(4029), np.int64(4030), np.int64(4031), np.int64(4032), np.int64(4033), np.int64(4034), np.int64(4035), np.int64(4036), np.int64(4037), np.int64(4038), np.int64(4039), np.int64(4040), np.int64(4041), np.int64(4042), np.int64(4043), np.int64(4044), np.int64(4045), np.int64(4046), np.int64(4047), np.int64(4048), np.int64(4049), np.int64(4050), np.int64(4051), np.int64(4052), np.int64(4053), np.int64(4054), np.int64(4055), np.int64(4056), np.int64(4057), np.int64(4058), np.int64(4059), np.int64(4060), np.int64(4061), np.int64(4062), np.int64(4063), np.int64(4064), np.int64(4065), np.int64(4066), np.int64(4067), np.int64(4068), np.int64(4069), np.int64(4070), np.int64(4071), np.int64(4072), np.int64(4073), np.int64(4074), np.int64(4075), np.int64(4076), np.int64(4077), np.int64(4078), np.int64(4079), np.int64(4080), np.int64(4081), np.int64(4082), np.int64(4083), np.int64(4084), np.int64(4085), np.int64(4086), np.int64(4087), np.int64(4088), np.int64(4089), np.int64(4090), np.int64(4091), np.int64(4092), np.int64(4093), np.int64(4094), np.int64(4095), np.int64(4096), np.int64(4097), np.int64(4098), np.int64(4099), np.int64(4100), np.int64(4101), np.int64(4102), np.int64(4103), np.int64(4104), np.int64(4105), np.int64(4106), np.int64(4107), np.int64(4108), np.int64(4109), np.int64(4110), np.int64(4111), np.int64(4112), np.int64(4113), np.int64(4114), np.int64(4115), np.int64(4116), np.int64(4117), np.int64(4118), np.int64(4119), np.int64(4120), np.int64(4121), np.int64(4122), np.int64(4123), np.int64(4124), np.int64(4125), np.int64(4126), np.int64(4127), np.int64(4128), np.int64(4129), np.int64(4130), np.int64(4131), np.int64(4132), np.int64(4133), np.int64(4134), np.int64(4135), np.int64(4136), np.int64(4137), np.int64(4138), np.int64(4139), np.int64(4140), np.int64(4141), np.int64(4142), np.int64(4143), np.int64(4144), np.int64(4145), np.int64(4146), np.int64(4147), np.int64(4148), np.int64(4149), np.int64(4150), np.int64(4151), np.int64(4152), np.int64(4153), np.int64(4154), np.int64(4155), np.int64(4156), np.int64(4157), np.int64(4158), np.int64(4159), np.int64(4160), np.int64(4161), np.int64(4162), np.int64(4163), np.int64(4164), np.int64(4165), np.int64(4166), np.int64(4167), np.int64(4168), np.int64(4169), np.int64(4170), np.int64(4171), np.int64(4172), np.int64(4173), np.int64(4174), np.int64(4175), np.int64(4176), np.int64(4177), np.int64(4178), np.int64(4179), np.int64(4180), np.int64(4181), np.int64(4182), np.int64(4183), np.int64(4184), np.int64(4185), np.int64(4186), np.int64(4187), np.int64(4188), np.int64(4189), np.int64(4190), np.int64(4191), np.int64(4192), np.int64(4193), np.int64(4194), np.int64(4195), np.int64(4196), np.int64(4197), np.int64(4198), np.int64(4199), np.int64(4200), np.int64(4201), np.int64(4202), np.int64(4203), np.int64(4204), np.int64(4205), np.int64(4206), np.int64(4207), np.int64(4208), np.int64(4209), np.int64(4210), np.int64(4211), np.int64(4212), np.int64(4213), np.int64(4214), np.int64(4215), np.int64(4216), np.int64(4217), np.int64(4218), np.int64(4219), np.int64(4220), np.int64(4221), np.int64(4222), np.int64(4223), np.int64(4224), np.int64(4225), np.int64(4226), np.int64(4227), np.int64(4228), np.int64(4229), np.int64(4230), np.int64(4231), np.int64(4232), np.int64(4233), np.int64(4234), np.int64(4235), np.int64(4236), np.int64(4237), np.int64(4238), np.int64(4239), np.int64(4240), np.int64(4241), np.int64(4242), np.int64(4243), np.int64(4244), np.int64(4245), np.int64(4246), np.int64(4247), np.int64(4248), np.int64(4249), np.int64(4250), np.int64(4251), np.int64(4252), np.int64(4253), np.int64(4254), np.int64(4255), np.int64(4256), np.int64(4257), np.int64(4258), np.int64(4259), np.int64(4260), np.int64(4261), np.int64(4262), np.int64(4263), np.int64(4264), np.int64(4265), np.int64(4266), np.int64(4267), np.int64(4268), np.int64(4269), np.int64(4270), np.int64(4271), np.int64(4272), np.int64(4273), np.int64(4274), np.int64(4275), np.int64(4276), np.int64(4277), np.int64(4278), np.int64(4279), np.int64(4280), np.int64(4281), np.int64(4282), np.int64(4283), np.int64(4284), np.int64(4285), np.int64(4286), np.int64(4287), np.int64(4288), np.int64(4289), np.int64(4290), np.int64(4291), np.int64(4292), np.int64(4293), np.int64(4294), np.int64(4295), np.int64(4296), np.int64(4297), np.int64(4298), np.int64(4299), np.int64(4300), np.int64(4301), np.int64(4302), np.int64(4303), np.int64(4304), np.int64(4305), np.int64(4306), np.int64(4307), np.int64(4308), np.int64(4309), np.int64(4310), np.int64(4311), np.int64(4312), np.int64(4313), np.int64(4314), np.int64(4315), np.int64(4316), np.int64(4317), np.int64(4318), np.int64(4319), np.int64(4320), np.int64(4321), np.int64(4322), np.int64(4323), np.int64(4324), np.int64(4325), np.int64(4326), np.int64(4327), np.int64(4328), np.int64(4329), np.int64(4330), np.int64(4331), np.int64(4332), np.int64(4333), np.int64(4334), np.int64(4335), np.int64(4336), np.int64(4337), np.int64(4338), np.int64(4339), np.int64(4340), np.int64(4341), np.int64(4342), np.int64(4343), np.int64(4344), np.int64(4345), np.int64(4346), np.int64(4347), np.int64(4348), np.int64(4349), np.int64(4350), np.int64(4351), np.int64(4352), np.int64(4353), np.int64(4354), np.int64(4355), np.int64(4356), np.int64(4357), np.int64(4358), np.int64(4359), np.int64(4360), np.int64(4361), np.int64(4362), np.int64(4363), np.int64(4364), np.int64(4365), np.int64(4366), np.int64(4367), np.int64(4368), np.int64(4369), np.int64(4370), np.int64(4371), np.int64(4372), np.int64(4373), np.int64(4374), np.int64(4375), np.int64(4376), np.int64(4377), np.int64(4378), np.int64(4379), np.int64(4380), np.int64(4381), np.int64(4382), np.int64(4383), np.int64(4384), np.int64(4385), np.int64(4386), np.int64(4387), np.int64(4388), np.int64(4389), np.int64(4390), np.int64(4391), np.int64(4392), np.int64(4393), np.int64(4394), np.int64(4395), np.int64(4396), np.int64(4397), np.int64(4398), np.int64(4399), np.int64(4400), np.int64(4401), np.int64(4402), np.int64(4403), np.int64(4404), np.int64(4405), np.int64(4406), np.int64(4407), np.int64(4408), np.int64(4409), np.int64(4410), np.int64(4411), np.int64(4412), np.int64(4413), np.int64(4414), np.int64(4415), np.int64(4416), np.int64(4417), np.int64(4418), np.int64(4419), np.int64(4420), np.int64(4421), np.int64(4422), np.int64(4423), np.int64(4424), np.int64(4425), np.int64(4426), np.int64(4427), np.int64(4428), np.int64(4429), np.int64(4430), np.int64(4431), np.int64(4432), np.int64(4433), np.int64(4434), np.int64(4435), np.int64(4436), np.int64(4437), np.int64(4438), np.int64(4439), np.int64(4440), np.int64(4441), np.int64(4442), np.int64(4443), np.int64(4444), np.int64(4445), np.int64(4446), np.int64(4447), np.int64(4448), np.int64(4449), np.int64(4450), np.int64(4451), np.int64(4452), np.int64(4453), np.int64(4454), np.int64(4455), np.int64(4456), np.int64(4457), np.int64(4458), np.int64(4459), np.int64(4460), np.int64(4461), np.int64(4462), np.int64(4463), np.int64(4464), np.int64(4465), np.int64(4466), np.int64(4467), np.int64(4468), np.int64(4469), np.int64(4470), np.int64(4471), np.int64(4472), np.int64(4473), np.int64(4474), np.int64(4475), np.int64(4476), np.int64(4477), np.int64(4478), np.int64(4479), np.int64(4480), np.int64(4481), np.int64(4482), np.int64(4483), np.int64(4484), np.int64(4485), np.int64(4486), np.int64(4487), np.int64(4488), np.int64(4489), np.int64(4490), np.int64(4491), np.int64(4492), np.int64(4493), np.int64(4494), np.int64(4495), np.int64(4496), np.int64(4497), np.int64(4498), np.int64(4499), np.int64(4500), np.int64(4501), np.int64(4502), np.int64(4503), np.int64(4504), np.int64(4505), np.int64(4506), np.int64(4507), np.int64(4508), np.int64(4509), np.int64(4510), np.int64(4511), np.int64(4512), np.int64(4513), np.int64(4514), np.int64(4515), np.int64(4516), np.int64(4517), np.int64(4518), np.int64(4519), np.int64(4520), np.int64(4521), np.int64(4522), np.int64(4523), np.int64(4524), np.int64(4525), np.int64(4526), np.int64(4527), np.int64(4528), np.int64(4529), np.int64(4530), np.int64(4531), np.int64(4532), np.int64(4533), np.int64(4534), np.int64(4535), np.int64(4536), np.int64(4537), np.int64(4538), np.int64(4539), np.int64(4540), np.int64(4541), np.int64(4542), np.int64(4543), np.int64(4544), np.int64(4545), np.int64(4546), np.int64(4547), np.int64(4548), np.int64(4549), np.int64(4550), np.int64(4551), np.int64(4552), np.int64(4553), np.int64(4554), np.int64(4555), np.int64(4556), np.int64(4557), np.int64(4558), np.int64(4559), np.int64(4560), np.int64(4561), np.int64(4562), np.int64(4563), np.int64(4564), np.int64(4565), np.int64(4566), np.int64(4567), np.int64(4568), np.int64(4569), np.int64(4570), np.int64(4571), np.int64(4572), np.int64(4573), np.int64(4574), np.int64(4575), np.int64(4576), np.int64(4577), np.int64(4578), np.int64(4579), np.int64(4580), np.int64(4581), np.int64(4582), np.int64(4583), np.int64(4584), np.int64(4585), np.int64(4586), np.int64(4587), np.int64(4588), np.int64(4589), np.int64(4590), np.int64(4591), np.int64(4592), np.int64(4593), np.int64(4594), np.int64(4595), np.int64(4596), np.int64(4597), np.int64(4598), np.int64(4599), np.int64(4600), np.int64(4601), np.int64(4602), np.int64(4603), np.int64(4604), np.int64(4605), np.int64(4606), np.int64(4607), np.int64(4608), np.int64(4609), np.int64(4610), np.int64(4611), np.int64(4612), np.int64(4613), np.int64(4614), np.int64(4615), np.int64(4616), np.int64(4617), np.int64(4618), np.int64(4619), np.int64(4620), np.int64(4621), np.int64(4622), np.int64(4623), np.int64(4624), np.int64(4625), np.int64(4626), np.int64(4627), np.int64(4628), np.int64(4629), np.int64(4630), np.int64(4631), np.int64(4632), np.int64(4633), np.int64(4634), np.int64(4635), np.int64(4636), np.int64(4637), np.int64(4638), np.int64(4639), np.int64(4640), np.int64(4641), np.int64(4642), np.int64(4643), np.int64(4644), np.int64(4645), np.int64(4646), np.int64(4647), np.int64(4648), np.int64(4649), np.int64(4650), np.int64(4651), np.int64(4652), np.int64(4653), np.int64(4654), np.int64(4655), np.int64(4656), np.int64(4657), np.int64(4658), np.int64(4659), np.int64(4660), np.int64(4661), np.int64(4662), np.int64(4663), np.int64(4664), np.int64(4665), np.int64(4666), np.int64(4667), np.int64(4668), np.int64(4669), np.int64(4670), np.int64(4671), np.int64(4672), np.int64(4673), np.int64(4674), np.int64(4675), np.int64(4676), np.int64(4677), np.int64(4678), np.int64(4679), np.int64(4680), np.int64(4681), np.int64(4682), np.int64(4683), np.int64(4684), np.int64(4685), np.int64(4686), np.int64(4687), np.int64(4688), np.int64(4689), np.int64(4690), np.int64(4691), np.int64(4692), np.int64(4693), np.int64(4694), np.int64(4695), np.int64(4696), np.int64(4697), np.int64(4698), np.int64(4699), np.int64(4700), np.int64(4701), np.int64(4702), np.int64(4703), np.int64(4704), np.int64(4705), np.int64(4706), np.int64(4707), np.int64(4708), np.int64(4709), np.int64(4710), np.int64(4711), np.int64(4712), np.int64(4713), np.int64(4714), np.int64(4715), np.int64(4716), np.int64(4717), np.int64(4718), np.int64(4719), np.int64(4720), np.int64(4721), np.int64(4722), np.int64(4723), np.int64(4724), np.int64(4725), np.int64(4726), np.int64(4727), np.int64(4728), np.int64(4729), np.int64(4730), np.int64(4731), np.int64(4732), np.int64(4733), np.int64(4734), np.int64(4735), np.int64(4736), np.int64(4737), np.int64(4738), np.int64(4739), np.int64(4740), np.int64(4741), np.int64(4742), np.int64(4743), np.int64(4744), np.int64(4745), np.int64(4746), np.int64(4747), np.int64(4748), np.int64(4749), np.int64(4750), np.int64(4751), np.int64(4752), np.int64(4753), np.int64(4754), np.int64(4755), np.int64(4756), np.int64(4757), np.int64(4758), np.int64(4759), np.int64(4760), np.int64(4761), np.int64(4762), np.int64(4763), np.int64(4764), np.int64(4765), np.int64(4766), np.int64(4767), np.int64(4768), np.int64(4769), np.int64(4770), np.int64(4771), np.int64(4772), np.int64(4773), np.int64(4774), np.int64(4775), np.int64(4776), np.int64(4777), np.int64(4778), np.int64(4779), np.int64(4780), np.int64(4781), np.int64(4782), np.int64(4783), np.int64(4784), np.int64(4785), np.int64(4786), np.int64(4787), np.int64(4788), np.int64(4789), np.int64(4790), np.int64(4791), np.int64(4792), np.int64(4793), np.int64(4794), np.int64(4795), np.int64(4796), np.int64(4797), np.int64(4798), np.int64(4799), np.int64(4800), np.int64(4801), np.int64(4802), np.int64(4803), np.int64(4804), np.int64(4805), np.int64(4806), np.int64(4807), np.int64(4808), np.int64(4809), np.int64(4810), np.int64(4811), np.int64(4812), np.int64(4813), np.int64(4814), np.int64(4815), np.int64(4816), np.int64(4817), np.int64(4818), np.int64(4819), np.int64(4820), np.int64(4821), np.int64(4822), np.int64(4823), np.int64(4824), np.int64(4825), np.int64(4826), np.int64(4827), np.int64(4828), np.int64(4829), np.int64(4830), np.int64(4831), np.int64(4832), np.int64(4833), np.int64(4834), np.int64(4835), np.int64(4836), np.int64(4837), np.int64(4838), np.int64(4839), np.int64(4840), np.int64(4841), np.int64(4842), np.int64(4843), np.int64(4844), np.int64(4845), np.int64(4846), np.int64(4847), np.int64(4848), np.int64(4849), np.int64(4850), np.int64(4851), np.int64(4852), np.int64(4853), np.int64(4854), np.int64(4855), np.int64(4856), np.int64(4857), np.int64(4858), np.int64(4859), np.int64(4860), np.int64(4861), np.int64(4862), np.int64(4863), np.int64(4864), np.int64(4865), np.int64(4866), np.int64(4867), np.int64(4868), np.int64(4869), np.int64(4870), np.int64(4871), np.int64(4872), np.int64(4873), np.int64(4874), np.int64(4875), np.int64(4876), np.int64(4877), np.int64(4878), np.int64(4879), np.int64(4880), np.int64(4881), np.int64(4882), np.int64(4883), np.int64(4884), np.int64(4885), np.int64(4886), np.int64(4887), np.int64(4888), np.int64(4889), np.int64(4890), np.int64(4891), np.int64(4892), np.int64(4893), np.int64(4894), np.int64(4895), np.int64(4896), np.int64(4897), np.int64(4898), np.int64(4899), np.int64(4900), np.int64(4901), np.int64(4902), np.int64(4903), np.int64(4904), np.int64(4905), np.int64(4906), np.int64(4907), np.int64(4908), np.int64(4909), np.int64(4910), np.int64(4911), np.int64(4912), np.int64(4913), np.int64(4914), np.int64(4915), np.int64(4916), np.int64(4917), np.int64(4918), np.int64(4919), np.int64(4920), np.int64(4921), np.int64(4922), np.int64(4923), np.int64(4924), np.int64(4925), np.int64(4926), np.int64(4927), np.int64(4928), np.int64(4929), np.int64(4930), np.int64(4931), np.int64(4932), np.int64(4933), np.int64(4934), np.int64(4935), np.int64(4936), np.int64(4937), np.int64(4938), np.int64(4939), np.int64(4940), np.int64(4941), np.int64(4942), np.int64(4943), np.int64(4944), np.int64(4945), np.int64(4946), np.int64(4947), np.int64(4948), np.int64(4949), np.int64(4950), np.int64(4951), np.int64(4952), np.int64(4953), np.int64(4954), np.int64(4955), np.int64(4956), np.int64(4957), np.int64(4958), np.int64(4959), np.int64(4960), np.int64(4961), np.int64(4962), np.int64(4963), np.int64(4964), np.int64(4965), np.int64(4966), np.int64(4967), np.int64(4968), np.int64(4969), np.int64(4970), np.int64(4971), np.int64(4972), np.int64(4973), np.int64(4974), np.int64(4975), np.int64(4976), np.int64(4977), np.int64(4978), np.int64(4979), np.int64(4980), np.int64(4981), np.int64(4982), np.int64(4983), np.int64(4984), np.int64(4985), np.int64(4986), np.int64(4987), np.int64(4988), np.int64(4989), np.int64(4990), np.int64(4991), np.int64(4992), np.int64(4993), np.int64(4994), np.int64(4995), np.int64(4996), np.int64(4997), np.int64(4998), np.int64(4999), np.int64(5000), np.int64(5001), np.int64(5002), np.int64(5003), np.int64(5004), np.int64(5005), np.int64(5006), np.int64(5007), np.int64(5008), np.int64(5009), np.int64(5010), np.int64(5011), np.int64(5012), np.int64(5013), np.int64(5014), np.int64(5015), np.int64(5016), np.int64(5017), np.int64(5018), np.int64(5019), np.int64(5020), np.int64(5021), np.int64(5022), np.int64(5023), np.int64(5024), np.int64(5025), np.int64(5026), np.int64(5027), np.int64(5028), np.int64(5029), np.int64(5030), np.int64(5031), np.int64(5032), np.int64(5033), np.int64(5034), np.int64(5035), np.int64(5036), np.int64(5037), np.int64(5038), np.int64(5039), np.int64(5040), np.int64(5041), np.int64(5042), np.int64(5043), np.int64(5044), np.int64(5045), np.int64(5046), np.int64(5047), np.int64(5048), np.int64(5049), np.int64(5050), np.int64(5051), np.int64(5052), np.int64(5053), np.int64(5054), np.int64(5055), np.int64(5056), np.int64(5057), np.int64(5058), np.int64(5059), np.int64(5060), np.int64(5061), np.int64(5062), np.int64(5063), np.int64(5064), np.int64(5065), np.int64(5066), np.int64(5067), np.int64(5068), np.int64(5069), np.int64(5070), np.int64(5071), np.int64(5072), np.int64(5073), np.int64(5074), np.int64(5075), np.int64(5076), np.int64(5077), np.int64(5078), np.int64(5079), np.int64(5080), np.int64(5081), np.int64(5082), np.int64(5083), np.int64(5084), np.int64(5085), np.int64(5086), np.int64(5087), np.int64(5088), np.int64(5089), np.int64(5090), np.int64(5091), np.int64(5092), np.int64(5093), np.int64(5094), np.int64(5095), np.int64(5096), np.int64(5097), np.int64(5098), np.int64(5099), np.int64(5100), np.int64(5101), np.int64(5102), np.int64(5103), np.int64(5104), np.int64(5105), np.int64(5106), np.int64(5107), np.int64(5108), np.int64(5109), np.int64(5110), np.int64(5111), np.int64(5112), np.int64(5113), np.int64(5114), np.int64(5115), np.int64(5116), np.int64(5117), np.int64(5118), np.int64(5119), np.int64(5120), np.int64(5121), np.int64(5122), np.int64(5123), np.int64(5124), np.int64(5125), np.int64(5126), np.int64(5127), np.int64(5128), np.int64(5129), np.int64(5130), np.int64(5131), np.int64(5132), np.int64(5133), np.int64(5134), np.int64(5135), np.int64(5136), np.int64(5137), np.int64(5138), np.int64(5139), np.int64(5140), np.int64(5141), np.int64(5142), np.int64(5143), np.int64(5144), np.int64(5145), np.int64(5146), np.int64(5147), np.int64(5148), np.int64(5149), np.int64(5150), np.int64(5151), np.int64(5152), np.int64(5153), np.int64(5154), np.int64(5155), np.int64(5156), np.int64(5157), np.int64(5158), np.int64(5159), np.int64(5160), np.int64(5161), np.int64(5162), np.int64(5163), np.int64(5164), np.int64(5165), np.int64(5166), np.int64(5167), np.int64(5168), np.int64(5169), np.int64(5170), np.int64(5171), np.int64(5172), np.int64(5173), np.int64(5174), np.int64(5175), np.int64(5176), np.int64(5177), np.int64(5178), np.int64(5179), np.int64(5180), np.int64(5181), np.int64(5182), np.int64(5183), np.int64(5184), np.int64(5185), np.int64(5186), np.int64(5187), np.int64(5188), np.int64(5189), np.int64(5190), np.int64(5191), np.int64(5192), np.int64(5193), np.int64(5194), np.int64(5195), np.int64(5196), np.int64(5197), np.int64(5198), np.int64(5199), np.int64(5200), np.int64(5201), np.int64(5202), np.int64(5203), np.int64(5204), np.int64(5205), np.int64(5206), np.int64(5207), np.int64(5208), np.int64(5209), np.int64(5210), np.int64(5211), np.int64(5212), np.int64(5213), np.int64(5214), np.int64(5215), np.int64(5216), np.int64(5217), np.int64(5218), np.int64(5219), np.int64(5220), np.int64(5221), np.int64(5222), np.int64(5223), np.int64(5224), np.int64(5225), np.int64(5226), np.int64(5227), np.int64(5228), np.int64(5229), np.int64(5230), np.int64(5231), np.int64(5232), np.int64(5233), np.int64(5234), np.int64(5235), np.int64(5236), np.int64(5237), np.int64(5238), np.int64(5239), np.int64(5240), np.int64(5241), np.int64(5242), np.int64(5243), np.int64(5244), np.int64(5245), np.int64(5246), np.int64(5247), np.int64(5248), np.int64(5249), np.int64(5250), np.int64(5251), np.int64(5252), np.int64(5253), np.int64(5254), np.int64(5255), np.int64(5256), np.int64(5257), np.int64(5258), np.int64(5259), np.int64(5260), np.int64(5261), np.int64(5262), np.int64(5263), np.int64(5264), np.int64(5265), np.int64(5266), np.int64(5267), np.int64(5268), np.int64(5269), np.int64(5270), np.int64(5271), np.int64(5272), np.int64(5273), np.int64(5274), np.int64(5275), np.int64(5276), np.int64(5277), np.int64(5278), np.int64(5279), np.int64(5280), np.int64(5281), np.int64(5282), np.int64(5283), np.int64(5284), np.int64(5285), np.int64(5286), np.int64(5287), np.int64(5288), np.int64(5289), np.int64(5290), np.int64(5291), np.int64(5292), np.int64(5293), np.int64(5294), np.int64(5295), np.int64(5296), np.int64(5297), np.int64(5298), np.int64(5299), np.int64(5300), np.int64(5301), np.int64(5302), np.int64(5303), np.int64(5304), np.int64(5305), np.int64(5306), np.int64(5307), np.int64(5308), np.int64(5309), np.int64(5310), np.int64(5311), np.int64(5312), np.int64(5313), np.int64(5314), np.int64(5315), np.int64(5316), np.int64(5317), np.int64(5318), np.int64(5319), np.int64(5320), np.int64(5321), np.int64(5322), np.int64(5323), np.int64(5324), np.int64(5325), np.int64(5326), np.int64(5327), np.int64(5328), np.int64(5329), np.int64(5330), np.int64(5331), np.int64(5332), np.int64(5333), np.int64(5334), np.int64(5335), np.int64(5336), np.int64(5337), np.int64(5338), np.int64(5339), np.int64(5340), np.int64(5341), np.int64(5342), np.int64(5343), np.int64(5344), np.int64(5345), np.int64(5346), np.int64(5347), np.int64(5348), np.int64(5349), np.int64(5350), np.int64(5351), np.int64(5352), np.int64(5353), np.int64(5354), np.int64(5355), np.int64(5356), np.int64(5357), np.int64(5358), np.int64(5359), np.int64(5360), np.int64(5361), np.int64(5362), np.int64(5363), np.int64(5364), np.int64(5365), np.int64(5366), np.int64(5367), np.int64(5368), np.int64(5369), np.int64(5370), np.int64(5371), np.int64(5372), np.int64(5373), np.int64(5374), np.int64(5375), np.int64(5376), np.int64(5377), np.int64(5378), np.int64(5379), np.int64(5380), np.int64(5381), np.int64(5382), np.int64(5383), np.int64(5384), np.int64(5385), np.int64(5386), np.int64(5387), np.int64(5388), np.int64(5389), np.int64(5390), np.int64(5391), np.int64(5392), np.int64(5393), np.int64(5394), np.int64(5395), np.int64(5396), np.int64(5397), np.int64(5398), np.int64(5399), np.int64(5400), np.int64(5401), np.int64(5402), np.int64(5403), np.int64(5404), np.int64(5405), np.int64(5406), np.int64(5407), np.int64(5408), np.int64(5409), np.int64(5410), np.int64(5411), np.int64(5412), np.int64(5413), np.int64(5414), np.int64(5415), np.int64(5416), np.int64(5417), np.int64(5418), np.int64(5419), np.int64(5420), np.int64(5421), np.int64(5422), np.int64(5423), np.int64(5424), np.int64(5425), np.int64(5426), np.int64(5427), np.int64(5428), np.int64(5429), np.int64(5430), np.int64(5431), np.int64(5432), np.int64(5433), np.int64(5434), np.int64(5435), np.int64(5436), np.int64(5437), np.int64(5438), np.int64(5439), np.int64(5440), np.int64(5441), np.int64(5442), np.int64(5443), np.int64(5444), np.int64(5445), np.int64(5446), np.int64(5447), np.int64(5448), np.int64(5449), np.int64(5450), np.int64(5451), np.int64(5452), np.int64(5453), np.int64(5454), np.int64(5455), np.int64(5456), np.int64(5457), np.int64(5458), np.int64(5459), np.int64(5460), np.int64(5461), np.int64(5462), np.int64(5463), np.int64(5464), np.int64(5465), np.int64(5466), np.int64(5467), np.int64(5468), np.int64(5469), np.int64(5470), np.int64(5471), np.int64(5472), np.int64(5473), np.int64(5474), np.int64(5475), np.int64(5476), np.int64(5477), np.int64(5478), np.int64(5479), np.int64(5480), np.int64(5481), np.int64(5482), np.int64(5483), np.int64(5484), np.int64(5485), np.int64(5486), np.int64(5487), np.int64(5488), np.int64(5489), np.int64(5490), np.int64(5491), np.int64(5492), np.int64(5493), np.int64(5494), np.int64(5495), np.int64(5496), np.int64(5497), np.int64(5498), np.int64(5499), np.int64(5500), np.int64(5501), np.int64(5502), np.int64(5503), np.int64(5504), np.int64(5505), np.int64(5506), np.int64(5507), np.int64(5508), np.int64(5509), np.int64(5510), np.int64(5511), np.int64(5512), np.int64(5513), np.int64(5514), np.int64(5515), np.int64(5516), np.int64(5517), np.int64(5518), np.int64(5519), np.int64(5520), np.int64(5521), np.int64(5522), np.int64(5523), np.int64(5524), np.int64(5525), np.int64(5526), np.int64(5527), np.int64(5528), np.int64(5529), np.int64(5530), np.int64(5531), np.int64(5532), np.int64(5533), np.int64(5534), np.int64(5535), np.int64(5536), np.int64(5537), np.int64(5538), np.int64(5539), np.int64(5540), np.int64(5541), np.int64(5542), np.int64(5543), np.int64(5544), np.int64(5545), np.int64(5546), np.int64(5547), np.int64(5548), np.int64(5549), np.int64(5550), np.int64(5551), np.int64(5552), np.int64(5553), np.int64(5554), np.int64(5555), np.int64(5556), np.int64(5557), np.int64(5558), np.int64(5559), np.int64(5560), np.int64(5561), np.int64(5562), np.int64(5563), np.int64(5564), np.int64(5565), np.int64(5566), np.int64(5567), np.int64(5568), np.int64(5569), np.int64(5570), np.int64(5571), np.int64(5572), np.int64(5573), np.int64(5574), np.int64(5575), np.int64(5576), np.int64(5577), np.int64(5578), np.int64(5579), np.int64(5580), np.int64(5581), np.int64(5582), np.int64(5583), np.int64(5584), np.int64(5585), np.int64(5586), np.int64(5587), np.int64(5588), np.int64(5589), np.int64(5590), np.int64(5591), np.int64(5592), np.int64(5593), np.int64(5594), np.int64(5595), np.int64(5596), np.int64(5597), np.int64(5598), np.int64(5599), np.int64(5600), np.int64(5601), np.int64(5602), np.int64(5603), np.int64(5604), np.int64(5605), np.int64(5606), np.int64(5607), np.int64(5608), np.int64(5609), np.int64(5610), np.int64(5611), np.int64(5612), np.int64(5613), np.int64(5614), np.int64(5615), np.int64(5616), np.int64(5617), np.int64(5618), np.int64(5619), np.int64(5620), np.int64(5621), np.int64(5622), np.int64(5623), np.int64(5624), np.int64(5625), np.int64(5626), np.int64(5627), np.int64(5628), np.int64(5629), np.int64(5630), np.int64(5631), np.int64(5632), np.int64(5633), np.int64(5634), np.int64(5635), np.int64(5636), np.int64(5637), np.int64(5638), np.int64(5639), np.int64(5640), np.int64(5641), np.int64(5642), np.int64(5643), np.int64(5644), np.int64(5645), np.int64(5646), np.int64(5647), np.int64(5648), np.int64(5649), np.int64(5650), np.int64(5651), np.int64(5652), np.int64(5653), np.int64(5654), np.int64(5655), np.int64(5656), np.int64(5657), np.int64(5658), np.int64(5659), np.int64(5660), np.int64(5661), np.int64(5662), np.int64(5663), np.int64(5664), np.int64(5665), np.int64(5666), np.int64(5667), np.int64(5668), np.int64(5669), np.int64(5670), np.int64(5671), np.int64(5672), np.int64(5673), np.int64(5674), np.int64(5675), np.int64(5676), np.int64(5677), np.int64(5678), np.int64(5679), np.int64(5680), np.int64(5681), np.int64(5682), np.int64(5683), np.int64(5684), np.int64(5685), np.int64(5686), np.int64(5687), np.int64(5688), np.int64(5689), np.int64(5690), np.int64(5691), np.int64(5692), np.int64(5693), np.int64(5694), np.int64(5695), np.int64(5696), np.int64(5697), np.int64(5698), np.int64(5699), np.int64(5700), np.int64(5701), np.int64(5702), np.int64(5703), np.int64(5704), np.int64(5705), np.int64(5706), np.int64(5707), np.int64(5708), np.int64(5709), np.int64(5710), np.int64(5711), np.int64(5712), np.int64(5713), np.int64(5714), np.int64(5715), np.int64(5716), np.int64(5717), np.int64(5718), np.int64(5719), np.int64(5720), np.int64(5721), np.int64(5722), np.int64(5723), np.int64(5724), np.int64(5725), np.int64(5726), np.int64(5727), np.int64(5728), np.int64(5729), np.int64(5730), np.int64(5731), np.int64(5732), np.int64(5733), np.int64(5734), np.int64(5735), np.int64(5736), np.int64(5737), np.int64(5738), np.int64(5739), np.int64(5740), np.int64(5741), np.int64(5742), np.int64(5743), np.int64(5744), np.int64(5745), np.int64(5746), np.int64(5747), np.int64(5748), np.int64(5749), np.int64(5750), np.int64(5751), np.int64(5752), np.int64(5753), np.int64(5754), np.int64(5755), np.int64(5756), np.int64(5757), np.int64(5758), np.int64(5759), np.int64(5760), np.int64(5761), np.int64(5762), np.int64(5763), np.int64(5764), np.int64(5765), np.int64(5766), np.int64(5767), np.int64(5768), np.int64(5769), np.int64(5770), np.int64(5771), np.int64(5772), np.int64(5773), np.int64(5774), np.int64(5775), np.int64(5776), np.int64(5777), np.int64(5778), np.int64(5779), np.int64(5780), np.int64(5781), np.int64(5782), np.int64(5783), np.int64(5784), np.int64(5785), np.int64(5786), np.int64(5787), np.int64(5788), np.int64(5789), np.int64(5790), np.int64(5791), np.int64(5792), np.int64(5793), np.int64(5794), np.int64(5795), np.int64(5796), np.int64(5797), np.int64(5798), np.int64(5799), np.int64(5800), np.int64(5801), np.int64(5802), np.int64(5803), np.int64(5804), np.int64(5805), np.int64(5806), np.int64(5807), np.int64(5808), np.int64(5809), np.int64(5810), np.int64(5811), np.int64(5812), np.int64(5813), np.int64(5814), np.int64(5815), np.int64(5816), np.int64(5817), np.int64(5818), np.int64(5819), np.int64(5820), np.int64(5821), np.int64(5822), np.int64(5823), np.int64(5824), np.int64(5825), np.int64(5826), np.int64(5827), np.int64(5828), np.int64(5829), np.int64(5830), np.int64(5831), np.int64(5832), np.int64(5833), np.int64(5834), np.int64(5835), np.int64(5836), np.int64(5837), np.int64(5838), np.int64(5839), np.int64(5840), np.int64(5841), np.int64(5842), np.int64(5843), np.int64(5844), np.int64(5845), np.int64(5846), np.int64(5847), np.int64(5848), np.int64(5849), np.int64(5850), np.int64(5851), np.int64(5852), np.int64(5853), np.int64(5854), np.int64(5855), np.int64(5856), np.int64(5857), np.int64(5858), np.int64(5859), np.int64(5860), np.int64(5861), np.int64(5862), np.int64(5863), np.int64(5864), np.int64(5865), np.int64(5866), np.int64(5867), np.int64(5868), np.int64(5869), np.int64(5870), np.int64(5871), np.int64(5872), np.int64(5873), np.int64(5874), np.int64(5875), np.int64(5876), np.int64(5877), np.int64(5878), np.int64(5879), np.int64(5880), np.int64(5881), np.int64(5882), np.int64(5883), np.int64(5884), np.int64(5885), np.int64(5886), np.int64(5887), np.int64(5888), np.int64(5889), np.int64(5890), np.int64(5891), np.int64(5892), np.int64(5893), np.int64(5894), np.int64(5895), np.int64(5896), np.int64(5897), np.int64(5898), np.int64(5899), np.int64(5900), np.int64(5901), np.int64(5902), np.int64(5903), np.int64(5904), np.int64(5905), np.int64(5906), np.int64(5907), np.int64(5908), np.int64(5909), np.int64(5910), np.int64(5911), np.int64(5912), np.int64(5913), np.int64(5914), np.int64(5915), np.int64(5916), np.int64(5917), np.int64(5918), np.int64(5919), np.int64(5920), np.int64(5921), np.int64(5922), np.int64(5923), np.int64(5924), np.int64(5925), np.int64(5926), np.int64(5927), np.int64(5928), np.int64(5929), np.int64(5930), np.int64(5931), np.int64(5932), np.int64(5933), np.int64(5934), np.int64(5935), np.int64(5936), np.int64(5937), np.int64(5938), np.int64(5939), np.int64(5940), np.int64(5941), np.int64(5942), np.int64(5943), np.int64(5944), np.int64(5945), np.int64(5946), np.int64(5947), np.int64(5948), np.int64(5949), np.int64(5950), np.int64(5951), np.int64(5952), np.int64(5953), np.int64(5954), np.int64(5955), np.int64(5956), np.int64(5957), np.int64(5958), np.int64(5959), np.int64(5960), np.int64(5961), np.int64(5962), np.int64(5963), np.int64(5964), np.int64(5965), np.int64(5966), np.int64(5967), np.int64(5968), np.int64(5969), np.int64(5970), np.int64(5971), np.int64(5972), np.int64(5973), np.int64(5974), np.int64(5975), np.int64(5976), np.int64(5977), np.int64(5978), np.int64(5979), np.int64(5980), np.int64(5981), np.int64(5982), np.int64(5983), np.int64(5984), np.int64(5985), np.int64(5986), np.int64(5987), np.int64(5988), np.int64(5989), np.int64(5990), np.int64(5991), np.int64(5992), np.int64(5993), np.int64(5994), np.int64(5995), np.int64(5996), np.int64(5997), np.int64(5998), np.int64(5999), np.int64(6000), np.int64(6001), np.int64(6002), np.int64(6003), np.int64(6004), np.int64(6005), np.int64(6006), np.int64(6007), np.int64(6008), np.int64(6009), np.int64(6010), np.int64(6011), np.int64(6012), np.int64(6013), np.int64(6014), np.int64(6015), np.int64(6016), np.int64(6017), np.int64(6018), np.int64(6019), np.int64(6020), np.int64(6021), np.int64(6022), np.int64(6023), np.int64(6024), np.int64(6025), np.int64(6026), np.int64(6027), np.int64(6028), np.int64(6029), np.int64(6030), np.int64(6031), np.int64(6032), np.int64(6033), np.int64(6034), np.int64(6035), np.int64(6036), np.int64(6037), np.int64(6038), np.int64(6039), np.int64(6040), np.int64(6041), np.int64(6042), np.int64(6043), np.int64(6044), np.int64(6045), np.int64(6046), np.int64(6047), np.int64(6048), np.int64(6049), np.int64(6050), np.int64(6051), np.int64(6052), np.int64(6053), np.int64(6054), np.int64(6055), np.int64(6056), np.int64(6057), np.int64(6058), np.int64(6059), np.int64(6060), np.int64(6061), np.int64(6062), np.int64(6063), np.int64(6064), np.int64(6065), np.int64(6066), np.int64(6067), np.int64(6068), np.int64(6069), np.int64(6070), np.int64(6071), np.int64(6072), np.int64(6073), np.int64(6074), np.int64(6075), np.int64(6076), np.int64(6077), np.int64(6078), np.int64(6079), np.int64(6080), np.int64(6081), np.int64(6082), np.int64(6083), np.int64(6084), np.int64(6085), np.int64(6086), np.int64(6087), np.int64(6088), np.int64(6089), np.int64(6090), np.int64(6091), np.int64(6092), np.int64(6093), np.int64(6094), np.int64(6095), np.int64(6096), np.int64(6097), np.int64(6098), np.int64(6099), np.int64(6100), np.int64(6101), np.int64(6102), np.int64(6103), np.int64(6104), np.int64(6105), np.int64(6106), np.int64(6107), np.int64(6108), np.int64(6109), np.int64(6110), np.int64(6111), np.int64(6112), np.int64(6113), np.int64(6114), np.int64(6115), np.int64(6116), np.int64(6117), np.int64(6118), np.int64(6119), np.int64(6120), np.int64(6121), np.int64(6122), np.int64(6123), np.int64(6124), np.int64(6125), np.int64(6126), np.int64(6127), np.int64(6128), np.int64(6129), np.int64(6130), np.int64(6131), np.int64(6132), np.int64(6133), np.int64(6134), np.int64(6135), np.int64(6136), np.int64(6137), np.int64(6138), np.int64(6139), np.int64(6140), np.int64(6141), np.int64(6142), np.int64(6143), np.int64(6144), np.int64(6145), np.int64(6146), np.int64(6147), np.int64(6148), np.int64(6149), np.int64(6150), np.int64(6151), np.int64(6152), np.int64(6153), np.int64(6154), np.int64(6155), np.int64(6156), np.int64(6157), np.int64(6158), np.int64(6159), np.int64(6160), np.int64(6161), np.int64(6162), np.int64(6163), np.int64(6164), np.int64(6165), np.int64(6166), np.int64(6167), np.int64(6168), np.int64(6169), np.int64(6170), np.int64(6171), np.int64(6172), np.int64(6173), np.int64(6174), np.int64(6175), np.int64(6176), np.int64(6177), np.int64(6178), np.int64(6179), np.int64(6180), np.int64(6181), np.int64(6182), np.int64(6183), np.int64(6184), np.int64(6185), np.int64(6186), np.int64(6187), np.int64(6188), np.int64(6189), np.int64(6190), np.int64(6191), np.int64(6192), np.int64(6193), np.int64(6194), np.int64(6195), np.int64(6196), np.int64(6197), np.int64(6198), np.int64(6199), np.int64(6200), np.int64(6201), np.int64(6202), np.int64(6203), np.int64(6204), np.int64(6205), np.int64(6206), np.int64(6207), np.int64(6208), np.int64(6209), np.int64(6210), np.int64(6211), np.int64(6212), np.int64(6213), np.int64(6214), np.int64(6215), np.int64(6216), np.int64(6217), np.int64(6218), np.int64(6219), np.int64(6220), np.int64(6221), np.int64(6222), np.int64(6223), np.int64(6224), np.int64(6225), np.int64(6226), np.int64(6227), np.int64(6228), np.int64(6229), np.int64(6230), np.int64(6231), np.int64(6232), np.int64(6233), np.int64(6234), np.int64(6235), np.int64(6236), np.int64(6237), np.int64(6238), np.int64(6239), np.int64(6240), np.int64(6241), np.int64(6242), np.int64(6243), np.int64(6244), np.int64(6245), np.int64(6246), np.int64(6247), np.int64(6248), np.int64(6249), np.int64(6250), np.int64(6251), np.int64(6252), np.int64(6253), np.int64(6254), np.int64(6255), np.int64(6256), np.int64(6257), np.int64(6258), np.int64(6259), np.int64(6260), np.int64(6261), np.int64(6262), np.int64(6263), np.int64(6264), np.int64(6265), np.int64(6266), np.int64(6267), np.int64(6268), np.int64(6269), np.int64(6270), np.int64(6271), np.int64(6272), np.int64(6273), np.int64(6274), np.int64(6275), np.int64(6276), np.int64(6277), np.int64(6278), np.int64(6279), np.int64(6280), np.int64(6281), np.int64(6282), np.int64(6283), np.int64(6284), np.int64(6285), np.int64(6286), np.int64(6287), np.int64(6288), np.int64(6289), np.int64(6290), np.int64(6291), np.int64(6292), np.int64(6293), np.int64(6294), np.int64(6295), np.int64(6296), np.int64(6297), np.int64(6298), np.int64(6299), np.int64(6300), np.int64(6301), np.int64(6302), np.int64(6303), np.int64(6304), np.int64(6305), np.int64(6306), np.int64(6307), np.int64(6308), np.int64(6309), np.int64(6310), np.int64(6311), np.int64(6312), np.int64(6313), np.int64(6314), np.int64(6315), np.int64(6316), np.int64(6317), np.int64(6318), np.int64(6319), np.int64(6320), np.int64(6321), np.int64(6322), np.int64(6323), np.int64(6324), np.int64(6325), np.int64(6326), np.int64(6327), np.int64(6328), np.int64(6329), np.int64(6330), np.int64(6331), np.int64(6332), np.int64(6333), np.int64(6334), np.int64(6335), np.int64(6336), np.int64(6337), np.int64(6338), np.int64(6339), np.int64(6340), np.int64(6341), np.int64(6342), np.int64(6343), np.int64(6344), np.int64(6345), np.int64(6346), np.int64(6347), np.int64(6348), np.int64(6349), np.int64(6350), np.int64(6351), np.int64(6352), np.int64(6353), np.int64(6354), np.int64(6355), np.int64(6356), np.int64(6357), np.int64(6358), np.int64(6359), np.int64(6360), np.int64(6361), np.int64(6362), np.int64(6363), np.int64(6364), np.int64(6365), np.int64(6366), np.int64(6367), np.int64(6368), np.int64(6369), np.int64(6370), np.int64(6371), np.int64(6372), np.int64(6373), np.int64(6374), np.int64(6375), np.int64(6376), np.int64(6377), np.int64(6378), np.int64(6379), np.int64(6380), np.int64(6381), np.int64(6382), np.int64(6383), np.int64(6384), np.int64(6385), np.int64(6386), np.int64(6387), np.int64(6388), np.int64(6389), np.int64(6390), np.int64(6391), np.int64(6392), np.int64(6393), np.int64(6394), np.int64(6395), np.int64(6396), np.int64(6397), np.int64(6398), np.int64(6399), np.int64(6400), np.int64(6401), np.int64(6402), np.int64(6403), np.int64(6404), np.int64(6405), np.int64(6406), np.int64(6407), np.int64(6408), np.int64(6409), np.int64(6410), np.int64(6411), np.int64(6412), np.int64(6413), np.int64(6414), np.int64(6415), np.int64(6416), np.int64(6417), np.int64(6418), np.int64(6419), np.int64(6420), np.int64(6421), np.int64(6422), np.int64(6423), np.int64(6424), np.int64(6425), np.int64(6426), np.int64(6427), np.int64(6428), np.int64(6429), np.int64(6430), np.int64(6431), np.int64(6432), np.int64(6433), np.int64(6434), np.int64(6435), np.int64(6436), np.int64(6437), np.int64(6438), np.int64(6439), np.int64(6440), np.int64(6441), np.int64(6442), np.int64(6443), np.int64(6444), np.int64(6445), np.int64(6446), np.int64(6447), np.int64(6448), np.int64(6449), np.int64(6450), np.int64(6451), np.int64(6452), np.int64(6453), np.int64(6454), np.int64(6455), np.int64(6456), np.int64(6457), np.int64(6458), np.int64(6459), np.int64(6460), np.int64(6461), np.int64(6462), np.int64(6463), np.int64(6464), np.int64(6465), np.int64(6466), np.int64(6467), np.int64(6468), np.int64(6469), np.int64(6470), np.int64(6471), np.int64(6472), np.int64(6473), np.int64(6474), np.int64(6475), np.int64(6476), np.int64(6477), np.int64(6478), np.int64(6479), np.int64(6480), np.int64(6481), np.int64(6482), np.int64(6483), np.int64(6484), np.int64(6485), np.int64(6486), np.int64(6487), np.int64(6488), np.int64(6489), np.int64(6490), np.int64(6491), np.int64(6492), np.int64(6493), np.int64(6494), np.int64(6495), np.int64(6496), np.int64(6497), np.int64(6498), np.int64(6499), np.int64(6500), np.int64(6501), np.int64(6502), np.int64(6503), np.int64(6504), np.int64(6505), np.int64(6506), np.int64(6507), np.int64(6508), np.int64(6509), np.int64(6510), np.int64(6511), np.int64(6512), np.int64(6513), np.int64(6514), np.int64(6515), np.int64(6516), np.int64(6517), np.int64(6518), np.int64(6519), np.int64(6520), np.int64(6521), np.int64(6522), np.int64(6523), np.int64(6524), np.int64(6525), np.int64(6526), np.int64(6527), np.int64(6528), np.int64(6529), np.int64(6530), np.int64(6531), np.int64(6532), np.int64(6533), np.int64(6534), np.int64(6535), np.int64(6536), np.int64(6537), np.int64(6538), np.int64(6539), np.int64(6540), np.int64(6541), np.int64(6542), np.int64(6543), np.int64(6544), np.int64(6545), np.int64(6546), np.int64(6547), np.int64(6548), np.int64(6549), np.int64(6550), np.int64(6551), np.int64(6552), np.int64(6553), np.int64(6554), np.int64(6555), np.int64(6556), np.int64(6557), np.int64(6558), np.int64(6559), np.int64(6560), np.int64(6561), np.int64(6562), np.int64(6563), np.int64(6564), np.int64(6565), np.int64(6566), np.int64(6567), np.int64(6568), np.int64(6569), np.int64(6570), np.int64(6571), np.int64(6572), np.int64(6573), np.int64(6574), np.int64(6575), np.int64(6576), np.int64(6577), np.int64(6578), np.int64(6579), np.int64(6580), np.int64(6581), np.int64(6582), np.int64(6583), np.int64(6584), np.int64(6585), np.int64(6586), np.int64(6587), np.int64(6588), np.int64(6589), np.int64(6590), np.int64(6591), np.int64(6592), np.int64(6593), np.int64(6594), np.int64(6595), np.int64(6596), np.int64(6597), np.int64(6598), np.int64(6599), np.int64(6600), np.int64(6601), np.int64(6602), np.int64(6603), np.int64(6604), np.int64(6605), np.int64(6606), np.int64(6607), np.int64(6608), np.int64(6609), np.int64(6610), np.int64(6611), np.int64(6612), np.int64(6613), np.int64(6614), np.int64(6615), np.int64(6616), np.int64(6617), np.int64(6618), np.int64(6619), np.int64(6620), np.int64(6621), np.int64(6622), np.int64(6623), np.int64(6624), np.int64(6625), np.int64(6626), np.int64(6627), np.int64(6628), np.int64(6629), np.int64(6630), np.int64(6631), np.int64(6632), np.int64(6633), np.int64(6634), np.int64(6635), np.int64(6636), np.int64(6637), np.int64(6638), np.int64(6639), np.int64(6640), np.int64(6641), np.int64(6642), np.int64(6643), np.int64(6644), np.int64(6645), np.int64(6646), np.int64(6647), np.int64(6648), np.int64(6649), np.int64(6650), np.int64(6651), np.int64(6652), np.int64(6653), np.int64(6654), np.int64(6655), np.int64(6656), np.int64(6657), np.int64(6658), np.int64(6659), np.int64(6660), np.int64(6661), np.int64(6662), np.int64(6663), np.int64(6664), np.int64(6665), np.int64(6666), np.int64(6667), np.int64(6668), np.int64(6669), np.int64(6670), np.int64(6671), np.int64(6672), np.int64(6673), np.int64(6674), np.int64(6675), np.int64(6676), np.int64(6677), np.int64(6678), np.int64(6679), np.int64(6680), np.int64(6681), np.int64(6682), np.int64(6683), np.int64(6684), np.int64(6685), np.int64(6686), np.int64(6687), np.int64(6688), np.int64(6689), np.int64(6690), np.int64(6691), np.int64(6692), np.int64(6693), np.int64(6694), np.int64(6695), np.int64(6696), np.int64(6697), np.int64(6698), np.int64(6699), np.int64(6700), np.int64(6701), np.int64(6702), np.int64(6703), np.int64(6704), np.int64(6705), np.int64(6706), np.int64(6707), np.int64(6708), np.int64(6709), np.int64(6710), np.int64(6711), np.int64(6712), np.int64(6713), np.int64(6714), np.int64(6715), np.int64(6716), np.int64(6717), np.int64(6718), np.int64(6719), np.int64(6720), np.int64(6721), np.int64(6722), np.int64(6723), np.int64(6724), np.int64(6725), np.int64(6726), np.int64(6727), np.int64(6728), np.int64(6729), np.int64(6730), np.int64(6731), np.int64(6732), np.int64(6733), np.int64(6734), np.int64(6735), np.int64(6736), np.int64(6737), np.int64(6738), np.int64(6739), np.int64(6740), np.int64(6741), np.int64(6742), np.int64(6743), np.int64(6744), np.int64(6745), np.int64(6746), np.int64(6747), np.int64(6748), np.int64(6749), np.int64(6750), np.int64(6751), np.int64(6752), np.int64(6753), np.int64(6754), np.int64(6755), np.int64(6756), np.int64(6757), np.int64(6758), np.int64(6759), np.int64(6760), np.int64(6761), np.int64(6762), np.int64(6763), np.int64(6764), np.int64(6765), np.int64(6766), np.int64(6767), np.int64(6768), np.int64(6769), np.int64(6770), np.int64(6771), np.int64(6772), np.int64(6773), np.int64(6774), np.int64(6775), np.int64(6776), np.int64(6777), np.int64(6778), np.int64(6779), np.int64(6780), np.int64(6781), np.int64(6782), np.int64(6783), np.int64(6784), np.int64(6785), np.int64(6786), np.int64(6787), np.int64(6788), np.int64(6789), np.int64(6790), np.int64(6791), np.int64(6792), np.int64(6793), np.int64(6794), np.int64(6795), np.int64(6796), np.int64(6797), np.int64(6798), np.int64(6799), np.int64(6800), np.int64(6801), np.int64(6802), np.int64(6803), np.int64(6804), np.int64(6805), np.int64(6806), np.int64(6807), np.int64(6808), np.int64(6809), np.int64(6810), np.int64(6811), np.int64(6812), np.int64(6813), np.int64(6814), np.int64(6815), np.int64(6816), np.int64(6817), np.int64(6818), np.int64(6819), np.int64(6820), np.int64(6821), np.int64(6822), np.int64(6823), np.int64(6824), np.int64(6825), np.int64(6826), np.int64(6827), np.int64(6828), np.int64(6829), np.int64(6830), np.int64(6831), np.int64(6832), np.int64(6833), np.int64(6834), np.int64(6835), np.int64(6836), np.int64(6837), np.int64(6838), np.int64(6839), np.int64(6840), np.int64(6841), np.int64(6842), np.int64(6843), np.int64(6844), np.int64(6845), np.int64(6846), np.int64(6847), np.int64(6848), np.int64(6849), np.int64(6850), np.int64(6851), np.int64(6852), np.int64(6853), np.int64(6854), np.int64(6855), np.int64(6856), np.int64(6857), np.int64(6858), np.int64(6859), np.int64(6860), np.int64(6861), np.int64(6862), np.int64(6863), np.int64(6864), np.int64(6865), np.int64(6866), np.int64(6867), np.int64(6868), np.int64(6869), np.int64(6870), np.int64(6871), np.int64(6872), np.int64(6873), np.int64(6874), np.int64(6875), np.int64(6876), np.int64(6877), np.int64(6878), np.int64(6879), np.int64(6880), np.int64(6881), np.int64(6882), np.int64(6883), np.int64(6884), np.int64(6885), np.int64(6886), np.int64(6887), np.int64(6888), np.int64(6889), np.int64(6890), np.int64(6891), np.int64(6892), np.int64(6893), np.int64(6894), np.int64(6895), np.int64(6896), np.int64(6897), np.int64(6898), np.int64(6899), np.int64(6900), np.int64(6901), np.int64(6902), np.int64(6903), np.int64(6904), np.int64(6905), np.int64(6906), np.int64(6907), np.int64(6908), np.int64(6909), np.int64(6910), np.int64(6911), np.int64(6912), np.int64(6913), np.int64(6914), np.int64(6915), np.int64(6916), np.int64(6917), np.int64(6918), np.int64(6919), np.int64(6920), np.int64(6921), np.int64(6922), np.int64(6923), np.int64(6924), np.int64(6925), np.int64(6926), np.int64(6927), np.int64(6928), np.int64(6929), np.int64(6930), np.int64(6931), np.int64(6932), np.int64(6933), np.int64(6934), np.int64(6935), np.int64(6936), np.int64(6937), np.int64(6938), np.int64(6939), np.int64(6940), np.int64(6941), np.int64(6942), np.int64(6943), np.int64(6944), np.int64(6945), np.int64(6946), np.int64(6947), np.int64(6948), np.int64(6949), np.int64(6950), np.int64(6951), np.int64(6952), np.int64(6953), np.int64(6954), np.int64(6955), np.int64(6956), np.int64(6957), np.int64(6958), np.int64(6959), np.int64(6960), np.int64(6961), np.int64(6962), np.int64(6963), np.int64(6964), np.int64(6965), np.int64(6966), np.int64(6967), np.int64(6968), np.int64(6969), np.int64(6970), np.int64(6971), np.int64(6972), np.int64(6973), np.int64(6974), np.int64(6975), np.int64(6976), np.int64(6977), np.int64(6978), np.int64(6979), np.int64(6980), np.int64(6981), np.int64(6982), np.int64(6983), np.int64(6984), np.int64(6985), np.int64(6986), np.int64(6987), np.int64(6988), np.int64(6989), np.int64(6990), np.int64(6991), np.int64(6992), np.int64(6993), np.int64(6994), np.int64(6995), np.int64(6996), np.int64(6997), np.int64(6998), np.int64(6999), np.int64(7000), np.int64(7001), np.int64(7002), np.int64(7003), np.int64(7004), np.int64(7005), np.int64(7006), np.int64(7007), np.int64(7008), np.int64(7009), np.int64(7010), np.int64(7011), np.int64(7012), np.int64(7013), np.int64(7014), np.int64(7015), np.int64(7016), np.int64(7017), np.int64(7018), np.int64(7019), np.int64(7020), np.int64(7021), np.int64(7022), np.int64(7023), np.int64(7024), np.int64(7025), np.int64(7026), np.int64(7027), np.int64(7028), np.int64(7029), np.int64(7030), np.int64(7031), np.int64(7032), np.int64(7033), np.int64(7034), np.int64(7035), np.int64(7036), np.int64(7037), np.int64(7038), np.int64(7039), np.int64(7040), np.int64(7041), np.int64(7042), np.int64(7043), np.int64(7044), np.int64(7045), np.int64(7046), np.int64(7047), np.int64(7048), np.int64(7049), np.int64(7050), np.int64(7051), np.int64(7052), np.int64(7053), np.int64(7054), np.int64(7055), np.int64(7056), np.int64(7057), np.int64(7058), np.int64(7059), np.int64(7060), np.int64(7061), np.int64(7062), np.int64(7063), np.int64(7064), np.int64(7065), np.int64(7066), np.int64(7067), np.int64(7068), np.int64(7069), np.int64(7070), np.int64(7071), np.int64(7072), np.int64(7073), np.int64(7074), np.int64(7075), np.int64(7076), np.int64(7077), np.int64(7078), np.int64(7079), np.int64(7080), np.int64(7081), np.int64(7082), np.int64(7083), np.int64(7084), np.int64(7085), np.int64(7086), np.int64(7087), np.int64(7088), np.int64(7089), np.int64(7090), np.int64(7091), np.int64(7092), np.int64(7093), np.int64(7094), np.int64(7095), np.int64(7096), np.int64(7097), np.int64(7098), np.int64(7099), np.int64(7100), np.int64(7101), np.int64(7102), np.int64(7103), np.int64(7104), np.int64(7105), np.int64(7106), np.int64(7107), np.int64(7108), np.int64(7109), np.int64(7110), np.int64(7111), np.int64(7112), np.int64(7113), np.int64(7114), np.int64(7115), np.int64(7116), np.int64(7117), np.int64(7118), np.int64(7119), np.int64(7120), np.int64(7121), np.int64(7122), np.int64(7123), np.int64(7124), np.int64(7125), np.int64(7126), np.int64(7127), np.int64(7128), np.int64(7129), np.int64(7130), np.int64(7131), np.int64(7132), np.int64(7133), np.int64(7134), np.int64(7135), np.int64(7136), np.int64(7137), np.int64(7138), np.int64(7139), np.int64(7140), np.int64(7141), np.int64(7142), np.int64(7143), np.int64(7144), np.int64(7145), np.int64(7146), np.int64(7147), np.int64(7148), np.int64(7149), np.int64(7150), np.int64(7151), np.int64(7152), np.int64(7153), np.int64(7154), np.int64(7155), np.int64(7156), np.int64(7157), np.int64(7158), np.int64(7159), np.int64(7160), np.int64(7161), np.int64(7162), np.int64(7163), np.int64(7164), np.int64(7165), np.int64(7166), np.int64(7167), np.int64(7168), np.int64(7169), np.int64(7170), np.int64(7171), np.int64(7172), np.int64(7173), np.int64(7174), np.int64(7175), np.int64(7176), np.int64(7177), np.int64(7178), np.int64(7179), np.int64(7180), np.int64(7181), np.int64(7182), np.int64(7183), np.int64(7184), np.int64(7185), np.int64(7186), np.int64(7187), np.int64(7188), np.int64(7189), np.int64(7190), np.int64(7191), np.int64(7192), np.int64(7193), np.int64(7194), np.int64(7195), np.int64(7196), np.int64(7197), np.int64(7198), np.int64(7199), np.int64(7200), np.int64(7201), np.int64(7202), np.int64(7203), np.int64(7204), np.int64(7205), np.int64(7206), np.int64(7207), np.int64(7208), np.int64(7209), np.int64(7210), np.int64(7211), np.int64(7212), np.int64(7213), np.int64(7214), np.int64(7215), np.int64(7216), np.int64(7217), np.int64(7218), np.int64(7219), np.int64(7220), np.int64(7221), np.int64(7222), np.int64(7223), np.int64(7224), np.int64(7225), np.int64(7226), np.int64(7227), np.int64(7228), np.int64(7229), np.int64(7230), np.int64(7231), np.int64(7232), np.int64(7233), np.int64(7234), np.int64(7235), np.int64(7236), np.int64(7237), np.int64(7238), np.int64(7239), np.int64(7240), np.int64(7241), np.int64(7242), np.int64(7243), np.int64(7244), np.int64(7245), np.int64(7246), np.int64(7247), np.int64(7248), np.int64(7249), np.int64(7250), np.int64(7251), np.int64(7252), np.int64(7253), np.int64(7254), np.int64(7255), np.int64(7256), np.int64(7257), np.int64(7258), np.int64(7259), np.int64(7260), np.int64(7261), np.int64(7262), np.int64(7263), np.int64(7264), np.int64(7265), np.int64(7266), np.int64(7267), np.int64(7268), np.int64(7269), np.int64(7270), np.int64(7271), np.int64(7272), np.int64(7273), np.int64(7274), np.int64(7275), np.int64(7276), np.int64(7277), np.int64(7278), np.int64(7279), np.int64(7280), np.int64(7281), np.int64(7282), np.int64(7283), np.int64(7284), np.int64(7285), np.int64(7286), np.int64(7287), np.int64(7288), np.int64(7289), np.int64(7290), np.int64(7291), np.int64(7292), np.int64(7293), np.int64(7294), np.int64(7295), np.int64(7296), np.int64(7297), np.int64(7298), np.int64(7299), np.int64(7300), np.int64(7301), np.int64(7302), np.int64(7303), np.int64(7304), np.int64(7305), np.int64(7306), np.int64(7307), np.int64(7308), np.int64(7309), np.int64(7310), np.int64(7311), np.int64(7312), np.int64(7313), np.int64(7314), np.int64(7315), np.int64(7316), np.int64(7317), np.int64(7318), np.int64(7319), np.int64(7320), np.int64(7321), np.int64(7322), np.int64(7323), np.int64(7324), np.int64(7325), np.int64(7326), np.int64(7327), np.int64(7328), np.int64(7329), np.int64(7330), np.int64(7331), np.int64(7332), np.int64(7333), np.int64(7334), np.int64(7335), np.int64(7336), np.int64(7337), np.int64(7338), np.int64(7339), np.int64(7340), np.int64(7341), np.int64(7342), np.int64(7343), np.int64(7344), np.int64(7345), np.int64(7346), np.int64(7347), np.int64(7348), np.int64(7349), np.int64(7350), np.int64(7351), np.int64(7352), np.int64(7353), np.int64(7354), np.int64(7355), np.int64(7356), np.int64(7357), np.int64(7358), np.int64(7359), np.int64(7360), np.int64(7361), np.int64(7362), np.int64(7363), np.int64(7364), np.int64(7365), np.int64(7366), np.int64(7367), np.int64(7368), np.int64(7369), np.int64(7370), np.int64(7371), np.int64(7372), np.int64(7373), np.int64(7374), np.int64(7375), np.int64(7376), np.int64(7377), np.int64(7378), np.int64(7379), np.int64(7380), np.int64(7381), np.int64(7382), np.int64(7383), np.int64(7384), np.int64(7385), np.int64(7386), np.int64(7387), np.int64(7388), np.int64(7389), np.int64(7390), np.int64(7391), np.int64(7392), np.int64(7393), np.int64(7394), np.int64(7395), np.int64(7396), np.int64(7397), np.int64(7398), np.int64(7399), np.int64(7400), np.int64(7401), np.int64(7402), np.int64(7403), np.int64(7404), np.int64(7405), np.int64(7406), np.int64(7407), np.int64(7408), np.int64(7409), np.int64(7410), np.int64(7411), np.int64(7412), np.int64(7413), np.int64(7414), np.int64(7415), np.int64(7416), np.int64(7417), np.int64(7418), np.int64(7419), np.int64(7420), np.int64(7421), np.int64(7422), np.int64(7423), np.int64(7424), np.int64(7425), np.int64(7426), np.int64(7427), np.int64(7428), np.int64(7429), np.int64(7430), np.int64(7431), np.int64(7432), np.int64(7433), np.int64(7434), np.int64(7435), np.int64(7436), np.int64(7437), np.int64(7438), np.int64(7439), np.int64(7440), np.int64(7441), np.int64(7442), np.int64(7443), np.int64(7444), np.int64(7445), np.int64(7446), np.int64(7447), np.int64(7448), np.int64(7449), np.int64(7450), np.int64(7451), np.int64(7452), np.int64(7453), np.int64(7454), np.int64(7455), np.int64(7456), np.int64(7457), np.int64(7458), np.int64(7459), np.int64(7460), np.int64(7461), np.int64(7462), np.int64(7463), np.int64(7464), np.int64(7465), np.int64(7466), np.int64(7467), np.int64(7468), np.int64(7469), np.int64(7470), np.int64(7471), np.int64(7472), np.int64(7473), np.int64(7474), np.int64(7475), np.int64(7476), np.int64(7477), np.int64(7478), np.int64(7479), np.int64(7480), np.int64(7481), np.int64(7482), np.int64(7483), np.int64(7484), np.int64(7485), np.int64(7486), np.int64(7487), np.int64(7488), np.int64(7489), np.int64(7490), np.int64(7491), np.int64(7492), np.int64(7493), np.int64(7494), np.int64(7495), np.int64(7496), np.int64(7497), np.int64(7498), np.int64(7499), np.int64(7500), np.int64(7501), np.int64(7502), np.int64(7503), np.int64(7504), np.int64(7505), np.int64(7506), np.int64(7507), np.int64(7508), np.int64(7509), np.int64(7510), np.int64(7511), np.int64(7512), np.int64(7513), np.int64(7514), np.int64(7515), np.int64(7516), np.int64(7517), np.int64(7518), np.int64(7519), np.int64(7520), np.int64(7521), np.int64(7522), np.int64(7523), np.int64(7524), np.int64(7525), np.int64(7526), np.int64(7527), np.int64(7528), np.int64(7529), np.int64(7530), np.int64(7531), np.int64(7532), np.int64(7533), np.int64(7534), np.int64(7535), np.int64(7536), np.int64(7537), np.int64(7538), np.int64(7539), np.int64(7540), np.int64(7541), np.int64(7542), np.int64(7543), np.int64(7544), np.int64(7545), np.int64(7546), np.int64(7547), np.int64(7548), np.int64(7549), np.int64(7550), np.int64(7551), np.int64(7552), np.int64(7553), np.int64(7554), np.int64(7555), np.int64(7556), np.int64(7557), np.int64(7558), np.int64(7559), np.int64(7560), np.int64(7561), np.int64(7562), np.int64(7563), np.int64(7564), np.int64(7565), np.int64(7566), np.int64(7567), np.int64(7568), np.int64(7569), np.int64(7570), np.int64(7571), np.int64(7572), np.int64(7573), np.int64(7574), np.int64(7575), np.int64(7576), np.int64(7577), np.int64(7578), np.int64(7579), np.int64(7580), np.int64(7581), np.int64(7582), np.int64(7583), np.int64(7584), np.int64(7585), np.int64(7586), np.int64(7587), np.int64(7588), np.int64(7589), np.int64(7590), np.int64(7591), np.int64(7592), np.int64(7593), np.int64(7594), np.int64(7595), np.int64(7596), np.int64(7597), np.int64(7598), np.int64(7599), np.int64(7600), np.int64(7601), np.int64(7602), np.int64(7603), np.int64(7604), np.int64(7605), np.int64(7606), np.int64(7607), np.int64(7608), np.int64(7609), np.int64(7610), np.int64(7611), np.int64(7612), np.int64(7613), np.int64(7614), np.int64(7615), np.int64(7616), np.int64(7617), np.int64(7618), np.int64(7619), np.int64(7620), np.int64(7621), np.int64(7622), np.int64(7623), np.int64(7624), np.int64(7625), np.int64(7626), np.int64(7627), np.int64(7628), np.int64(7629), np.int64(7630), np.int64(7631), np.int64(7632), np.int64(7633), np.int64(7634), np.int64(7635), np.int64(7636), np.int64(7637), np.int64(7638), np.int64(7639), np.int64(7640), np.int64(7641), np.int64(7642), np.int64(7643), np.int64(7644), np.int64(7645), np.int64(7646), np.int64(7647), np.int64(7648), np.int64(7649), np.int64(7650), np.int64(7651), np.int64(7652), np.int64(7653), np.int64(7654), np.int64(7655), np.int64(7656), np.int64(7657), np.int64(7658), np.int64(7659), np.int64(7660), np.int64(7661), np.int64(7662), np.int64(7663), np.int64(7664), np.int64(7665), np.int64(7666), np.int64(7667), np.int64(7668), np.int64(7669), np.int64(7670), np.int64(7671), np.int64(7672), np.int64(7673), np.int64(7674), np.int64(7675), np.int64(7676), np.int64(7677), np.int64(7678), np.int64(7679), np.int64(7680), np.int64(7681), np.int64(7682), np.int64(7683), np.int64(7684), np.int64(7685), np.int64(7686), np.int64(7687), np.int64(7688), np.int64(7689), np.int64(7690), np.int64(7691), np.int64(7692), np.int64(7693), np.int64(7694), np.int64(7695), np.int64(7696), np.int64(7697), np.int64(7698), np.int64(7699), np.int64(7700), np.int64(7701), np.int64(7702), np.int64(7703), np.int64(7704), np.int64(7705), np.int64(7706), np.int64(7707), np.int64(7708), np.int64(7709), np.int64(7710), np.int64(7711), np.int64(7712), np.int64(7713), np.int64(7714), np.int64(7715), np.int64(7716), np.int64(7717), np.int64(7718), np.int64(7719), np.int64(7720), np.int64(7721), np.int64(7722), np.int64(7723), np.int64(7724), np.int64(7725), np.int64(7726), np.int64(7727), np.int64(7728), np.int64(7729), np.int64(7730), np.int64(7731), np.int64(7732), np.int64(7733), np.int64(7734), np.int64(7735), np.int64(7736), np.int64(7737), np.int64(7738), np.int64(7739), np.int64(7740), np.int64(7741), np.int64(7742), np.int64(7743), np.int64(7744), np.int64(7745), np.int64(7746), np.int64(7747), np.int64(7748), np.int64(7749), np.int64(7750), np.int64(7751), np.int64(7752), np.int64(7753), np.int64(7754), np.int64(7755), np.int64(7756), np.int64(7757), np.int64(7758), np.int64(7759), np.int64(7760), np.int64(7761), np.int64(7762), np.int64(7763), np.int64(7764), np.int64(7765), np.int64(7766), np.int64(7767), np.int64(7768), np.int64(7769), np.int64(7770), np.int64(7771), np.int64(7772), np.int64(7773), np.int64(7774), np.int64(7775), np.int64(7776), np.int64(7777), np.int64(7778), np.int64(7779), np.int64(7780), np.int64(7781), np.int64(7782), np.int64(7783), np.int64(7784), np.int64(7785), np.int64(7786), np.int64(7787), np.int64(7788), np.int64(7789), np.int64(7790), np.int64(7791), np.int64(7792), np.int64(7793), np.int64(7794), np.int64(7795), np.int64(7796), np.int64(7797), np.int64(7798), np.int64(7799), np.int64(7800), np.int64(7801), np.int64(7802), np.int64(7803), np.int64(7804), np.int64(7805), np.int64(7806), np.int64(7807), np.int64(7808), np.int64(7809), np.int64(7810), np.int64(7811), np.int64(7812), np.int64(7813), np.int64(7814), np.int64(7815), np.int64(7816), np.int64(7817), np.int64(7818), np.int64(7819), np.int64(7820), np.int64(7821), np.int64(7822), np.int64(7823), np.int64(7824), np.int64(7825), np.int64(7826), np.int64(7827), np.int64(7828), np.int64(7829), np.int64(7830), np.int64(7831), np.int64(7832), np.int64(7833), np.int64(7834), np.int64(7835), np.int64(7836), np.int64(7837), np.int64(7838), np.int64(7839), np.int64(7840), np.int64(7841), np.int64(7842), np.int64(7843), np.int64(7844), np.int64(7845), np.int64(7846), np.int64(7847), np.int64(7848), np.int64(7849), np.int64(7850), np.int64(7851), np.int64(7852), np.int64(7853), np.int64(7854), np.int64(7855), np.int64(7856), np.int64(7857), np.int64(7858), np.int64(7859), np.int64(7860), np.int64(7861), np.int64(7862), np.int64(7863), np.int64(7864), np.int64(7865), np.int64(7866), np.int64(7867), np.int64(7868), np.int64(7869), np.int64(7870), np.int64(7871), np.int64(7872), np.int64(7873), np.int64(7874), np.int64(7875), np.int64(7876), np.int64(7877), np.int64(7878), np.int64(7879), np.int64(7880), np.int64(7881), np.int64(7882), np.int64(7883), np.int64(7884), np.int64(7885), np.int64(7886), np.int64(7887), np.int64(7888), np.int64(7889), np.int64(7890), np.int64(7891), np.int64(7892), np.int64(7893), np.int64(7894), np.int64(7895), np.int64(7896), np.int64(7897), np.int64(7898), np.int64(7899), np.int64(7900), np.int64(7901), np.int64(7902), np.int64(7903), np.int64(7904), np.int64(7905), np.int64(7906), np.int64(7907), np.int64(7908), np.int64(7909), np.int64(7910), np.int64(7911), np.int64(7912), np.int64(7913), np.int64(7914), np.int64(7915), np.int64(7916), np.int64(7917), np.int64(7918), np.int64(7919), np.int64(7920), np.int64(7921), np.int64(7922), np.int64(7923), np.int64(7924), np.int64(7925), np.int64(7926), np.int64(7927), np.int64(7928), np.int64(7929), np.int64(7930), np.int64(7931), np.int64(7932), np.int64(7933), np.int64(7934), np.int64(7935), np.int64(7936), np.int64(7937), np.int64(7938), np.int64(7939), np.int64(7940), np.int64(7941), np.int64(7942), np.int64(7943), np.int64(7944), np.int64(7945), np.int64(7946), np.int64(7947), np.int64(7948), np.int64(7949), np.int64(7950), np.int64(7951), np.int64(7952), np.int64(7953), np.int64(7954), np.int64(7955), np.int64(7956), np.int64(7957), np.int64(7958), np.int64(7959), np.int64(7960), np.int64(7961), np.int64(7962), np.int64(7963), np.int64(7964), np.int64(7965), np.int64(7966), np.int64(7967), np.int64(7968), np.int64(7969), np.int64(7970), np.int64(7971), np.int64(7972), np.int64(7973), np.int64(7974), np.int64(7975), np.int64(7976), np.int64(7977), np.int64(7978), np.int64(7979), np.int64(7980), np.int64(7981), np.int64(7982), np.int64(7983), np.int64(7984), np.int64(7985), np.int64(7986), np.int64(7987), np.int64(7988), np.int64(7989), np.int64(7990), np.int64(7991), np.int64(7992), np.int64(7993), np.int64(7994), np.int64(7995), np.int64(7996), np.int64(7997), np.int64(7998), np.int64(7999), np.int64(8000), np.int64(8001), np.int64(8002), np.int64(8003), np.int64(8004), np.int64(8005), np.int64(8006), np.int64(8007), np.int64(8008), np.int64(8009), np.int64(8010), np.int64(8011), np.int64(8012), np.int64(8013), np.int64(8014), np.int64(8015), np.int64(8016), np.int64(8017), np.int64(8018), np.int64(8019), np.int64(8020), np.int64(8021), np.int64(8022), np.int64(8023), np.int64(8024), np.int64(8025), np.int64(8026), np.int64(8027), np.int64(8028), np.int64(8029), np.int64(8030), np.int64(8031), np.int64(8032), np.int64(8033), np.int64(8034), np.int64(8035), np.int64(8036), np.int64(8037), np.int64(8038), np.int64(8039), np.int64(8040), np.int64(8041), np.int64(8042), np.int64(8043), np.int64(8044), np.int64(8045), np.int64(8046), np.int64(8047), np.int64(8048), np.int64(8049), np.int64(8050), np.int64(8051), np.int64(8052), np.int64(8053), np.int64(8054), np.int64(8055), np.int64(8056), np.int64(8057), np.int64(8058), np.int64(8059), np.int64(8060), np.int64(8061), np.int64(8062), np.int64(8063), np.int64(8064), np.int64(8065), np.int64(8066), np.int64(8067), np.int64(8068), np.int64(8069), np.int64(8070), np.int64(8071), np.int64(8072), np.int64(8073), np.int64(8074), np.int64(8075), np.int64(8076), np.int64(8077), np.int64(8078), np.int64(8079), np.int64(8080), np.int64(8081), np.int64(8082), np.int64(8083), np.int64(8084), np.int64(8085), np.int64(8086), np.int64(8087), np.int64(8088), np.int64(8089), np.int64(8090), np.int64(8091), np.int64(8092), np.int64(8093), np.int64(8094), np.int64(8095), np.int64(8096), np.int64(8097), np.int64(8098), np.int64(8099), np.int64(8100), np.int64(8101), np.int64(8102), np.int64(8103), np.int64(8104), np.int64(8105), np.int64(8106), np.int64(8107), np.int64(8108), np.int64(8109), np.int64(8110), np.int64(8111), np.int64(8112), np.int64(8113), np.int64(8114), np.int64(8115), np.int64(8116), np.int64(8117), np.int64(8118), np.int64(8119), np.int64(8120), np.int64(8121), np.int64(8122), np.int64(8123), np.int64(8124), np.int64(8125), np.int64(8126), np.int64(8127), np.int64(8128), np.int64(8129), np.int64(8130), np.int64(8131), np.int64(8132), np.int64(8133), np.int64(8134), np.int64(8135), np.int64(8136), np.int64(8137), np.int64(8138), np.int64(8139), np.int64(8140), np.int64(8141), np.int64(8142), np.int64(8143), np.int64(8144), np.int64(8145), np.int64(8146), np.int64(8147), np.int64(8148), np.int64(8149), np.int64(8150), np.int64(8151), np.int64(8152), np.int64(8153), np.int64(8154), np.int64(8155), np.int64(8156), np.int64(8157), np.int64(8158), np.int64(8159), np.int64(8160), np.int64(8161), np.int64(8162), np.int64(8163), np.int64(8164), np.int64(8165), np.int64(8166), np.int64(8167), np.int64(8168), np.int64(8169), np.int64(8170), np.int64(8171), np.int64(8172), np.int64(8173), np.int64(8174), np.int64(8175), np.int64(8176), np.int64(8177), np.int64(8178), np.int64(8179), np.int64(8180), np.int64(8181), np.int64(8182), np.int64(8183), np.int64(8184), np.int64(8185), np.int64(8186), np.int64(8187), np.int64(8188), np.int64(8189), np.int64(8190), np.int64(8191), np.int64(8192), np.int64(8193), np.int64(8194), np.int64(8195), np.int64(8196), np.int64(8197), np.int64(8198), np.int64(8199), np.int64(8200), np.int64(8201), np.int64(8202), np.int64(8203), np.int64(8204), np.int64(8205), np.int64(8206), np.int64(8207), np.int64(8208), np.int64(8209), np.int64(8210), np.int64(8211), np.int64(8212), np.int64(8213), np.int64(8214), np.int64(8215), np.int64(8216), np.int64(8217), np.int64(8218), np.int64(8219), np.int64(8220), np.int64(8221), np.int64(8222), np.int64(8223), np.int64(8224), np.int64(8225), np.int64(8226), np.int64(8227), np.int64(8228), np.int64(8229), np.int64(8230), np.int64(8231), np.int64(8232), np.int64(8233), np.int64(8234), np.int64(8235), np.int64(8236), np.int64(8237), np.int64(8238), np.int64(8239), np.int64(8240), np.int64(8241), np.int64(8242), np.int64(8243), np.int64(8244), np.int64(8245), np.int64(8246), np.int64(8247), np.int64(8248), np.int64(8249), np.int64(8250), np.int64(8251), np.int64(8252), np.int64(8253), np.int64(8254), np.int64(8255), np.int64(8256), np.int64(8257), np.int64(8258), np.int64(8259), np.int64(8260), np.int64(8261), np.int64(8262), np.int64(8263), np.int64(8264), np.int64(8265), np.int64(8266), np.int64(8267), np.int64(8268), np.int64(8269), np.int64(8270), np.int64(8271), np.int64(8272), np.int64(8273), np.int64(8274), np.int64(8275), np.int64(8276), np.int64(8277), np.int64(8278), np.int64(8279), np.int64(8280), np.int64(8281), np.int64(8282), np.int64(8283), np.int64(8284), np.int64(8285), np.int64(8286), np.int64(8287), np.int64(8288), np.int64(8289), np.int64(8290), np.int64(8291), np.int64(8292), np.int64(8293), np.int64(8294), np.int64(8295), np.int64(8296), np.int64(8297), np.int64(8298), np.int64(8299), np.int64(8300), np.int64(8301), np.int64(8302), np.int64(8303), np.int64(8304), np.int64(8305), np.int64(8306), np.int64(8307), np.int64(8308), np.int64(8309), np.int64(8310), np.int64(8311), np.int64(8312), np.int64(8313), np.int64(8314), np.int64(8315), np.int64(8316), np.int64(8317), np.int64(8318), np.int64(8319), np.int64(8320), np.int64(8321), np.int64(8322), np.int64(8323), np.int64(8324), np.int64(8325), np.int64(8326), np.int64(8327), np.int64(8328), np.int64(8329), np.int64(8330), np.int64(8331), np.int64(8332), np.int64(8333), np.int64(8334), np.int64(8335), np.int64(8336), np.int64(8337), np.int64(8338), np.int64(8339), np.int64(8340), np.int64(8341), np.int64(8342), np.int64(8343), np.int64(8344), np.int64(8345), np.int64(8346), np.int64(8347), np.int64(8348), np.int64(8349), np.int64(8350), np.int64(8351), np.int64(8352), np.int64(8353), np.int64(8354), np.int64(8355), np.int64(8356), np.int64(8357), np.int64(8358), np.int64(8359), np.int64(8360), np.int64(8361), np.int64(8362), np.int64(8363), np.int64(8364), np.int64(8365), np.int64(8366), np.int64(8367), np.int64(8368), np.int64(8369), np.int64(8370), np.int64(8371), np.int64(8372), np.int64(8373), np.int64(8374), np.int64(8375), np.int64(8376), np.int64(8377), np.int64(8378), np.int64(8379), np.int64(8380), np.int64(8381), np.int64(8382), np.int64(8383), np.int64(8384), np.int64(8385), np.int64(8386), np.int64(8387), np.int64(8388), np.int64(8389), np.int64(8390), np.int64(8391), np.int64(8392), np.int64(8393), np.int64(8394), np.int64(8395), np.int64(8396), np.int64(8397), np.int64(8398), np.int64(8399), np.int64(8400), np.int64(8401), np.int64(8402), np.int64(8403), np.int64(8404), np.int64(8405), np.int64(8406), np.int64(8407), np.int64(8408), np.int64(8409), np.int64(8410), np.int64(8411), np.int64(8412), np.int64(8413), np.int64(8414), np.int64(8415), np.int64(8416), np.int64(8417), np.int64(8418), np.int64(8419), np.int64(8420), np.int64(8421), np.int64(8422), np.int64(8423), np.int64(8424), np.int64(8425), np.int64(8426), np.int64(8427), np.int64(8428), np.int64(8429), np.int64(8430), np.int64(8431), np.int64(8432), np.int64(8433), np.int64(8434), np.int64(8435), np.int64(8436), np.int64(8437), np.int64(8438), np.int64(8439), np.int64(8440), np.int64(8441), np.int64(8442), np.int64(8443), np.int64(8444), np.int64(8445), np.int64(8446), np.int64(8447), np.int64(8448), np.int64(8449), np.int64(8450), np.int64(8451), np.int64(8452), np.int64(8453), np.int64(8454), np.int64(8455), np.int64(8456), np.int64(8457), np.int64(8458), np.int64(8459), np.int64(8460), np.int64(8461), np.int64(8462), np.int64(8463), np.int64(8464), np.int64(8465), np.int64(8466), np.int64(8467), np.int64(8468), np.int64(8469), np.int64(8470), np.int64(8471), np.int64(8472), np.int64(8473), np.int64(8474), np.int64(8475), np.int64(8476), np.int64(8477), np.int64(8478), np.int64(8479), np.int64(8480), np.int64(8481), np.int64(8482), np.int64(8483), np.int64(8484), np.int64(8485), np.int64(8486), np.int64(8487), np.int64(8488), np.int64(8489), np.int64(8490), np.int64(8491), np.int64(8492), np.int64(8493), np.int64(8494), np.int64(8495), np.int64(8496), np.int64(8497), np.int64(8498), np.int64(8499), np.int64(8500), np.int64(8501), np.int64(8502), np.int64(8503), np.int64(8504), np.int64(8505), np.int64(8506), np.int64(8507), np.int64(8508), np.int64(8509), np.int64(8510), np.int64(8511), np.int64(8512), np.int64(8513), np.int64(8514), np.int64(8515), np.int64(8516), np.int64(8517), np.int64(8518), np.int64(8519), np.int64(8520), np.int64(8521), np.int64(8522), np.int64(8523), np.int64(8524), np.int64(8525), np.int64(8526), np.int64(8527), np.int64(8528), np.int64(8529), np.int64(8530), np.int64(8531), np.int64(8532), np.int64(8533), np.int64(8534), np.int64(8535), np.int64(8536), np.int64(8537), np.int64(8538), np.int64(8539), np.int64(8540), np.int64(8541), np.int64(8542), np.int64(8543), np.int64(8544), np.int64(8545), np.int64(8546), np.int64(8547), np.int64(8548), np.int64(8549), np.int64(8550), np.int64(8551), np.int64(8552), np.int64(8553), np.int64(8554), np.int64(8555), np.int64(8556), np.int64(8557), np.int64(8558), np.int64(8559), np.int64(8560), np.int64(8561), np.int64(8562), np.int64(8563), np.int64(8564), np.int64(8565), np.int64(8566), np.int64(8567), np.int64(8568), np.int64(8569), np.int64(8570), np.int64(8571), np.int64(8572), np.int64(8573), np.int64(8574), np.int64(8575), np.int64(8576), np.int64(8577), np.int64(8578), np.int64(8579), np.int64(8580), np.int64(8581), np.int64(8582), np.int64(8583), np.int64(8584), np.int64(8585), np.int64(8586), np.int64(8587), np.int64(8588), np.int64(8589), np.int64(8590), np.int64(8591), np.int64(8592), np.int64(8593), np.int64(8594), np.int64(8595), np.int64(8596), np.int64(8597), np.int64(8598), np.int64(8599), np.int64(8600), np.int64(8601), np.int64(8602), np.int64(8603), np.int64(8604), np.int64(8605), np.int64(8606), np.int64(8607), np.int64(8608), np.int64(8609), np.int64(8610), np.int64(8611), np.int64(8612), np.int64(8613), np.int64(8614), np.int64(8615), np.int64(8616), np.int64(8617), np.int64(8618), np.int64(8619), np.int64(8620), np.int64(8621), np.int64(8622), np.int64(8623), np.int64(8624), np.int64(8625), np.int64(8626), np.int64(8627), np.int64(8628), np.int64(8629), np.int64(8630), np.int64(8631), np.int64(8632), np.int64(8633), np.int64(8634), np.int64(8635), np.int64(8636), np.int64(8637), np.int64(8638), np.int64(8639), np.int64(8640), np.int64(8641), np.int64(8642), np.int64(8643), np.int64(8644), np.int64(8645), np.int64(8646), np.int64(8647), np.int64(8648), np.int64(8649), np.int64(8650), np.int64(8651), np.int64(8652), np.int64(8653), np.int64(8654), np.int64(8655), np.int64(8656), np.int64(8657), np.int64(8658), np.int64(8659), np.int64(8660), np.int64(8661), np.int64(8662), np.int64(8663), np.int64(8664), np.int64(8665), np.int64(8666), np.int64(8667), np.int64(8668), np.int64(8669), np.int64(8670), np.int64(8671), np.int64(8672), np.int64(8673), np.int64(8674), np.int64(8675), np.int64(8676), np.int64(8677), np.int64(8678), np.int64(8679), np.int64(8680), np.int64(8681), np.int64(8682), np.int64(8683), np.int64(8684), np.int64(8685), np.int64(8686), np.int64(8687), np.int64(8688), np.int64(8689), np.int64(8690), np.int64(8691), np.int64(8692), np.int64(8693), np.int64(8694), np.int64(8695), np.int64(8696), np.int64(8697), np.int64(8698), np.int64(8699), np.int64(8700), np.int64(8701), np.int64(8702), np.int64(8703), np.int64(8704), np.int64(8705), np.int64(8706), np.int64(8707), np.int64(8708), np.int64(8709), np.int64(8710), np.int64(8711), np.int64(8712), np.int64(8713), np.int64(8714), np.int64(8715), np.int64(8716), np.int64(8717), np.int64(8718), np.int64(8719), np.int64(8720), np.int64(8721), np.int64(8722), np.int64(8723), np.int64(8724), np.int64(8725), np.int64(8726), np.int64(8727), np.int64(8728), np.int64(8729), np.int64(8730), np.int64(8731), np.int64(8732), np.int64(8733), np.int64(8734), np.int64(8735), np.int64(8736), np.int64(8737), np.int64(8738), np.int64(8739), np.int64(8740), np.int64(8741), np.int64(8742), np.int64(8743), np.int64(8744), np.int64(8745), np.int64(8746), np.int64(8747), np.int64(8748), np.int64(8749), np.int64(8750), np.int64(8751), np.int64(8752), np.int64(8753), np.int64(8754), np.int64(8755), np.int64(8756), np.int64(8757), np.int64(8758), np.int64(8759), np.int64(8760), np.int64(8761), np.int64(8762), np.int64(8763), np.int64(8764), np.int64(8765), np.int64(8766), np.int64(8767), np.int64(8768), np.int64(8769), np.int64(8770), np.int64(8771), np.int64(8772), np.int64(8773), np.int64(8774), np.int64(8775), np.int64(8776), np.int64(8777), np.int64(8778), np.int64(8779), np.int64(8780), np.int64(8781), np.int64(8782), np.int64(8783), np.int64(8784), np.int64(8785), np.int64(8786), np.int64(8787), np.int64(8788), np.int64(8789), np.int64(8790), np.int64(8791), np.int64(8792), np.int64(8793), np.int64(8794), np.int64(8795), np.int64(8796), np.int64(8797), np.int64(8798), np.int64(8799), np.int64(8800), np.int64(8801), np.int64(8802), np.int64(8803), np.int64(8804), np.int64(8805), np.int64(8806), np.int64(8807), np.int64(8808), np.int64(8809), np.int64(8810), np.int64(8811), np.int64(8812), np.int64(8813), np.int64(8814), np.int64(8815), np.int64(8816), np.int64(8817), np.int64(8818), np.int64(8819), np.int64(8820), np.int64(8821), np.int64(8822), np.int64(8823), np.int64(8824), np.int64(8825), np.int64(8826), np.int64(8827), np.int64(8828), np.int64(8829), np.int64(8830), np.int64(8831), np.int64(8832), np.int64(8833), np.int64(8834), np.int64(8835), np.int64(8836), np.int64(8837), np.int64(8838), np.int64(8839), np.int64(8840), np.int64(8841), np.int64(8842), np.int64(8843), np.int64(8844), np.int64(8845), np.int64(8846), np.int64(8847), np.int64(8848), np.int64(8849), np.int64(8850), np.int64(8851), np.int64(8852), np.int64(8853), np.int64(8854), np.int64(8855), np.int64(8856), np.int64(8857), np.int64(8858), np.int64(8859), np.int64(8860), np.int64(8861), np.int64(8862), np.int64(8863), np.int64(8864), np.int64(8865), np.int64(8866), np.int64(8867), np.int64(8868), np.int64(8869), np.int64(8870), np.int64(8871), np.int64(8872), np.int64(8873), np.int64(8874), np.int64(8875), np.int64(8876), np.int64(8877), np.int64(8878), np.int64(8879), np.int64(8880), np.int64(8881), np.int64(8882), np.int64(8883), np.int64(8884), np.int64(8885), np.int64(8886), np.int64(8887), np.int64(8888), np.int64(8889), np.int64(8890), np.int64(8891), np.int64(8892), np.int64(8893), np.int64(8894), np.int64(8895), np.int64(8896), np.int64(8897), np.int64(8898), np.int64(8899), np.int64(8900), np.int64(8901), np.int64(8902), np.int64(8903), np.int64(8904), np.int64(8905), np.int64(8906), np.int64(8907), np.int64(8908), np.int64(8909), np.int64(8910), np.int64(8911), np.int64(8912), np.int64(8913), np.int64(8914), np.int64(8915), np.int64(8916), np.int64(8917), np.int64(8918), np.int64(8919), np.int64(8920), np.int64(8921), np.int64(8922), np.int64(8923), np.int64(8924), np.int64(8925), np.int64(8926), np.int64(8927), np.int64(8928), np.int64(8929), np.int64(8930), np.int64(8931), np.int64(8932), np.int64(8933), np.int64(8934), np.int64(8935), np.int64(8936), np.int64(8937), np.int64(8938), np.int64(8939), np.int64(8940), np.int64(8941), np.int64(8942), np.int64(8943), np.int64(8944), np.int64(8945), np.int64(8946), np.int64(8947), np.int64(8948), np.int64(8949), np.int64(8950), np.int64(8951), np.int64(8952), np.int64(8953), np.int64(8954), np.int64(8955), np.int64(8956), np.int64(8957), np.int64(8958), np.int64(8959), np.int64(8960), np.int64(8961), np.int64(8962), np.int64(8963), np.int64(8964), np.int64(8965), np.int64(8966), np.int64(8967), np.int64(8968), np.int64(8969), np.int64(8970), np.int64(8971), np.int64(8972), np.int64(8973), np.int64(8974), np.int64(8975), np.int64(8976), np.int64(8977), np.int64(8978), np.int64(8979), np.int64(8980), np.int64(8981), np.int64(8982), np.int64(8983), np.int64(8984), np.int64(8985), np.int64(8986), np.int64(8987), np.int64(8988), np.int64(8989), np.int64(8990), np.int64(8991), np.int64(8992), np.int64(8993), np.int64(8994), np.int64(8995), np.int64(8996), np.int64(8997), np.int64(8998), np.int64(8999), np.int64(9000), np.int64(9001), np.int64(9002), np.int64(9003), np.int64(9004), np.int64(9005), np.int64(9006), np.int64(9007), np.int64(9008), np.int64(9009), np.int64(9010), np.int64(9011), np.int64(9012), np.int64(9013), np.int64(9014), np.int64(9015), np.int64(9016), np.int64(9017), np.int64(9018), np.int64(9019), np.int64(9020), np.int64(9021), np.int64(9022), np.int64(9023), np.int64(9024), np.int64(9025), np.int64(9026), np.int64(9027), np.int64(9028), np.int64(9029), np.int64(9030), np.int64(9031), np.int64(9032), np.int64(9033), np.int64(9034), np.int64(9035), np.int64(9036), np.int64(9037), np.int64(9038), np.int64(9039), np.int64(9040), np.int64(9041), np.int64(9042), np.int64(9043), np.int64(9044), np.int64(9045), np.int64(9046), np.int64(9047), np.int64(9048), np.int64(9049), np.int64(9050), np.int64(9051), np.int64(9052), np.int64(9053), np.int64(9054), np.int64(9055), np.int64(9056), np.int64(9057), np.int64(9058), np.int64(9059), np.int64(9060), np.int64(9061), np.int64(9062), np.int64(9063), np.int64(9064), np.int64(9065), np.int64(9066), np.int64(9067), np.int64(9068), np.int64(9069), np.int64(9070), np.int64(9071), np.int64(9072), np.int64(9073), np.int64(9074), np.int64(9075), np.int64(9076), np.int64(9077), np.int64(9078), np.int64(9079), np.int64(9080), np.int64(9081), np.int64(9082), np.int64(9083), np.int64(9084), np.int64(9085), np.int64(9086), np.int64(9087), np.int64(9088), np.int64(9089), np.int64(9090), np.int64(9091), np.int64(9092), np.int64(9093), np.int64(9094), np.int64(9095), np.int64(9096), np.int64(9097), np.int64(9098), np.int64(9099), np.int64(9100), np.int64(9101), np.int64(9102), np.int64(9103), np.int64(9104), np.int64(9105), np.int64(9106), np.int64(9107), np.int64(9108), np.int64(9109), np.int64(9110), np.int64(9111), np.int64(9112), np.int64(9113), np.int64(9114), np.int64(9115), np.int64(9116), np.int64(9117), np.int64(9118), np.int64(9119), np.int64(9120), np.int64(9121), np.int64(9122), np.int64(9123), np.int64(9124), np.int64(9125), np.int64(9126), np.int64(9127), np.int64(9128), np.int64(9129), np.int64(9130), np.int64(9131), np.int64(9132), np.int64(9133), np.int64(9134), np.int64(9135), np.int64(9136), np.int64(9137), np.int64(9138), np.int64(9139), np.int64(9140), np.int64(9141), np.int64(9142), np.int64(9143), np.int64(9144), np.int64(9145), np.int64(9146), np.int64(9147), np.int64(9148), np.int64(9149), np.int64(9150), np.int64(9151), np.int64(9152), np.int64(9153), np.int64(9154), np.int64(9155), np.int64(9156), np.int64(9157), np.int64(9158), np.int64(9159), np.int64(9160), np.int64(9161), np.int64(9162), np.int64(9163), np.int64(9164), np.int64(9165), np.int64(9166), np.int64(9167), np.int64(9168), np.int64(9169), np.int64(9170), np.int64(9171), np.int64(9172), np.int64(9173), np.int64(9174), np.int64(9175), np.int64(9176), np.int64(9177), np.int64(9178), np.int64(9179), np.int64(9180), np.int64(9181), np.int64(9182), np.int64(9183), np.int64(9184), np.int64(9185), np.int64(9186), np.int64(9187), np.int64(9188), np.int64(9189), np.int64(9190), np.int64(9191), np.int64(9192), np.int64(9193), np.int64(9194), np.int64(9195), np.int64(9196), np.int64(9197), np.int64(9198), np.int64(9199), np.int64(9200), np.int64(9201), np.int64(9202), np.int64(9203), np.int64(9204), np.int64(9205), np.int64(9206), np.int64(9207), np.int64(9208), np.int64(9209), np.int64(9210), np.int64(9211), np.int64(9212), np.int64(9213), np.int64(9214), np.int64(9215), np.int64(9216), np.int64(9217), np.int64(9218), np.int64(9219), np.int64(9220), np.int64(9221), np.int64(9222), np.int64(9223), np.int64(9224), np.int64(9225), np.int64(9226), np.int64(9227), np.int64(9228), np.int64(9229), np.int64(9230), np.int64(9231), np.int64(9232), np.int64(9233), np.int64(9234), np.int64(9235), np.int64(9236), np.int64(9237), np.int64(9238), np.int64(9239), np.int64(9240), np.int64(9241), np.int64(9242), np.int64(9243), np.int64(9244), np.int64(9245), np.int64(9246), np.int64(9247), np.int64(9248), np.int64(9249), np.int64(9250), np.int64(9251), np.int64(9252), np.int64(9253), np.int64(9254), np.int64(9255), np.int64(9256), np.int64(9257), np.int64(9258), np.int64(9259), np.int64(9260), np.int64(9261), np.int64(9262), np.int64(9263), np.int64(9264), np.int64(9265), np.int64(9266), np.int64(9267), np.int64(9268), np.int64(9269), np.int64(9270), np.int64(9271), np.int64(9272), np.int64(9273), np.int64(9274), np.int64(9275), np.int64(9276), np.int64(9277), np.int64(9278), np.int64(9279), np.int64(9280), np.int64(9281), np.int64(9282), np.int64(9283), np.int64(9284), np.int64(9285), np.int64(9286), np.int64(9287), np.int64(9288), np.int64(9289), np.int64(9290), np.int64(9291), np.int64(9292), np.int64(9293), np.int64(9294), np.int64(9295), np.int64(9296), np.int64(9297), np.int64(9298), np.int64(9299), np.int64(9300), np.int64(9301), np.int64(9302), np.int64(9303), np.int64(9304), np.int64(9305), np.int64(9306), np.int64(9307), np.int64(9308), np.int64(9309), np.int64(9310), np.int64(9311), np.int64(9312), np.int64(9313), np.int64(9314), np.int64(9315), np.int64(9316), np.int64(9317), np.int64(9318), np.int64(9319), np.int64(9320), np.int64(9321), np.int64(9322), np.int64(9323), np.int64(9324), np.int64(9325), np.int64(9326), np.int64(9327), np.int64(9328), np.int64(9329), np.int64(9330), np.int64(9331), np.int64(9332), np.int64(9333), np.int64(9334), np.int64(9335), np.int64(9336), np.int64(9337), np.int64(9338), np.int64(9339), np.int64(9340), np.int64(9341), np.int64(9342), np.int64(9343), np.int64(9344), np.int64(9345), np.int64(9346), np.int64(9347), np.int64(9348), np.int64(9349), np.int64(9350), np.int64(9351), np.int64(9352), np.int64(9353), np.int64(9354), np.int64(9355), np.int64(9356), np.int64(9357), np.int64(9358), np.int64(9359), np.int64(9360), np.int64(9361), np.int64(9362), np.int64(9363), np.int64(9364), np.int64(9365), np.int64(9366), np.int64(9367), np.int64(9368), np.int64(9369), np.int64(9370), np.int64(9371), np.int64(9372), np.int64(9373), np.int64(9374), np.int64(9375), np.int64(9376), np.int64(9377), np.int64(9378), np.int64(9379), np.int64(9380), np.int64(9381), np.int64(9382), np.int64(9383), np.int64(9384), np.int64(9385), np.int64(9386), np.int64(9387), np.int64(9388), np.int64(9389), np.int64(9390), np.int64(9391), np.int64(9392), np.int64(9393), np.int64(9394), np.int64(9395), np.int64(9396), np.int64(9397), np.int64(9398), np.int64(9399), np.int64(9400), np.int64(9401), np.int64(9402), np.int64(9403), np.int64(9404), np.int64(9405), np.int64(9406), np.int64(9407), np.int64(9408), np.int64(9409), np.int64(9410), np.int64(9411), np.int64(9412), np.int64(9413), np.int64(9414), np.int64(9415), np.int64(9416), np.int64(9417), np.int64(9418), np.int64(9419), np.int64(9420), np.int64(9421), np.int64(9422), np.int64(9423), np.int64(9424), np.int64(9425), np.int64(9426), np.int64(9427), np.int64(9428), np.int64(9429), np.int64(9430), np.int64(9431), np.int64(9432), np.int64(9433), np.int64(9434), np.int64(9435), np.int64(9436), np.int64(9437), np.int64(9438), np.int64(9439), np.int64(9440), np.int64(9441), np.int64(9442), np.int64(9443), np.int64(9444), np.int64(9445), np.int64(9446), np.int64(9447), np.int64(9448), np.int64(9449), np.int64(9450), np.int64(9451), np.int64(9452), np.int64(9453), np.int64(9454), np.int64(9455), np.int64(9456), np.int64(9457), np.int64(9458), np.int64(9459), np.int64(9460), np.int64(9461), np.int64(9462), np.int64(9463), np.int64(9464), np.int64(9465), np.int64(9466), np.int64(9467), np.int64(9468), np.int64(9469), np.int64(9470), np.int64(9471), np.int64(9472), np.int64(9473), np.int64(9474), np.int64(9475), np.int64(9476), np.int64(9477), np.int64(9478), np.int64(9479), np.int64(9480), np.int64(9481), np.int64(9482), np.int64(9483), np.int64(9484), np.int64(9485), np.int64(9486), np.int64(9487), np.int64(9488), np.int64(9489), np.int64(9490), np.int64(9491), np.int64(9492), np.int64(9493), np.int64(9494), np.int64(9495), np.int64(9496), np.int64(9497), np.int64(9498), np.int64(9499), np.int64(9500), np.int64(9501), np.int64(9502), np.int64(9503), np.int64(9504), np.int64(9505), np.int64(9506), np.int64(9507), np.int64(9508), np.int64(9509), np.int64(9510), np.int64(9511), np.int64(9512), np.int64(9513), np.int64(9514), np.int64(9515), np.int64(9516), np.int64(9517), np.int64(9518), np.int64(9519), np.int64(9520), np.int64(9521), np.int64(9522), np.int64(9523), np.int64(9524), np.int64(9525), np.int64(9526), np.int64(9527), np.int64(9528), np.int64(9529), np.int64(9530), np.int64(9531), np.int64(9532), np.int64(9533), np.int64(9534), np.int64(9535), np.int64(9536), np.int64(9537), np.int64(9538), np.int64(9539), np.int64(9540), np.int64(9541), np.int64(9542), np.int64(9543), np.int64(9544), np.int64(9545), np.int64(9546), np.int64(9547), np.int64(9548), np.int64(9549), np.int64(9550), np.int64(9551), np.int64(9552), np.int64(9553), np.int64(9554), np.int64(9555), np.int64(9556), np.int64(9557), np.int64(9558), np.int64(9559), np.int64(9560), np.int64(9561), np.int64(9562), np.int64(9563), np.int64(9564), np.int64(9565), np.int64(9566), np.int64(9567), np.int64(9568), np.int64(9569), np.int64(9570), np.int64(9571), np.int64(9572), np.int64(9573), np.int64(9574), np.int64(9575), np.int64(9576), np.int64(9577), np.int64(9578), np.int64(9579), np.int64(9580), np.int64(9581), np.int64(9582), np.int64(9583), np.int64(9584), np.int64(9585), np.int64(9586), np.int64(9587), np.int64(9588), np.int64(9589), np.int64(9590), np.int64(9591), np.int64(9592), np.int64(9593), np.int64(9594), np.int64(9595), np.int64(9596), np.int64(9597), np.int64(9598), np.int64(9599), np.int64(9600), np.int64(9601), np.int64(9602), np.int64(9603), np.int64(9604), np.int64(9605), np.int64(9606), np.int64(9607), np.int64(9608), np.int64(9609), np.int64(9610), np.int64(9611), np.int64(9612), np.int64(9613), np.int64(9614), np.int64(9615), np.int64(9616), np.int64(9617), np.int64(9618), np.int64(9619), np.int64(9620), np.int64(9621), np.int64(9622), np.int64(9623), np.int64(9624), np.int64(9625), np.int64(9626), np.int64(9627), np.int64(9628), np.int64(9629), np.int64(9630), np.int64(9631), np.int64(9632), np.int64(9633), np.int64(9634), np.int64(9635), np.int64(9636), np.int64(9637), np.int64(9638), np.int64(9639), np.int64(9640), np.int64(9641), np.int64(9642), np.int64(9643), np.int64(9644), np.int64(9645), np.int64(9646), np.int64(9647), np.int64(9648), np.int64(9649), np.int64(9650), np.int64(9651), np.int64(9652), np.int64(9653), np.int64(9654), np.int64(9655), np.int64(9656), np.int64(9657), np.int64(9658), np.int64(9659), np.int64(9660), np.int64(9661), np.int64(9662), np.int64(9663), np.int64(9664), np.int64(9665), np.int64(9666), np.int64(9667), np.int64(9668), np.int64(9669), np.int64(9670), np.int64(9671), np.int64(9672), np.int64(9673), np.int64(9674), np.int64(9675), np.int64(9676), np.int64(9677), np.int64(9678), np.int64(9679), np.int64(9680), np.int64(9681), np.int64(9682), np.int64(9683), np.int64(9684), np.int64(9685), np.int64(9686), np.int64(9687), np.int64(9688), np.int64(9689), np.int64(9690), np.int64(9691), np.int64(9692), np.int64(9693), np.int64(9694), np.int64(9695), np.int64(9696), np.int64(9697), np.int64(9698), np.int64(9699), np.int64(9700), np.int64(9701), np.int64(9702), np.int64(9703), np.int64(9704), np.int64(9705), np.int64(9706), np.int64(9707), np.int64(9708), np.int64(9709), np.int64(9710), np.int64(9711), np.int64(9712), np.int64(9713), np.int64(9714), np.int64(9715), np.int64(9716), np.int64(9717), np.int64(9718), np.int64(9719), np.int64(9720), np.int64(9721), np.int64(9722), np.int64(9723), np.int64(9724), np.int64(9725), np.int64(9726), np.int64(9727), np.int64(9728), np.int64(9729), np.int64(9730), np.int64(9731), np.int64(9732), np.int64(9733), np.int64(9734), np.int64(9735), np.int64(9736), np.int64(9737), np.int64(9738), np.int64(9739), np.int64(9740), np.int64(9741), np.int64(9742), np.int64(9743), np.int64(9744), np.int64(9745), np.int64(9746), np.int64(9747), np.int64(9748), np.int64(9749), np.int64(9750), np.int64(9751), np.int64(9752), np.int64(9753), np.int64(9754), np.int64(9755), np.int64(9756), np.int64(9757), np.int64(9758), np.int64(9759), np.int64(9760), np.int64(9761), np.int64(9762), np.int64(9763), np.int64(9764), np.int64(9765), np.int64(9766), np.int64(9767), np.int64(9768), np.int64(9769), np.int64(9770), np.int64(9771), np.int64(9772), np.int64(9773), np.int64(9774), np.int64(9775), np.int64(9776), np.int64(9777), np.int64(9778), np.int64(9779), np.int64(9780), np.int64(9781), np.int64(9782), np.int64(9783), np.int64(9784), np.int64(9785), np.int64(9786), np.int64(9787), np.int64(9788), np.int64(9789), np.int64(9790), np.int64(9791), np.int64(9792), np.int64(9793), np.int64(9794), np.int64(9795), np.int64(9796), np.int64(9797), np.int64(9798), np.int64(9799), np.int64(9800), np.int64(9801), np.int64(9802), np.int64(9803), np.int64(9804), np.int64(9805), np.int64(9806), np.int64(9807), np.int64(9808), np.int64(9809), np.int64(9810), np.int64(9811), np.int64(9812), np.int64(9813), np.int64(9814), np.int64(9815), np.int64(9816), np.int64(9817), np.int64(9818), np.int64(9819), np.int64(9820), np.int64(9821), np.int64(9822), np.int64(9823), np.int64(9824), np.int64(9825), np.int64(9826), np.int64(9827), np.int64(9828), np.int64(9829), np.int64(9830), np.int64(9831), np.int64(9832), np.int64(9833), np.int64(9834), np.int64(9835), np.int64(9836), np.int64(9837), np.int64(9838), np.int64(9839), np.int64(9840), np.int64(9841), np.int64(9842), np.int64(9843), np.int64(9844), np.int64(9845), np.int64(9846), np.int64(9847), np.int64(9848), np.int64(9849), np.int64(9850), np.int64(9851), np.int64(9852), np.int64(9853), np.int64(9854), np.int64(9855), np.int64(9856), np.int64(9857), np.int64(9858), np.int64(9859), np.int64(9860), np.int64(9861), np.int64(9862), np.int64(9863), np.int64(9864), np.int64(9865), np.int64(9866), np.int64(9867), np.int64(9868), np.int64(9869), np.int64(9870), np.int64(9871), np.int64(9872), np.int64(9873), np.int64(9874), np.int64(9875), np.int64(9876), np.int64(9877), np.int64(9878), np.int64(9879), np.int64(9880), np.int64(9881), np.int64(9882), np.int64(9883), np.int64(9884), np.int64(9885), np.int64(9886), np.int64(9887), np.int64(9888), np.int64(9889), np.int64(9890), np.int64(9891), np.int64(9892), np.int64(9893), np.int64(9894), np.int64(9895), np.int64(9896), np.int64(9897), np.int64(9898), np.int64(9899), np.int64(9900), np.int64(9901), np.int64(9902), np.int64(9903), np.int64(9904), np.int64(9905), np.int64(9906), np.int64(9907), np.int64(9908), np.int64(9909), np.int64(9910), np.int64(9911), np.int64(9912), np.int64(9913), np.int64(9914), np.int64(9915), np.int64(9916), np.int64(9917), np.int64(9918), np.int64(9919), np.int64(9920), np.int64(9921), np.int64(9922), np.int64(9923), np.int64(9924), np.int64(9925), np.int64(9926), np.int64(9927), np.int64(9928), np.int64(9929), np.int64(9930), np.int64(9931), np.int64(9932), np.int64(9933), np.int64(9934), np.int64(9935), np.int64(9936), np.int64(9937), np.int64(9938), np.int64(9939), np.int64(9940), np.int64(9941), np.int64(9942), np.int64(9943), np.int64(9944), np.int64(9945), np.int64(9946), np.int64(9947), np.int64(9948), np.int64(9949), np.int64(9950), np.int64(9951), np.int64(9952), np.int64(9953), np.int64(9954), np.int64(9955), np.int64(9956), np.int64(9957), np.int64(9958), np.int64(9959), np.int64(9960), np.int64(9961), np.int64(9962), np.int64(9963), np.int64(9964), np.int64(9965), np.int64(9966), np.int64(9967), np.int64(9968), np.int64(9969), np.int64(9970), np.int64(9971), np.int64(9972), np.int64(9973), np.int64(9974), np.int64(9975), np.int64(9976), np.int64(9977), np.int64(9978), np.int64(9979), np.int64(9980), np.int64(9981), np.int64(9982), np.int64(9983), np.int64(9984), np.int64(9985), np.int64(9986), np.int64(9987), np.int64(9988), np.int64(9989), np.int64(9990), np.int64(9991), np.int64(9992), np.int64(9993), np.int64(9994), np.int64(9995), np.int64(9996), np.int64(9997), np.int64(9998), np.int64(9999)]\n",
      "\n",
      "    Set printing options.\n",
      "\n",
      "    These options determine the way floating point numbers, arrays and\n",
      "    other NumPy objects are displayed.\n",
      "\n",
      "    Parameters\n",
      "    ----------\n",
      "    precision : int or None, optional\n",
      "        Number of digits of precision for floating point output (default 8).\n",
      "        May be None if `floatmode` is not `fixed`, to print as many digits as\n",
      "        necessary to uniquely specify the value.\n",
      "    threshold : int, optional\n",
      "        Total number of array elements which trigger summarization\n",
      "        rather than full repr (default 1000).\n",
      "        To always use the full repr without summarization, pass `sys.maxsize`.\n",
      "    edgeitems : int, optional\n",
      "        Number of array items in summary at beginning and end of\n",
      "        each dimension (default 3).\n",
      "    linewidth : int, optional\n",
      "        The number of characters per line for the purpose of inserting\n",
      "        line breaks (default 75).\n",
      "    suppress : bool, optional\n",
      "        If True, always print floating point numbers using fixed point\n",
      "        notation, in which case numbers equal to zero in the current precision\n",
      "        will print as zero.  If False, then scientific notation is used when\n",
      "        absolute value of the smallest number is < 1e-4 or the ratio of the\n",
      "        maximum absolute value to the minimum is > 1e3. The default is False.\n",
      "    nanstr : str, optional\n",
      "        String representation of floating point not-a-number (default nan).\n",
      "    infstr : str, optional\n",
      "        String representation of floating point infinity (default inf).\n",
      "    sign : string, either '-', '+', or ' ', optional\n",
      "        Controls printing of the sign of floating-point types. If '+', always\n",
      "        print the sign of positive values. If ' ', always prints a space\n",
      "        (whitespace character) in the sign position of positive values.  If\n",
      "        '-', omit the sign character of positive values. (default '-')\n",
      "\n",
      "        .. versionchanged:: 2.0\n",
      "             The sign parameter can now be an integer type, previously\n",
      "             types were floating-point types.\n",
      "\n",
      "    formatter : dict of callables, optional\n",
      "        If not None, the keys should indicate the type(s) that the respective\n",
      "        formatting function applies to.  Callables should return a string.\n",
      "        Types that are not specified (by their corresponding keys) are handled\n",
      "        by the default formatters.  Individual types for which a formatter\n",
      "        can be set are:\n",
      "\n",
      "        - 'bool'\n",
      "        - 'int'\n",
      "        - 'timedelta' : a `numpy.timedelta64`\n",
      "        - 'datetime' : a `numpy.datetime64`\n",
      "        - 'float'\n",
      "        - 'longfloat' : 128-bit floats\n",
      "        - 'complexfloat'\n",
      "        - 'longcomplexfloat' : composed of two 128-bit floats\n",
      "        - 'numpystr' : types `numpy.bytes_` and `numpy.str_`\n",
      "        - 'object' : `np.object_` arrays\n",
      "\n",
      "        Other keys that can be used to set a group of types at once are:\n",
      "\n",
      "        - 'all' : sets all types\n",
      "        - 'int_kind' : sets 'int'\n",
      "        - 'float_kind' : sets 'float' and 'longfloat'\n",
      "        - 'complex_kind' : sets 'complexfloat' and 'longcomplexfloat'\n",
      "        - 'str_kind' : sets 'numpystr'\n",
      "    floatmode : str, optional\n",
      "        Controls the interpretation of the `precision` option for\n",
      "        floating-point types. Can take the following values\n",
      "        (default maxprec_equal):\n",
      "\n",
      "        * 'fixed': Always print exactly `precision` fractional digits,\n",
      "                even if this would print more or fewer digits than\n",
      "                necessary to specify the value uniquely.\n",
      "        * 'unique': Print the minimum number of fractional digits necessary\n",
      "                to represent each value uniquely. Different elements may\n",
      "                have a different number of digits. The value of the\n",
      "                `precision` option is ignored.\n",
      "        * 'maxprec': Print at most `precision` fractional digits, but if\n",
      "                an element can be uniquely represented with fewer digits\n",
      "                only print it with that many.\n",
      "        * 'maxprec_equal': Print at most `precision` fractional digits,\n",
      "                but if every element in the array can be uniquely\n",
      "                represented with an equal number of fewer digits, use that\n",
      "                many digits for all elements.\n",
      "    legacy : string or `False`, optional\n",
      "        If set to the string ``'1.13'`` enables 1.13 legacy printing mode. This\n",
      "        approximates numpy 1.13 print output by including a space in the sign\n",
      "        position of floats and different behavior for 0d arrays. This also\n",
      "        enables 1.21 legacy printing mode (described below).\n",
      "\n",
      "        If set to the string ``'1.21'`` enables 1.21 legacy printing mode. This\n",
      "        approximates numpy 1.21 print output of complex structured dtypes\n",
      "        by not inserting spaces after commas that separate fields and after\n",
      "        colons.\n",
      "\n",
      "        If set to ``'1.25'`` approximates printing of 1.25 which mainly means\n",
      "        that numeric scalars are printed without their type information, e.g.\n",
      "        as ``3.0`` rather than ``np.float64(3.0)``.\n",
      "\n",
      "        If set to ``'2.1'``, shape information is not given when arrays are\n",
      "        summarized (i.e., multiple elements replaced with ``...``).\n",
      "\n",
      "        If set to `False`, disables legacy mode.\n",
      "\n",
      "        Unrecognized strings will be ignored with a warning for forward\n",
      "        compatibility.\n",
      "\n",
      "        .. versionchanged:: 1.22.0\n",
      "        .. versionchanged:: 2.2\n",
      "\n",
      "    override_repr: callable, optional\n",
      "        If set a passed function will be used for generating arrays' repr.\n",
      "        Other options will be ignored.\n",
      "\n",
      "    See Also\n",
      "    --------\n",
      "    get_printoptions, printoptions, array2string\n",
      "\n",
      "    Notes\n",
      "    -----\n",
      "    `formatter` is always reset with a call to `set_printoptions`.\n",
      "\n",
      "    Use `printoptions` as a context manager to set the values temporarily.\n",
      "\n",
      "    Examples\n",
      "    --------\n",
      "    Floating point precision can be set:\n",
      "\n",
      "    >>> import numpy as np\n",
      "    >>> np.set_printoptions(precision=4)\n",
      "    >>> np.array([1.123456789])\n",
      "    [1.1235]\n",
      "\n",
      "    Long arrays can be summarised:\n",
      "\n",
      "    >>> np.set_printoptions(threshold=5)\n",
      "    >>> np.arange(10)\n",
      "    array([0, 1, 2, ..., 7, 8, 9], shape=(10,))\n",
      "\n",
      "    Small results can be suppressed:\n",
      "\n",
      "    >>> eps = np.finfo(float).eps\n",
      "    >>> x = np.arange(4.)\n",
      "    >>> x**2 - (x + eps)**2\n",
      "    array([-4.9304e-32, -4.4409e-16,  0.0000e+00,  0.0000e+00])\n",
      "    >>> np.set_printoptions(suppress=True)\n",
      "    >>> x**2 - (x + eps)**2\n",
      "    array([-0., -0.,  0.,  0.])\n",
      "\n",
      "    A custom formatter can be used to display array elements as desired:\n",
      "\n",
      "    >>> np.set_printoptions(formatter={'all':lambda x: 'int: '+str(-x)})\n",
      "    >>> x = np.arange(3)\n",
      "    >>> x\n",
      "    array([int: 0, int: -1, int: -2])\n",
      "    >>> np.set_printoptions()  # formatter gets reset\n",
      "    >>> x\n",
      "    array([0, 1, 2])\n",
      "\n",
      "    To put back the default options, you can use:\n",
      "\n",
      "    >>> np.set_printoptions(edgeitems=3, infstr='inf',\n",
      "    ... linewidth=75, nanstr='nan', precision=8,\n",
      "    ... suppress=False, threshold=1000, formatter=None)\n",
      "\n",
      "    Also to temporarily override options, use `printoptions`\n",
      "    as a context manager:\n",
      "\n",
      "    >>> with np.printoptions(precision=2, suppress=True, threshold=5):\n",
      "    ...     np.linspace(0, 10, 10)\n",
      "    array([ 0.  ,  1.11,  2.22, ...,  7.78,  8.89, 10.  ], shape=(10,))\n",
      "\n",
      "    \n"
     ]
    }
   ],
   "source": [
    "a = np.arange(10000)\n",
    "print(list(a))\n",
    "\n",
    "print(np.set_printoptions.__doc__)"
   ]
  },
  {
   "cell_type": "markdown",
   "id": "b580f9d0",
   "metadata": {},
   "source": [
    "#### 50. How to find the closest value (to a given scalar) in a vector? (★★☆)"
   ]
  },
  {
   "cell_type": "code",
   "execution_count": 63,
   "id": "ebfb6714",
   "metadata": {},
   "outputs": [
    {
     "data": {
      "text/plain": [
       "np.int32(6)"
      ]
     },
     "execution_count": 63,
     "metadata": {},
     "output_type": "execute_result"
    }
   ],
   "source": [
    "arr = np.random.randint(0,100,100)\n",
    "scalar = 5.75\n",
    "\n",
    "arr[np.argmin(np.abs(scalar - arr))]\n",
    "\n"
   ]
  }
 ],
 "metadata": {
  "kernelspec": {
   "display_name": "Python 3",
   "language": "python",
   "name": "python3"
  },
  "language_info": {
   "codemirror_mode": {
    "name": "ipython",
    "version": 3
   },
   "file_extension": ".py",
   "mimetype": "text/x-python",
   "name": "python",
   "nbconvert_exporter": "python",
   "pygments_lexer": "ipython3",
   "version": "3.11.9"
  }
 },
 "nbformat": 4,
 "nbformat_minor": 5
}
